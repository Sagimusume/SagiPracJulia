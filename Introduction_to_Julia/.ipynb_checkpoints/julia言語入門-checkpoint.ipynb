{
 "metadata": {
  "celltoolbar": "Slideshow",
  "language": "Julia",
  "name": "",
  "signature": "sha256:153403d9f366806b0eff5a89ce7a92fe636af13f81e1a88c3307cbfbd532f6bc"
 },
 "nbformat": 3,
 "nbformat_minor": 0,
 "worksheets": [
  {
   "cells": [
    {
     "cell_type": "markdown",
     "metadata": {
      "slideshow": {
       "slide_type": "slide"
      }
     },
     "source": [
      "# julia\u8a00\u8a9e \u5165\u9580  "
     ]
    },
    {
     "cell_type": "markdown",
     "metadata": {
      "slideshow": {
       "slide_type": "slide"
      }
     },
     "source": [
      "## \u76ee\u6b21 ##\n",
      "\n",
      "* \u53c2\u8003\u30b5\u30a4\u30c8\n",
      "* \u30a4\u30f3\u30b9\u30c8\u30fc\u30eb\u3001REPL\u3001Python\u3068\u306e\u9055\u3044\n",
      "* \u69cb\u6587\u3068\u30c7\u30fc\u30bf\u69cb\u9020\n",
      "* \u30d1\u30c3\u30b1\u30fc\u30b8\n",
      "* Task\n",
      "* \u95a2\u6570\n",
      "* \u30e1\u30bf\u30d7\u30ed\u30b0\u30e9\u30df\u30f3\u30b0\u3068\u30de\u30af\u30ed\n",
      "* IO\n",
      "* \u30e2\u30b8\u30e5\u30fc\u30eb\n",
      "* \u578b\n",
      "* \u5916\u90e8\u30e9\u30a4\u30d6\u30e9\u30ea"
     ]
    },
    {
     "cell_type": "markdown",
     "metadata": {
      "slideshow": {
       "slide_type": "slide"
      }
     },
     "source": [
      "## \u53c2\u8003 ##\n",
      "\n",
      "* \u516c\u5f0f[\u30c9\u30ad\u30e5\u30e1\u30f3\u30c8](http://docs.julialang.org/en/release-0.3/#manual)\u304c\u3059\u3054\u304f\u5145\u5b9f\u3057\u3066\u3044\u307e\u3059\u3002\n",
      "* [julia adventCalender2014](http://qiita.com/advent-calendar/2014/julialang)\u306b\u306f\u3001\u65e5\u672c\u8a9e\u3067\u66f8\u304b\u308c\u305f\u826f\u3044\u8cc7\u6599\u304c\u305f\u304f\u3055\u3093\u3042\u308a\u307e\u3059\u3002 \n",
      "* \u4e2d\u3067\u3082[\u3053\u3053](http://bicycle1885.hatenablog.com/entry/2014/12/23/170745)\u306f\u65e5\u672c\u8a9e\u3067\u7dba\u9e97\u306b\u3088\u304f\u307e\u3068\u3081\u3089\u308c\u3066\u3044\u307e\u3059\u3002  \n",
      "* \u82f1\u8a9e\u3067\u3059\u304c[\u3053\u3053](http://quant-econ.net/jl/index.html)\u306e\u30b5\u30a4\u30c8\u3067\u306f\u6a5f\u68b0\u5b66\u7fd2\u306e\u30c1\u30e5\u30fc\u30c8\u30ea\u30a2\u30eb\u3092\u517c\u306d\u305fjulia\u8a00\u8a9e\u306e\u5165\u9580\u304c\u3067\u304d\u307e\u3059\n",
      "* \u30e9\u30a4\u30d6\u30e9\u30ea\u306f\u7528\u9014\u3054\u3068\u306b[\u3053\u3053](http://svaksha.github.io/Julia.jl/)\u306b\u307e\u3068\u3081\u3089\u308c\u3066\u3044\u307e\u3059\u3002\u516c\u5f0f\u30e9\u30a4\u30d6\u30e9\u30ea\u306f[\u3053\u3053]()\u3067\u3059\u3002\n",
      "* \u304b\u306a\u308a\u30b3\u30a2\u306a\u8a71\u3067\u3059\u304c\u8a00\u8a9e\u8a2d\u8a08\u306b\u3064\u3044\u3066\u306f\u3053\u306e[\u8ad6\u6587](http://arxiv.org/pdf/1209.5145v1.pdf)\u304c\u3044\u3044\u3089\u3057\u3044\u3067\u3059\u3002"
     ]
    },
    {
     "cell_type": "markdown",
     "metadata": {
      "slideshow": {
       "slide_type": "slide"
      }
     },
     "source": [
      "### \u30a4\u30f3\u30b9\u30c8\u30fc\u30eb ###\n",
      "\n",
      "* [\u3053\u3053](http://julialang.org/downloads/)\u304b\u3089\u30d7\u30e9\u30c3\u30c8\u30d5\u30a9\u30fc\u30e0\u306b\u5408\u308f\u305b\u305f\u30d1\u30c3\u30b1\u30fc\u30b8\u3092\u843d\u3068\u3057\u3066\u304f\u3060\u3055\u3044\u3002\n",
      "    * \u30b3\u30de\u30f3\u30c9\u30e9\u30a4\u30f3\u30d0\u30fc\u30b8\u30e7\u30f3\u3068Juno(Light Table\u3068\u3044\u3046\u30c6\u30ad\u30b9\u30c8\u30a8\u30c7\u30a3\u30bf\u4e0a\u306b\u69cb\u7bc9\u3055\u308c\u305fJulia\u5b9f\u884c\u74b0\u5883)\u3078\u306e\u30ea\u30f3\u30af\u304c\u3042\u308a\u307e\u3059\n",
      "* osx\u306e\u5834\u5408\u4ee5\u4e0b\u306e\u3088\u3046\u306aalias\u3092\u8cbc\u308b\u3068\u826f\u3044\u3067\u3059\n",
      "\n",
      "    ```alias julia=\"/Applications/Julia-0.3.7.app/Contents/Resources/julia/bin/julia\"```"
     ]
    },
    {
     "cell_type": "markdown",
     "metadata": {
      "slideshow": {
       "slide_type": "slide"
      }
     },
     "source": [
      "\n",
      "REPL\u304c\u4f7f\u3044\u3084\u3059\u3044\u3067\u3059\u3002\n",
      "\n",
      "* `<tab>`  \u3067\u88dc\u5b8c  \n",
      "\n",
      "* ?   \u3067\"help\"\u306e\u547c\u3073\u51fa\u3057\u3002  \n",
      "* \\alpha`<tab>`   \u3067 tex like \u306aUnicode\u6587\u5b57\u3078\u306e\u5909\u63db\u3002(\u3053\u306e\u5834\u5408\u306f\u03b1\u304c\u51fa\u529b\u3055\u308c\u308b)\n",
      "* **\";\"**   \u3067 \"shell\"\u306e\u547c\u3073\u51fa\u3057\u3002  \n",
      "* **\u95a2\u6570\u540d.env`<tab>**\u3067\u95a2\u6570\u306e\u30ea\u30b9\u30c8\u3092\u51fa\u529b\u3057\u307e\u3059\u3002\n",
      "    * \u30aa\u30fc\u30d0\u30fc\u30ed\u30fc\u30c9\u3055\u308c\u305f\u95a2\u6570\u306e\u4e00\u89a7\u304c\u8868\u793a\n",
      "\n",
      "_____"
     ]
    },
    {
     "cell_type": "code",
     "collapsed": false,
     "input": [
      "sum.env"
     ],
     "language": "python",
     "metadata": {
      "slideshow": {
       "slide_type": "subslide"
      }
     },
     "outputs": [
      {
       "html": [
        "13 methods for generic function <b>sum</b>:<ul><li> sum(x::<b>(Any,Any...)</b>) at <a href=\"https://github.com/JuliaLang/julia/tree/cb9bcae93a32b42cec02585c387396ff11836aed/base/tuple.jl#L119\" target=\"_blank\">tuple.jl:119</a><li> sum<i>{T<:Real}</i>(r::<b>Range{T<:Real}</b>) at <a href=\"https://github.com/JuliaLang/julia/tree/cb9bcae93a32b42cec02585c387396ff11836aed/base/range.jl#L542\" target=\"_blank\">range.jl:542</a><li> sum(f::<b>Union(Func{1},Function)</b>,A::<b>AbstractArray{T,N}</b>,region) at <a href=\"https://github.com/JuliaLang/julia/tree/cb9bcae93a32b42cec02585c387396ff11836aed/base/reducedim.jl#L224\" target=\"_blank\">reducedim.jl:224</a><li> sum(f::<b>Union(DataType,Func{1},Function)</b>,a) at <a href=\"https://github.com/JuliaLang/julia/tree/cb9bcae93a32b42cec02585c387396ff11836aed/base/reduce.jl#L239\" target=\"_blank\">reduce.jl:239</a><li> sum(A::<b>BitArray{N}</b>,region) at <a href=\"https://github.com/JuliaLang/julia/tree/cb9bcae93a32b42cec02585c387396ff11836aed/base/bitarray.jl#L1381\" target=\"_blank\">bitarray.jl:1381</a><li> sum(B::<b>BitArray{N}</b>) at <a href=\"https://github.com/JuliaLang/julia/tree/cb9bcae93a32b42cec02585c387396ff11836aed/base/bitarray.jl#L1382\" target=\"_blank\">bitarray.jl:1382</a><li> sum<i>{T}</i>(A::<b>SparseMatrixCSC{T,Ti<:Integer}</b>) at <a href=\"https://github.com/JuliaLang/julia/tree/cb9bcae93a32b42cec02585c387396ff11836aed/base/sparse/sparsematrix.jl#L747\" target=\"_blank\">sparse/sparsematrix.jl:747</a><li> sum<i>{T}</i>(A::<b>SparseMatrixCSC{T,Ti<:Integer}</b>,region) at <a href=\"https://github.com/JuliaLang/julia/tree/cb9bcae93a32b42cec02585c387396ff11836aed/base/sparse/sparsematrix.jl#L748\" target=\"_blank\">sparse/sparsematrix.jl:748</a><li> sum(a::<b>AbstractArray{Bool,N}</b>) at <a href=\"https://github.com/JuliaLang/julia/tree/cb9bcae93a32b42cec02585c387396ff11836aed/base/reduce.jl#L241\" target=\"_blank\">reduce.jl:241</a><li> sum(arr::<b>AbstractArray{BigInt,N}</b>) at <a href=\"https://github.com/JuliaLang/julia/tree/cb9bcae93a32b42cec02585c387396ff11836aed/base/gmp.jl#L394\" target=\"_blank\">gmp.jl:394</a><li> sum(arr::<b>AbstractArray{BigFloat,N}</b>) at <a href=\"https://github.com/JuliaLang/julia/tree/cb9bcae93a32b42cec02585c387396ff11836aed/base/mpfr.jl#L474\" target=\"_blank\">mpfr.jl:474</a><li> sum(A::<b>AbstractArray{T,N}</b>,region) at <a href=\"https://github.com/JuliaLang/julia/tree/cb9bcae93a32b42cec02585c387396ff11836aed/base/reducedim.jl#L226\" target=\"_blank\">reducedim.jl:226</a><li> sum(a) at <a href=\"https://github.com/JuliaLang/julia/tree/cb9bcae93a32b42cec02585c387396ff11836aed/base/reduce.jl#L240\" target=\"_blank\">reduce.jl:240</a></ul>"
       ],
       "metadata": {},
       "output_type": "pyout",
       "prompt_number": 1,
       "text": [
        "# 13 methods for generic function \"sum\":\n",
        "sum(x::(Any,Any...)) at tuple.jl:119\n",
        "sum{T<:Real}(r::Range{T<:Real}) at range.jl:542\n",
        "sum(f::Union(Func{1},Function),A::AbstractArray{T,N},region) at reducedim.jl:224\n",
        "sum(f::Union(DataType,Func{1},Function),a) at reduce.jl:239\n",
        "sum(A::BitArray{N},region) at bitarray.jl:1381\n",
        "sum(B::BitArray{N}) at bitarray.jl:1382\n",
        "sum{T}(A::SparseMatrixCSC{T,Ti<:Integer}) at sparse/sparsematrix.jl:747\n",
        "sum{T}(A::SparseMatrixCSC{T,Ti<:Integer},region) at sparse/sparsematrix.jl:748\n",
        "sum(a::AbstractArray{Bool,N}) at reduce.jl:241\n",
        "sum(arr::AbstractArray{BigInt,N}) at gmp.jl:394\n",
        "sum(arr::AbstractArray{BigFloat,N}) at mpfr.jl:474\n",
        "sum(A::AbstractArray{T,N},region) at reducedim.jl:226\n",
        "sum(a) at reduce.jl:240"
       ]
      }
     ],
     "prompt_number": 1
    },
    {
     "cell_type": "markdown",
     "metadata": {
      "slideshow": {
       "slide_type": "slide"
      }
     },
     "source": [
      "\n",
      "\n",
      "##python\u3068\u306e\u9055\u3044\u306f?\n",
      "\u57fa\u672c\u7684\u306a\u6587\u6cd5\u306f\u307b\u3068\u3093\u3069python\u3068\u540c\u3058\u3067\u3059\u3002  \n",
      "\u95a2\u6570\u306fmatlab\u3068\u4f3c\u305f\u3082\u306e\u304c\u591a\u304b\u3063\u305f\u306e\u3067\u3059\u304c\u3001\u73fe\u5728\u306f\u591a\u5c11\u5909\u308f\u308a\u3064\u3064\u3042\u308a\u307e\u3059\u3002\n",
      "\n",
      "____\n",
      "\n",
      "\u4e3b\u306a\u9055\u3044\u306f[Noteworthy Differences...](http://docs.julialang.org/en/release-0.3/manual/noteworthy-differences/)\u306b\u826f\u304f\u307e\u3068\u307e\u3063\u3066\u3044\u307e\u3059\u3002\n",
      "* \u914d\u5217\u306e\u30a4\u30f3\u30c7\u30c3\u30af\u30b9\u306f \"1\" \u304b\u3089\u59cb\u307e\u308b\u3002\n",
      "* \u914d\u5217\u306e\u6700\u5f8c\u306e\u8981\u7d20\u306e\u6307\u5b9a\u306f\"-1\" \u3067\u306a\u304f\"end\"\u3002\n",
      "* \"Comprehensions\"\u306f\u307e\u3060\"for\" \u306e\u307f\u5229\u7528\u53ef\u80fd?\n",
      "* julia\u306e\"\u914d\u5217\"\u306f\"*\u5217(Column)*\"\u304c\u30e1\u30a4\u30f3\u3067\u3059\u3002\n",
      "* \"return\"\u304c\u306a\u304f\u3066\u3082\u3001\u6700\u5f8c\u306b\u8a55\u4fa1\u3055\u308c\u305f\u3082\u306e\u304c\u5e30\u3063\u3066\u304d\u307e\u3059\u3002\n",
      "* for\u306a\u3069\u306b\u30b9\u30b3\u30fc\u30d7\u304c\u3042\u308a\u307e\u3059\n",
      "* end\u6587\u304c\u3064\u304d\u307e\u3059 ruby\u3068\u540c\u3058\u3067\u3059\n",
      "\n",
      "\u306a\u3069\u304c\u3042\u308a\u307e\u3059\u3002\n"
     ]
    },
    {
     "cell_type": "code",
     "collapsed": false,
     "input": [
      "# python\u306e\u30ea\u30b9\u30c8\u5185\u5305\u8868\u8a18\u306e\u3088\u3046\u306b\u914d\u5217\u304c\u751f\u6210\u53ef\u80fd\n",
      "A = [i for i = 1:9] #Comprehensions\n",
      "\n",
      "# 3x3\u884c\u5217\u306b\u6574\u5f62(\u5217\u65b9\u5411\u304b\u3089\u9806\u306b\u57cb\u307e\u308b)\n",
      "B = reshape(A,3,3)"
     ],
     "language": "python",
     "metadata": {
      "slideshow": {
       "slide_type": "subslide"
      }
     },
     "outputs": [
      {
       "metadata": {},
       "output_type": "pyout",
       "prompt_number": 2,
       "text": [
        "3x3 Array{Int64,2}:\n",
        " 1  4  7\n",
        " 2  5  8\n",
        " 3  6  9"
       ]
      }
     ],
     "prompt_number": 2
    },
    {
     "cell_type": "code",
     "collapsed": false,
     "input": [
      "# 1-origin\n",
      "B[1,2]"
     ],
     "language": "python",
     "metadata": {
      "slideshow": {
       "slide_type": "-"
      }
     },
     "outputs": [
      {
       "metadata": {},
       "output_type": "pyout",
       "prompt_number": 3,
       "text": [
        "4"
       ]
      }
     ],
     "prompt_number": 3
    },
    {
     "cell_type": "code",
     "collapsed": false,
     "input": [
      "# \u884c\u5217\u306b\u5bfe\u30571\u6b21\u5143\u7684\u306b\u30a2\u30af\u30bb\u30b9\n",
      "# 1\u884c2\u5217\u76ee\u3078\u306e\u30a2\u30af\u30bb\u30b9\u3068\u306a\u308b\n",
      "println(B[4])\n",
      "A[4] == B[4]"
     ],
     "language": "python",
     "metadata": {
      "slideshow": {
       "slide_type": "subslide"
      }
     },
     "outputs": [
      {
       "output_type": "stream",
       "stream": "stdout",
       "text": [
        "4\n"
       ]
      },
      {
       "metadata": {},
       "output_type": "pyout",
       "prompt_number": 4,
       "text": [
        "true"
       ]
      }
     ],
     "prompt_number": 4
    },
    {
     "cell_type": "markdown",
     "metadata": {
      "slideshow": {
       "slide_type": "slide"
      }
     },
     "source": [
      "## \u69cb\u6587\n",
      "\n",
      "* \u57fa\u672c\u7684\u306a\u69cb\u6587\u306f\u3001\u307b\u3068\u3093\u3069python\u3068\u540c\u3058\u3067\u3059\u3002\n",
      "\n",
      "### \u30b3\u30e1\u30f3\u30c8"
     ]
    },
    {
     "cell_type": "code",
     "collapsed": false,
     "input": [
      "# \u5358\u4e00\u884c\u30b3\u30e1\u30f3\u30c8\n",
      "\n",
      "#=\n",
      " \u8907\u6570\u884c\u30b3\u30e1\u30f3\u30c8\n",
      " #= \u30cd\u30b9\u30c8\u3082\u53ef\u80fd =#\n",
      " =#"
     ],
     "language": "python",
     "metadata": {
      "slideshow": {
       "slide_type": "-"
      }
     },
     "outputs": [],
     "prompt_number": 5
    },
    {
     "cell_type": "markdown",
     "metadata": {
      "slideshow": {
       "slide_type": "slide"
      }
     },
     "source": [
      "### for \u30eb\u30fc\u30d7"
     ]
    },
    {
     "cell_type": "code",
     "collapsed": false,
     "input": [
      "for i = 1:10 \n",
      "    if i%3 != 0\n",
      "        continue \n",
      "    end\n",
      "    println(i)\n",
      "end"
     ],
     "language": "python",
     "metadata": {
      "slideshow": {
       "slide_type": "-"
      }
     },
     "outputs": [
      {
       "output_type": "stream",
       "stream": "stdout",
       "text": [
        "3\n"
       ]
      },
      {
       "output_type": "stream",
       "stream": "stdout",
       "text": [
        "6\n",
        "9\n"
       ]
      }
     ],
     "prompt_number": 6
    },
    {
     "cell_type": "markdown",
     "metadata": {
      "slideshow": {
       "slide_type": "slide"
      }
     },
     "source": [
      "### if elseif else\u3000\u4e09\u9805\u6f14\u7b97\u5b50"
     ]
    },
    {
     "cell_type": "code",
     "collapsed": false,
     "input": [
      "#\u6761\u4ef6\u5206\u5c90\n",
      "function test(x, y)\n",
      "    if x < y\n",
      "        println(\"x is less than y\")\n",
      "    elseif x > y\n",
      "        println(\"x is greater than y\")\n",
      "    else\n",
      "        println(\"x is equal to y\")\n",
      "    end\n",
      "end\n",
      "\n",
      "#\u4e09\u9805\u6f14\u7b97\u5b50\n",
      "#\u30d5\u30a3\u30dc\u30ca\u30c3\u30c1\u6570\u5217\n",
      "fib(n) = n < 2 ? n : fib(n -1) + fib(n - 2)\n",
      "\n",
      "#\u30a2\u30c3\u30ab\u30fc\u30de\u30f3\u95a2\u6570\n",
      "Ack(m, n) = m == 0 ? n + 1:\n",
      "            n == 0 ? Ack(m - 1, 1): Ack(m - 1, Ack(m, n - 1))"
     ],
     "language": "python",
     "metadata": {
      "slideshow": {
       "slide_type": "-"
      }
     },
     "outputs": [
      {
       "metadata": {},
       "output_type": "pyout",
       "prompt_number": 7,
       "text": [
        "Ack (generic function with 1 method)"
       ]
      }
     ],
     "prompt_number": 7
    },
    {
     "cell_type": "code",
     "collapsed": false,
     "input": [
      "test(2, 3)\n",
      "println([fib(i) for i = 1:20])\n",
      "println(Ack(0, 3))  # = 3 + 1 = 4\n",
      "println(Ack(2, 0))  # = Ack(1, 1) = Ack(0, Ack(1, 0)) = Ack(1, 0) + 1 = Ack(0, 1) + 1 = 2 + 1 = 3\n",
      "println(Ack(3, 4))  # = 125"
     ],
     "language": "python",
     "metadata": {
      "slideshow": {
       "slide_type": "subslide"
      }
     },
     "outputs": [
      {
       "output_type": "stream",
       "stream": "stdout",
       "text": [
        "x is less than y"
       ]
      },
      {
       "output_type": "stream",
       "stream": "stdout",
       "text": [
        "\n"
       ]
      },
      {
       "output_type": "stream",
       "stream": "stdout",
       "text": [
        "[1,1,2,3,5,8,13,21,34,55,89,144,233,377,610,987,1597,2584,4181,6765]\n",
        "4\n",
        "3\n",
        "125\n"
       ]
      }
     ],
     "prompt_number": 8
    },
    {
     "cell_type": "markdown",
     "metadata": {
      "slideshow": {
       "slide_type": "slide"
      }
     },
     "source": [
      "###Short-Circuit Evaluation\n",
      "\n",
      "\n",
      "* \"**&&**\"  \u524d\u4ef6\u304c\u771f\u3067\u3042\u308b\u306a\u3089\u3070\u3001\u4ee5\u964d\u304c\u51e6\u7406\u3055\u308c\u308b\n",
      "* \"**||**\"  \u524d\u4ef6\u304c\u507d\u3067\u3042\u308b\u306a\u3089\u3070\u3001\u4ee5\u964d\u304c\u51e6\u7406\u3055\u308c\u308b"
     ]
    },
    {
     "cell_type": "code",
     "collapsed": false,
     "input": [
      "n = 57; \n",
      "isprime(n) && \"It's a prime!\""
     ],
     "language": "python",
     "metadata": {},
     "outputs": [
      {
       "metadata": {},
       "output_type": "pyout",
       "prompt_number": 29,
       "text": [
        "false"
       ]
      }
     ],
     "prompt_number": 29
    },
    {
     "cell_type": "code",
     "collapsed": false,
     "input": [
      "isprime(n) || \"It's not a prime!\""
     ],
     "language": "python",
     "metadata": {},
     "outputs": [
      {
       "metadata": {},
       "output_type": "pyout",
       "prompt_number": 30,
       "text": [
        "\"It's not a prime!\""
       ]
      }
     ],
     "prompt_number": 30
    },
    {
     "cell_type": "code",
     "collapsed": false,
     "input": [
      "function factorial(n::Int)\n",
      "           n >= 0 || error(\"n must be non-negative\")\n",
      "           n == 0 && return 1\n",
      "           n * factorial(n-1)\n",
      "end"
     ],
     "language": "python",
     "metadata": {},
     "outputs": [
      {
       "metadata": {},
       "output_type": "pyout",
       "prompt_number": 31,
       "text": [
        "factorial (generic function with 1 method)"
       ]
      }
     ],
     "prompt_number": 31
    },
    {
     "cell_type": "markdown",
     "metadata": {
      "slideshow": {
       "slide_type": "slide"
      }
     },
     "source": [
      "### while "
     ]
    },
    {
     "cell_type": "code",
     "collapsed": false,
     "input": [
      "n = 100\n",
      "while true\n",
      "    @show n   # @show\u306f\u826f\u3044\u611f\u3058\u306b\u5909\u6570\u3092\u8868\u793a\u3057\u3066\u304f\u308c\u308b\u30de\u30af\u30ed\n",
      "    if n < 90\n",
      "        break\n",
      "    end\n",
      "    n -= 1\n",
      "end"
     ],
     "language": "python",
     "metadata": {
      "slideshow": {
       "slide_type": "-"
      }
     },
     "outputs": [
      {
       "output_type": "stream",
       "stream": "stdout",
       "text": [
        "n => 100\n",
        "n => 99\n",
        "n => 98\n",
        "n => 97\n",
        "n => 96\n",
        "n => 95\n",
        "n => 94\n",
        "n => 93\n",
        "n => 92\n",
        "n => 91\n",
        "n => 90\n",
        "n => 89\n"
       ]
      }
     ],
     "prompt_number": 9
    },
    {
     "cell_type": "markdown",
     "metadata": {
      "slideshow": {
       "slide_type": "slide"
      }
     },
     "source": [
      "###\u30d6\u30ed\u30c3\u30af\u69cb\u6587 begin~end, let~end\n",
      "___\n",
      "\n",
      "* \u30d6\u30ed\u30c3\u30af\u3092\u5f62\u6210\u3059\u308b\u69cb\u6587\u3068\u3057\u306a\u3044\u69cb\u6587\u304c\u5b58\u5728\n",
      "    * function, while, for, try, catch, finally, let, type\u306f\u30b9\u30b3\u30fc\u30d7\u3092\u5f62\u6210\n",
      "    * begin, if\u306f\u65b0\u3057\u304f\u30b9\u30b3\u30fc\u30d7\u3092\u5f62\u6210\u3057\u306a\u3044\n",
      "    * \u95a2\u6570\u306f\u30ec\u30ad\u30b7\u30ab\u30eb\u30b9\u30b3\u30fc\u30d7\u3092\u6301\u3064\n",
      "* \u8a73\u3057\u304f\u306f[\u3053\u3053](http://docs.julialang.org/en/release-0.3/manual/variables-and-scoping/)\u53c2\u7167"
     ]
    },
    {
     "cell_type": "code",
     "collapsed": false,
     "input": [
      "begin\n",
      "    local x = 1\n",
      "    begin\n",
      "        local x = 2\n",
      "    end\n",
      "    x\n",
      "end"
     ],
     "language": "python",
     "metadata": {
      "slideshow": {
       "slide_type": "subslide"
      }
     },
     "outputs": [
      {
       "ename": "LoadError",
       "evalue": "syntax: local \"x\" declared twice\nwhile loading In[10], in expression starting on line 7",
       "output_type": "pyerr",
       "traceback": [
        "syntax: local \"x\" declared twice\nwhile loading In[10], in expression starting on line 7",
        ""
       ]
      }
     ],
     "prompt_number": 10
    },
    {
     "cell_type": "code",
     "collapsed": false,
     "input": [
      "begin\n",
      "    local x = 1\n",
      "    let\n",
      "      local x = 2\n",
      "    end\n",
      "    x\n",
      "end"
     ],
     "language": "python",
     "metadata": {
      "slideshow": {
       "slide_type": "subslide"
      }
     },
     "outputs": [
      {
       "metadata": {},
       "output_type": "pyout",
       "prompt_number": 11,
       "text": [
        "1"
       ]
      }
     ],
     "prompt_number": 11
    },
    {
     "cell_type": "markdown",
     "metadata": {
      "slideshow": {
       "slide_type": "slide"
      }
     },
     "source": [
      "### \u4f8b\u5916\u51e6\u7406 try ~ catch\n",
      "\n",
      "* [\u4f8b\u5916](http://docs.julialang.org/en/release-0.3/manual/control-flow/#built-in-exceptions)\n",
      "* finally\u3082\u5b58\u5728"
     ]
    },
    {
     "cell_type": "code",
     "collapsed": false,
     "input": [
      "sqrt_second(x) = try\n",
      "    sqrt(x[2])\n",
      "    catch y\n",
      "    if isa(y, DomainError)  # \u9818\u57df\u5916\u30a8\u30e9\u30fc(\u30eb\u30fc\u30c8\u306e\u4e2d\u8eab\u304c\u8ca0\u306e\u5834\u5408)\n",
      "        sqrt(complex(x[2], 0))\n",
      "    elseif isa(y, BoundsError)  # \u7bc4\u56f2\u5916\u30a8\u30e9\u30fc(x\u304c\u914d\u5217\u3067\u306a\u3044\u5834\u5408)\n",
      "        sqrt(x)\n",
      "    end\n",
      "end\n",
      "\n",
      "println(sqrt_second([1 2]))\n",
      "println(sqrt_second([0 -1]))  # DomainError\n",
      "println(sqrt_second(3))  # BoundsError"
     ],
     "language": "python",
     "metadata": {
      "slideshow": {
       "slide_type": "-"
      }
     },
     "outputs": [
      {
       "output_type": "stream",
       "stream": "stdout",
       "text": [
        "1."
       ]
      },
      {
       "output_type": "stream",
       "stream": "stdout",
       "text": [
        "4142135623730951\n",
        "0.0 + 1.0im\n",
        "1.7320508075688772\n"
       ]
      }
     ],
     "prompt_number": 12
    },
    {
     "cell_type": "markdown",
     "metadata": {
      "slideshow": {
       "slide_type": "slide"
      }
     },
     "source": [
      "##\u914d\u5217\u30fb\u591a\u6b21\u5143\u914d\u5217\n",
      "____\n",
      "\n",
      "* \u591a\u6b21\u5143\u914d\u5217\u306f, Array(\u578b,(\u6b21\u5143))\u306b\u3088\u3063\u3066\u5b9a\u7fa9\n",
      "* \u914d\u5217\u306e\u30a4\u30f3\u30c7\u30c3\u30af\u30b9\u306f\u3000**A[\u884c,\u5217]**\u3000\u3067\u6307\u5b9a\n",
      "* \u30a4\u30f3\u30c7\u30c3\u30af\u30b9\u306f1\u59cb\u307e\u308a\n",
      "* for\u30eb\u30fc\u30d7\u3067\u5229\u7528\u3059\u308b\u969b\u306f\u5217\u65b9\u5411\u306b\u8d70\u67fb\n",
      "* [\u3053\u3053](http://julia.readthedocs.org/en/latest/manual/arrays/)\u304c\u8a73\u3057\u3044!"
     ]
    },
    {
     "cell_type": "markdown",
     "metadata": {
      "slideshow": {
       "slide_type": "subslide"
      }
     },
     "source": [
      "##\u5bc6\u884c\u5217\u3000\u3000\n",
      "\n",
      "* Array(type, dims...)    \n",
      "    * **\u521d\u671f\u5316\u3055\u308c\u3066\u3044\u306a\u3044\u914d\u5217  **\n",
      "* [1, 2, 3, 4, ...]\n",
      "    * **\u30ea\u30c6\u30e9\u30eb\u306b\u3088\u308b\u914d\u5217(\u30d9\u30af\u30c8\u30eb)\u5b9a\u7fa9**\n",
      "* [1 2 3 4]\n",
      "    * **\u30ea\u30c6\u30e9\u30eb\u306b\u3088\u308b\u884c\u5217\u5b9a\u7fa9**\n",
      "* [1:2:10]  \n",
      "    * **1\u304b\u30892\u3065\u3064\uff11\uff10\u307e\u3067**"
     ]
    },
    {
     "cell_type": "markdown",
     "metadata": {
      "slideshow": {
       "slide_type": "subslide"
      }
     },
     "source": [
      "* cell(type, dims...)  \n",
      "    **\u521d\u671f\u5316\u3055\u308c\u3066\u3044\u306a\u3044\u30bb\u30eb\u914d\u5217  **\n",
      "* zeros(type, dims...)  \n",
      "    **\uff10\u914d\u5217  **\n",
      "* ones(type, dims...)  \n",
      "    **\uff11\u914d\u5217  **\n",
      "* eye(type, dims)  \n",
      "    **\u5358\u4f4d\u884c\u5217  **"
     ]
    },
    {
     "cell_type": "code",
     "collapsed": false,
     "input": [
      "# \u521d\u671f\u5316\u3055\u308c\u3066\u3044\u306a\u3044\u914d\u5217\n",
      "A = Array(Int,2,3)\n",
      "\n",
      "# 100\u304b\u30891\u306b\u30b9\u30c6\u30c3\u30d7-3\u3067\u964d\u4e0b\u3059\u308b\u914d\u5217\n",
      "B = [100:-3:1]\n",
      "\n",
      "println(A); println(typeof(A));\n",
      "println(B); println(typeof(B));"
     ],
     "language": "python",
     "metadata": {
      "slideshow": {
       "slide_type": "subslide"
      }
     },
     "outputs": [
      {
       "output_type": "stream",
       "stream": "stdout",
       "text": [
        "["
       ]
      },
      {
       "output_type": "stream",
       "stream": "stdout",
       "text": [
        "140636749695872 140636749695872 140636749695872\n",
        " 140636749695872 140636749695744 140636749695872]\n",
        "Array{Int64,2}\n",
        "[100,97,94,91,88,85,82,79,76,73,70,67,64,61,58,55,52,49,46,43,40,37,34,31,28,25,22,19,16,13,10,7,4,1]\n",
        "Array{Int64,1}\n"
       ]
      }
     ],
     "prompt_number": 13
    },
    {
     "cell_type": "code",
     "collapsed": false,
     "input": [
      "# \u3053\u308c\u306f4x1\u30d9\u30af\u30c8\u30eb(\u7e26\u30d9\u30af\u30c8\u30eb)\n",
      "println([1,2,3,4])\n",
      "println(typeof([1,2,3,4]))\n",
      "\n",
      "# \u3053\u308c\u306f1x4\u30d9\u30af\u30c8\u30eb(\u6a2a\u30d9\u30af\u30c8\u30eb)\n",
      "println([1 2 3 4])\n",
      "println(typeof([1 2 3 4]))\n",
      "\n",
      "# \u3053\u308c\u306f2x4(\u884c\u5217)\n",
      "println([[1,2] [3,4]])\n",
      "println(typeof([[1,2] [3,4]]))\n",
      "\n",
      "# \u3053\u308c\u3082\u540c\u3058\n",
      "println([1 3; 2 4])\n",
      "println(typeof([1 3; 2 4]))"
     ],
     "language": "python",
     "metadata": {
      "slideshow": {
       "slide_type": "subslide"
      }
     },
     "outputs": [
      {
       "output_type": "stream",
       "stream": "stdout",
       "text": [
        "[1,2,3,4]\n",
        "Array{Int64,1}\n",
        "[1 2 3 4]\n",
        "Array{Int64,2}\n",
        "["
       ]
      },
      {
       "output_type": "stream",
       "stream": "stdout",
       "text": [
        "1 3\n",
        " 2 4]\n",
        "Array{Int64,2}\n",
        "[1 3\n",
        " 2 4]\n",
        "Array{Int64,2}\n"
       ]
      }
     ],
     "prompt_number": 14
    },
    {
     "cell_type": "code",
     "collapsed": false,
     "input": [
      "# 10x2\u306e\u30bb\u30eb\u914d\u5217\n",
      "# \u578b\u3092\u6df7\u5728\u3055\u305b\u3089\u308c\u308b\n",
      "B = cell(10,2)\n",
      "println(B)\n",
      "\n",
      "B[1,2] = \"1x2\"\n",
      "B[5,1] = 1.0\n",
      "println(B)"
     ],
     "language": "python",
     "metadata": {
      "slideshow": {
       "slide_type": "subslide"
      }
     },
     "outputs": [
      {
       "output_type": "stream",
       "stream": "stdout",
       "text": [
        "Any["
       ]
      },
      {
       "output_type": "stream",
       "stream": "stdout",
       "text": [
        "#undef #undef\n",
        "    #undef #undef\n",
        "    #undef #undef\n",
        "    #undef #undef\n",
        "    #undef #undef\n",
        "    #undef #undef\n",
        "    #undef #undef\n",
        "    #undef #undef\n",
        "    #undef #undef\n",
        "    #undef #undef]\n",
        "Any[#undef \"1x2\"\n",
        "    #undef #undef\n",
        "    #undef #undef\n",
        "    #undef #undef\n",
        "    1.0 #undef\n",
        "    #undef #undef\n",
        "    #undef #undef\n",
        "    #undef #undef\n",
        "    #undef #undef\n",
        "    #undef #undef]\n"
       ]
      }
     ],
     "prompt_number": 15
    },
    {
     "cell_type": "code",
     "collapsed": false,
     "input": [
      "# \u4e71\u6570\n",
      "C = rand(10)\n",
      "C"
     ],
     "language": "python",
     "metadata": {
      "slideshow": {
       "slide_type": "subslide"
      }
     },
     "outputs": [
      {
       "metadata": {},
       "output_type": "pyout",
       "prompt_number": 16,
       "text": [
        "10-element Array{Float64,1}:\n",
        " 0.858086\n",
        " 0.852771\n",
        " 0.839123\n",
        " 0.435306\n",
        " 0.940582\n",
        " 0.101982\n",
        " 0.39239 \n",
        " 0.467384\n",
        " 0.63695 \n",
        " 0.516167"
       ]
      }
     ],
     "prompt_number": 16
    },
    {
     "cell_type": "code",
     "collapsed": false,
     "input": [
      "# \u914d\u5217\u306e\u914d\u5217\n",
      "D = Array(Array{Int64,2},10,3)\n",
      "D"
     ],
     "language": "python",
     "metadata": {
      "slideshow": {
       "slide_type": "subslide"
      }
     },
     "outputs": [
      {
       "metadata": {},
       "output_type": "pyout",
       "prompt_number": 17,
       "text": [
        "10x3 Array{Array{Int64,2},2}:\n",
        " #undef  #undef  #undef\n",
        " #undef  #undef  #undef\n",
        " #undef  #undef  #undef\n",
        " #undef  #undef  #undef\n",
        " #undef  #undef  #undef\n",
        " #undef  #undef  #undef\n",
        " #undef  #undef  #undef\n",
        " #undef  #undef  #undef\n",
        " #undef  #undef  #undef\n",
        " #undef  #undef  #undef"
       ]
      }
     ],
     "prompt_number": 17
    },
    {
     "cell_type": "code",
     "collapsed": false,
     "input": [
      "D[3,1] = rand(10)\n",
      "# julia\u3067\u306f\u578b\u306f\u660e\u793a\u7684\u306b\u30b3\u30f3\u30d0\u30fc\u30c8\u3057\u306a\u304f\u3066\u306f\u3044\u3051\u307e\u305b\u3093\u3002\n",
      "# \u578b\u304c\u7570\u306a\u308a\u3001\u30a8\u30e9\u30fc\u304c\u51fa\u307e\u3059\u3002"
     ],
     "language": "python",
     "metadata": {
      "slideshow": {
       "slide_type": "subslide"
      }
     },
     "outputs": [
      {
       "ename": "LoadError",
       "evalue": "`convert` has no method matching convert(::Type{Array{Int64,2}}, ::Array{Float64,1})\nwhile loading In[18], in expression starting on line 1",
       "output_type": "pyerr",
       "traceback": [
        "`convert` has no method matching convert(::Type{Array{Int64,2}}, ::Array{Float64,1})\nwhile loading In[18], in expression starting on line 1",
        "",
        " in setindex! at array.jl:308"
       ]
      }
     ],
     "prompt_number": 18
    },
    {
     "cell_type": "code",
     "collapsed": false,
     "input": [
      "# \u3053\u308c\u306a\u3089\u53ef\n",
      "D[3, 1] =[1 2]\n",
      "D"
     ],
     "language": "python",
     "metadata": {
      "slideshow": {
       "slide_type": "subslide"
      }
     },
     "outputs": [
      {
       "metadata": {},
       "output_type": "pyout",
       "prompt_number": 19,
       "text": [
        "10x3 Array{Array{Int64,2},2}:\n",
        " #undef                        #undef  #undef\n",
        " #undef                        #undef  #undef\n",
        "    1x2 Array{Int64,2}:\n",
        " 1  2  #undef  #undef\n",
        " #undef                        #undef  #undef\n",
        " #undef                        #undef  #undef\n",
        " #undef                        #undef  #undef\n",
        " #undef                        #undef  #undef\n",
        " #undef                        #undef  #undef\n",
        " #undef                        #undef  #undef\n",
        " #undef                        #undef  #undef"
       ]
      }
     ],
     "prompt_number": 19
    },
    {
     "cell_type": "code",
     "collapsed": false,
     "input": [
      "a = rand(0:10,10,10)"
     ],
     "language": "python",
     "metadata": {
      "slideshow": {
       "slide_type": "subslide"
      }
     },
     "outputs": [
      {
       "metadata": {},
       "output_type": "pyout",
       "prompt_number": 4,
       "text": [
        "10x10 Array{Int64,2}:\n",
        "  1  2  5   4   5   8   0  3  0  10\n",
        "  5  8  5   7   8   1  10  3  5   2\n",
        " 10  1  5   1   2   8   2  5  4   7\n",
        "  8  2  4   4   9   4  10  2  3   3\n",
        "  2  2  0   1   0  10   1  1  7   7\n",
        "  3  7  6   7   7   7   4  9  4  10\n",
        "  3  7  0   0   9   3  10  2  7   8\n",
        "  4  4  4  10  10   2   4  0  9   2\n",
        "  3  3  4   8   0   1   2  8  4  10\n",
        "  7  1  5   2  10   8   4  2  4   5"
       ]
      }
     ],
     "prompt_number": 4
    },
    {
     "cell_type": "code",
     "collapsed": false,
     "input": [
      "a[a.== 0] = 11\n",
      "a"
     ],
     "language": "python",
     "metadata": {
      "slideshow": {
       "slide_type": "subslide"
      }
     },
     "outputs": [
      {
       "metadata": {},
       "output_type": "pyout",
       "prompt_number": 7,
       "text": [
        "10x10 Array{Int64,2}:\n",
        "  1  2   5   4   5   8  11   3  11  10\n",
        "  5  8   5   7   8   1  10   3   5   2\n",
        " 10  1   5   1   2   8   2   5   4   7\n",
        "  8  2   4   4   9   4  10   2   3   3\n",
        "  2  2  11   1  11  10   1   1   7   7\n",
        "  3  7   6   7   7   7   4   9   4  10\n",
        "  3  7  11  11   9   3  10   2   7   8\n",
        "  4  4   4  10  10   2   4  11   9   2\n",
        "  3  3   4   8  11   1   2   8   4  10\n",
        "  7  1   5   2  10   8   4   2   4   5"
       ]
      }
     ],
     "prompt_number": 7
    },
    {
     "cell_type": "markdown",
     "metadata": {
      "slideshow": {
       "slide_type": "slide"
      }
     },
     "source": [
      "###\u6700\u5f8c\u306b\u914d\u5217\u306e\u30bd\u30fc\u30c8\u3067\u3059\u3002"
     ]
    },
    {
     "cell_type": "code",
     "collapsed": false,
     "input": [
      "#(collect,\u306fEnumu\u306a\u3069\u30a4\u30c6\u30ec\u30fc\u30bf\u30aa\u30d6\u30b8\u30a7\u30af\u30c8\u306e\u5c55\u958b\u306b\u7528\u3044\u307e\u3059)\n",
      "table = collect(enumerate(rand(1:100, 10))) "
     ],
     "language": "python",
     "metadata": {},
     "outputs": [
      {
       "metadata": {},
       "output_type": "pyout",
       "prompt_number": 1,
       "text": [
        "10-element Array{(Int64,Int64),1}:\n",
        " (1,43) \n",
        " (2,5)  \n",
        " (3,84) \n",
        " (4,60) \n",
        " (5,49) \n",
        " (6,24) \n",
        " (7,47) \n",
        " (8,84) \n",
        " (9,63) \n",
        " (10,76)"
       ]
      }
     ],
     "prompt_number": 1
    },
    {
     "cell_type": "code",
     "collapsed": false,
     "input": [
      "#Base.sort(v, [alg=<algorithm>,] [by=<transform>,] [lt=<comparison>,] [rev=false]), v\u4ee5\u5916\u306f\u540d\u524d\u3064\u304d\u5f15\u6570\u3067\u3059\u3002\n",
      "sort(table, by= x -> x[2])"
     ],
     "language": "python",
     "metadata": {
      "slideshow": {
       "slide_type": "subslide"
      }
     },
     "outputs": [
      {
       "metadata": {},
       "output_type": "pyout",
       "prompt_number": 2,
       "text": [
        "10-element Array{(Int64,Int64),1}:\n",
        " (2,5)  \n",
        " (6,24) \n",
        " (1,43) \n",
        " (7,47) \n",
        " (5,49) \n",
        " (4,60) \n",
        " (9,63) \n",
        " (10,76)\n",
        " (3,84) \n",
        " (8,84) "
       ]
      }
     ],
     "prompt_number": 2
    },
    {
     "cell_type": "code",
     "collapsed": false,
     "input": [
      "table=rand(1:4,10,10);\n",
      "sortrows(table, by = x -> (x[1], x[2], x[3]))"
     ],
     "language": "python",
     "metadata": {
      "slideshow": {
       "slide_type": "subslide"
      }
     },
     "outputs": [
      {
       "metadata": {},
       "output_type": "pyout",
       "prompt_number": 3,
       "text": [
        "10x10 Array{Int64,2}:\n",
        " 1  1  1  4  4  1  4  2  1  3\n",
        " 1  3  1  2  1  2  3  2  4  2\n",
        " 1  3  2  3  4  3  1  4  4  2\n",
        " 2  2  3  3  2  4  3  1  3  3\n",
        " 2  4  4  3  1  2  1  4  4  4\n",
        " 3  3  4  2  1  2  3  2  3  1\n",
        " 3  4  1  4  1  2  3  1  3  3\n",
        " 4  1  1  2  2  1  3  2  4  1\n",
        " 4  3  1  3  3  1  3  4  3  3\n",
        " 4  4  2  2  4  3  2  1  2  4"
       ]
      }
     ],
     "prompt_number": 3
    },
    {
     "cell_type": "markdown",
     "metadata": {
      "slideshow": {
       "slide_type": "subslide"
      }
     },
     "source": [
      "##\u758e\u884c\u5217\n",
      "\n",
      "* sparse(Array)  \n",
      "    * **\u5bc6\u884c\u5217**\u3092\u758e\u884c\u5217\u306b  \n",
      "* spzeros(type,dims...)  \n",
      "    * \u758e\u306a\u96f6\u884c\u5217  \n",
      "etc  "
     ]
    },
    {
     "cell_type": "markdown",
     "metadata": {
      "slideshow": {
       "slide_type": "slide"
      }
     },
     "source": [
      "##\u8f9e\u66f8(\u30cf\u30c3\u30b7\u30e5)\n",
      "\n",
      "* Dict{K,V}(key::Array{K}, value::Array{V})    \n",
      "* [key => value]  \n"
     ]
    },
    {
     "cell_type": "code",
     "collapsed": false,
     "input": [
      "Dict([\"a\", \"b\"], [1, 2])"
     ],
     "language": "python",
     "metadata": {
      "slideshow": {
       "slide_type": "subslide"
      }
     },
     "outputs": [
      {
       "metadata": {},
       "output_type": "pyout",
       "prompt_number": 20,
       "text": [
        "Dict{ASCIIString,Int64} with 2 entries:\n",
        "  \"b\" => 2\n",
        "  \"a\" => 1"
       ]
      }
     ],
     "prompt_number": 20
    },
    {
     "cell_type": "code",
     "collapsed": false,
     "input": [
      "# zip\u306f\u4e8c\u3064\u306e\u914d\u5217\u3092\u304f\u3063\u3064\u3051\u308b\n",
      "println(zip([\"a\", \"b\", \"c\"], [1, 2, 3]))\n",
      "\n",
      "# zip\u3055\u308c\u305f\u914d\u5217\u304b\u3089Dict\u3092\u4f5c\u6210\n",
      "Dict(zip(['a':'z'], [1:26]))"
     ],
     "language": "python",
     "metadata": {
      "slideshow": {
       "slide_type": "subslide"
      }
     },
     "outputs": [
      {
       "output_type": "stream",
       "stream": "stdout",
       "text": [
        "Zip2{"
       ]
      },
      {
       "output_type": "stream",
       "stream": "stdout",
       "text": [
        "Array{ASCIIString,1},Array{Int64,1}}(ASCIIString"
       ]
      },
      {
       "output_type": "stream",
       "stream": "stdout",
       "text": [
        "[\"a\",\"b\",\"c\"],[1,2,3])\n"
       ]
      },
      {
       "metadata": {},
       "output_type": "pyout",
       "prompt_number": 21,
       "text": [
        "Dict{Char,Int64} with 26 entries:\n",
        "  'd' => 4\n",
        "  'y' => 25\n",
        "  'b' => 2\n",
        "  'e' => 5\n",
        "  'r' => 18\n",
        "  'm' => 13\n",
        "  'k' => 11\n",
        "  'z' => 26\n",
        "  'f' => 6\n",
        "  'h' => 8\n",
        "  'w' => 23\n",
        "  'g' => 7\n",
        "  't' => 20\n",
        "  'n' => 14\n",
        "  'v' => 22\n",
        "  'o' => 15\n",
        "  'x' => 24\n",
        "  'u' => 21\n",
        "  'c' => 3\n",
        "  'p' => 16\n",
        "  'q' => 17\n",
        "  'a' => 1\n",
        "  'l' => 12\n",
        "  'j' => 10\n",
        "  'i' => 9\n",
        "  \u22ee   => \u22ee"
       ]
      }
     ],
     "prompt_number": 21
    },
    {
     "cell_type": "code",
     "collapsed": false,
     "input": [
      "# \u30ea\u30c6\u30e9\u30eb\u306b\u3088\u308b\u4f5c\u6210\u3082\u53ef\u80fd\n",
      "[\"a\" => 1, \"b\" => 2]"
     ],
     "language": "python",
     "metadata": {
      "slideshow": {
       "slide_type": "subslide"
      }
     },
     "outputs": [
      {
       "metadata": {},
       "output_type": "pyout",
       "prompt_number": 22,
       "text": [
        "Dict{ASCIIString,Int64} with 2 entries:\n",
        "  \"b\" => 2\n",
        "  \"a\" => 1"
       ]
      }
     ],
     "prompt_number": 22
    },
    {
     "cell_type": "markdown",
     "metadata": {
      "slideshow": {
       "slide_type": "slide"
      }
     },
     "source": [
      "### \u4e71\u6570\uff08\u30d1\u30c3\u30b1\u30fc\u30b8\u306e\u5229\u7528)\n",
      "\n",
      "* \u57fa\u672c\u7684\u306a\u4e71\u6570\u95a2\u6570\u306frand,randn,randperm\n",
      "* \u4e71\u6570\u767a\u751f\u306b\u306f\u5916\u90e8\u30e9\u30a4\u30d6\u30e9\u30ea\u306e **Distributions**\u3000\u304c\u3088\u304f\u7528\u3044\u3089\u308c\u308b"
     ]
    },
    {
     "cell_type": "markdown",
     "metadata": {
      "slideshow": {
       "slide_type": "subslide"
      }
     },
     "source": [
      "* \u30d1\u30c3\u30b1\u30fc\u30b8\u7ba1\u7406\u306f\u3001REPL\u3067\u884c\u3048\u307e\u3059\u3002  \n",
      "    * \u30d1\u30c3\u30b1\u30fc\u30b8\u306e\u8ffd\u52a0  \n",
      "        * Pkg.add(\"\u30d1\u30c3\u30b1\u30fc\u30b8\u540d\")  \n",
      "        * Pkg.clone(\"GitHub\u306eURL\") \n",
      "    * build\u304c\u5fc5\u8981\u306b\u306a\u308b\u5834\u5408  \n",
      "        Pkg.build(\"\u30d1\u30c3\u30b1\u30fc\u30b8\u540d\")\n",
      "    * julia\u3092\u518d\u30a4\u30f3\u30b9\u30c8\u30fc\u30eb\u3057\u305f\u6642\u306a\u3069\u306b\u5fa9\u5143\n",
      "        * Pkg.build()\n",
      "    * \u30d1\u30c3\u30b1\u30fc\u30b8\u306e\u524a\u9664  \n",
      "        * Pkg.rm(\"\u30d1\u30c3\u30b1\u30fc\u30b8\u540d\")"
     ]
    },
    {
     "cell_type": "code",
     "collapsed": false,
     "input": [
      "# \u30d1\u30c3\u30b1\u30fc\u30b8\u306e\u5229\u7528\n",
      "# using\u306b\u3088\u308a\u30e2\u30b8\u30e5\u30fc\u30eb\u304b\u3089export\u3055\u308c\u305f\u95a2\u6570\u3084\u578b\u306a\u3069\u304c\u5c55\u958b\u3055\u308c\u308b\n",
      "# \u30e2\u30b8\u30e5\u30fc\u30eb\u306b\u3064\u3044\u3066\u306f\u5f8c\u8ff0\n",
      "using Distributions\n",
      "\n",
      "# \u3057\u30fc\u3069(\u3081\u308b\u305b\u3093\u306c\u3064\u3044\u3059\u305f\u306e\uff09\n",
      "srand(1)\n",
      "\n",
      "#\u4e71\u6570(0<= x <= 1)\u3000\n",
      "B = rand(2,3) # 2*3 \u306e\u30e9\u30f3\u30c0\u30e0\u884c\u5217\n",
      "\n",
      "#\u6a19\u6e96\u6b63\u898f\u5206\u5e03\u304b\u3089\n",
      "C = randn(3,2)\n",
      "\n",
      "# Dirichlet\u5206\u5e03\u304b\u3089\n",
      "D = rand(Dirichlet([1/3,1/6,1/2]),10)\n",
      "\n",
      "println(B); println(C); println(D)"
     ],
     "language": "python",
     "metadata": {
      "slideshow": {
       "slide_type": "subslide"
      }
     },
     "outputs": [
      {
       "output_type": "stream",
       "stream": "stdout",
       "text": [
        "[0."
       ]
      },
      {
       "output_type": "stream",
       "stream": "stdout",
       "text": [
        "23603334566204692 0.3127069683360675 0.4886128300795012\n",
        " 0.34651701419196046 0.00790928339056074 0.21096820215853596]\n",
        "[2.2950878238373105 0.43142152642291204\n",
        " -2.2670863488005306 0.5837082875687786\n",
        " 0.5299655761667461 0.9632716050381906]\n",
        "[0.21277253533777463 0.001000859375057058 0.027248365478613413 0.0033819053335193603 0.3482953059346332 0.7749392671700108 0.9995441930061966 0.4858778629241941 0.08677936410591566 0.4876184485416111\n",
        " 0.00243919580373957 0.9858183978966831 0.4337065935036209 0.22244753353768967 0.5104470888147734 0.00023445232755605082 1.8774113409422723e-6 0.09628912314352274 0.0002628026054345653 0.006295233499567427\n",
        " 0.7847882688584857 0.013180742728259994 0.5390450410177656 0.7741705611287909 0.14125760525059328 0.22482628050243317 0.0004539295824623991 0.41783301393228306 0.9129578332886498 0.5060863179588214]\n"
       ]
      }
     ],
     "prompt_number": 23
    },
    {
     "cell_type": "markdown",
     "metadata": {
      "slideshow": {
       "slide_type": "slide"
      }
     },
     "source": [
      "### [Task](http://julia.readthedocs.org/en/latest/manual/control-flow/#tasks-and-events)(\u30b3\u30eb\u30fc\u30c1\u30f3)\n",
      "___\n",
      "\u30b3\u30eb\u30fc\u30c1\u30f3\u3068\u306f,\u51e6\u7406\u3092\u3044\u3063\u305f\u3093\u4e2d\u65ad\u3057,\u305d\u306e\u5f8c\u5fc5\u8981\u306b\u5fdc\u3058\u3066\u306b\u305d\u306e\u51e6\u7406\u306e\u7d9a\u304d\u304b\u3089\u518d\u958b\u3059\u308b\u3053\u3068\u304c\u3067\u304d\u308b\u5236\u5fa1\u69cb\u9020\u3067\u3059\n",
      "\n",
      "* produce  \n",
      "\u51e6\u7406\u3092\u4e2d\u65ad\u3059\u308b(\u6307\u5b9a\u3059\u308b)\n",
      "\n",
      "* Task  \n",
      "\u30bf\u30b9\u30af\u3092\u751f\u6210\u3059\u308b\n",
      "\n",
      "* consum  \n",
      "\u30bf\u30b9\u30af\u3092\u518d\u958b\u3059\u308b  \n",
      "\n",
      "\n",
      "[\u30d1\u30e9\u30ec\u30eb](http://julia.readthedocs.org/en/latest/manual/parallel-computing/#man-parallel-computing)\u5316\u3059\u308b\u969b\u306b\u3082\u4f3c\u305f\u69d8\u306a\u5236\u5fa1\u69cb\u9020\u3092\u5229\u7528\u3057\u3066\u3044\u307e\u3059\n",
      "\n"
     ]
    },
    {
     "cell_type": "code",
     "collapsed": false,
     "input": [
      "function producer()\n",
      "    produce(\"start\")\n",
      "    for n=1:4\n",
      "        produce(2n)\n",
      "    end\n",
      "    produce(\"stop\")\n",
      "end;\n",
      "\n",
      "p = Task(producer);"
     ],
     "language": "python",
     "metadata": {
      "slideshow": {
       "slide_type": "subslide"
      }
     },
     "outputs": [],
     "prompt_number": 24
    },
    {
     "cell_type": "code",
     "collapsed": false,
     "input": [
      "#\u4f55\u5ea6\u304b\u66f4\u65b0 \"start\" -> 2->4->6...\u3068\u66f4\u65b0\u3055\u308c\u3066\u3044\u304d\u307e\u3059\u3002\n",
      "println(consume(p))\n",
      "println(consume(p))\n",
      "println(consume(p))\n",
      "println(consume(p))\n",
      "println(consume(p))\n",
      "println(consume(p))\n",
      "println(consume(p))\n",
      "println(consume(p))"
     ],
     "language": "python",
     "metadata": {
      "slideshow": {
       "slide_type": "subslide"
      }
     },
     "outputs": [
      {
       "output_type": "stream",
       "stream": "stdout",
       "text": [
        "start"
       ]
      },
      {
       "output_type": "stream",
       "stream": "stdout",
       "text": [
        "\n",
        "2\n",
        "4\n",
        "6\n",
        "8\n",
        "stop\n",
        "()\n",
        "()\n"
       ]
      }
     ],
     "prompt_number": 25
    },
    {
     "cell_type": "markdown",
     "metadata": {
      "slideshow": {
       "slide_type": "slide"
      }
     },
     "source": [
      "#### \u30b3\u30eb\u30fc\u30c1\u30f3\u3092\u4f7f\u3063\u3066\u30ae\u30d6\u30b9\u30b5\u30f3\u30d7\u30e9\u30fc\u3092\u4f5c\u3063\u3066\u307f\u3088\u3046!!\n",
      "\n",
      "* \u591a\u5909\u91cf\u6b63\u898f\u5206\u5e03\u304b\u3089\u30b5\u30f3\u30d7\u30ea\u30f3\u30b0\n",
      "* \u5165\u529b\u30d9\u30af\u30c8\u30eb${\\bf x}=[x, y]^T$,\u5e73\u5747\u30d9\u30af\u30c8\u30eb\u3092$\\mu$\u3001\u5171\u5206\u6563\u884c\u5217\u3092$\\Sigma$\u3068\u3059\u308b\u3068\u591a\u5909\u91cf\u6b63\u898f\u5206\u5e03\u306f\n",
      "\n",
      "$$ p(x, y) = \\frac{1}{(\\sqrt{2\\pi})^2{\\rm det}(\\Sigma)} \\exp\\left( - \\frac{({\\bf x}-\\mu)^T\\Sigma^{-1}({\\bf x}-\\mu)}{2} \\right)$$"
     ]
    },
    {
     "cell_type": "code",
     "collapsed": false,
     "input": [
      "# \u521d\u56de\u5b9f\u884c\u6642\u306fPkg.add(\"Distributions\")\u3067\n",
      "# Distributions\u30d1\u30c3\u30b1\u30fc\u30b8\u3092\u30a4\u30f3\u30b9\u30c8\u30fc\u30eb\u3057\u3066\u304a\u304f\n",
      "using Distributions\n",
      "\n",
      "#\u5e73\u5747[0, 0], \u5206\u6563[1 \u03c1; \u03c1 1] \u306e\u5834\u5408\n",
      "\u03c1 = 0.90\n",
      "\u03bc = [0, 0]\n",
      "S  = [1 \u03c1; \u03c1 1]\n",
      "S\u2071 = inv(S)\n",
      "detS = det(S)\n",
      "\n",
      "#\u76ee\u7684\u95a2\u6570\n",
      "f(x) = exp(-(x-\u03bc)'S\u2071*(x-\u03bc)/2)/(2\u03c0*sqrt(detS))"
     ],
     "language": "python",
     "metadata": {
      "slideshow": {
       "slide_type": "subslide"
      }
     },
     "outputs": [
      {
       "metadata": {},
       "output_type": "pyout",
       "prompt_number": 26,
       "text": [
        "f (generic function with 1 method)"
       ]
      }
     ],
     "prompt_number": 26
    },
    {
     "cell_type": "markdown",
     "metadata": {
      "slideshow": {
       "slide_type": "subslide"
      }
     },
     "source": [
      "* \u30ae\u30d6\u30b9\u30b5\u30f3\u30d7\u30ea\u30f3\u30b0\n",
      "    * \u540c\u6642\u5206\u5e03\u306b\u304a\u3044\u3066\u30b5\u30f3\u30d7\u30eb\u3057\u305f\u3044\u78ba\u7387\u5909\u6570\u3092\u9664\u3044\u305f\u78ba\u7387\u5909\u6570\u306b\u6761\u4ef6\u4ed8\u3051\u3055\u308c\u305f\u5206\u5e03\u304b\u3089\u306e\u30b5\u30f3\u30d7\u30eb\u3092\u7e70\u308a\u8fd4\u3059\u3053\u3068\u3067\u76ee\u7684\u3068\u3059\u308b\u5206\u5e03\u304b\u3089\u306e\u30b5\u30f3\u30d7\u30eb\u3092\u5f97\u308b\u624b\u6cd5\n",
      "    * x\u306e\u30b5\u30f3\u30d7\u30eb\u306fp(x | y)\u304b\u3089\u3001y\u306e\u30b5\u30f3\u30d7\u30eb\u306fp(y | x)\u304b\u3089\u30b5\u30f3\u30d7\u30ea\u30f3\u30b0\n",
      "    * \u5e73\u5747\u30d9\u30af\u30c8\u30eb$\\mu=[0, 0]^T$\u3001\u5171\u5206\u6563\u884c\u5217\u306e\u5bfe\u89d2\u9805\u304c1, \u5171\u5206\u6563\u9805\u304c$\\rho$\u306e\u3068\u304d$p(x|y)=N(\\rho y, 1 - \\rho^2)$"
     ]
    },
    {
     "cell_type": "code",
     "collapsed": false,
     "input": [
      "#\u6761\u4ef6\u4ed8\u304d\u5206\u5e03\u304b\u3089\u4e00\u3064\u30b5\u30f3\u30d7\u30ea\u30f3\u30b0\n",
      "function sample_one(x)\n",
      "    new_x = rand(Normal(\u03c1*x[2], 1-\u03c1^2))\n",
      "    new_y = rand(Normal(\u03c1*new_x, 1-\u03c1^2))\n",
      "    return [new_x, new_y]\n",
      "end\n",
      "\n",
      "#\u30b3\u30eb\u30fc\u30c1\u30f3\n",
      "function sampler(burnin)\n",
      "  x = zeros(2)\n",
      "  # BURNIN\u306e\u671f\u9593\u306f\u3072\u305f\u3059\u3089\u30b5\u30f3\u30d7\u30eb\u3092\u7e70\u308a\u8fd4\u3059\u306e\u307f\u3067\u5024\u306f\u8fd4\u3055\u306a\u3044\n",
      "  for i = 1:burnin\n",
      "    x = sample_one(x)\n",
      "  end\n",
      "  while true\n",
      "    x = sample_one(x)\n",
      "    produce(x)  #produce\n",
      "  end\n",
      "end"
     ],
     "language": "python",
     "metadata": {
      "slideshow": {
       "slide_type": "subslide"
      }
     },
     "outputs": [
      {
       "metadata": {},
       "output_type": "pyout",
       "prompt_number": 27,
       "text": [
        "sampler (generic function with 1 method)"
       ]
      }
     ],
     "prompt_number": 27
    },
    {
     "cell_type": "code",
     "collapsed": false,
     "input": [
      "#\u30a4\u30c6\u30ec\u30fc\u30b7\u30e7\u30f3\u56de\u6570\n",
      "N = 600\n",
      "BURNIN = 0\n",
      "  \n",
      "xs, ys = zeros(N), zeros(N)  # 0\u57cb\u3081\u3055\u308c\u305fN\u6b21\u5143\u30d9\u30af\u30c8\u30eb\u306e\u751f\u6210\n",
      "\n",
      "#\u30b3\u30eb\u30fc\u30c1\u30f3\u4f5c\u6210\n",
      "sim = @task sampler(BURNIN)\n",
      "\n",
      "#\u30eb\u30fc\u30d7\u3067\u4efb\u610f\u56de\u6570\u30b5\u30f3\u30d7\u30eb\u3057\u307e\u3059\n",
      "for i = 1:N\n",
      "  xs[i], ys[i] = consume(sim)\n",
      "end"
     ],
     "language": "python",
     "metadata": {
      "slideshow": {
       "slide_type": "subslide"
      }
     },
     "outputs": [],
     "prompt_number": 28
    },
    {
     "cell_type": "code",
     "collapsed": false,
     "input": [
      "# Python\u306ematplotlib\u3092\u547c\u3073\u51fa\u3059\n",
      "# \u521d\u56de\u5b9f\u884c\u6642\u306f\u4e8b\u524d\u306bPkg.add(\"PyPlot\")\u3057\u3066\u304a\u304f\n",
      "using PyPlot\n",
      "\n",
      "ls = linspace(-3., 3., 1000) # -3.0\u301c3.0\u306e\u533a\u9593\u306e\u70b9\u30921000\u70b9\u751f\u6210\n",
      "\n",
      "Zs = Float64[f([x, y])[1] for x = ls, y = ls]  # \u76ee\u7684\u95a2\u6570\u304b\u3089\u5206\u5e03\u3092\u8a08\u7b97\n",
      "pcolor(ls, ls, Zs, alpha=0.5)  # \u5206\u5e03\u306e\u63cf\u753b\n",
      "\n",
      "scatter(xs, ys)  # \u30b5\u30f3\u30d7\u30ea\u30f3\u30b0\u3057\u305f\u70b9\u3092\u30d7\u30ed\u30c3\u30c8"
     ],
     "language": "python",
     "metadata": {
      "slideshow": {
       "slide_type": "subslide"
      }
     },
     "outputs": [
      {
       "output_type": "stream",
       "stream": "stderr",
       "text": [
        "INFO: Loading help data...\n"
       ]
      },
      {
       "metadata": {},
       "output_type": "display_data",
       "png": "[encoded data removed]",
       "text": [
        "Figure(PyObject <matplotlib.figure.Figure object at 0x10e251990>)"
       ]
      },
      {
       "metadata": {},
       "output_type": "pyout",
       "prompt_number": 29,
       "text": [
        "PyObject <matplotlib.collections.PathCollection object at 0x13b419d10>"
       ]
      }
     ],
     "prompt_number": 29
    },
    {
     "cell_type": "markdown",
     "metadata": {
      "slideshow": {
       "slide_type": "slide"
      }
     },
     "source": [
      "## \u95a2\u6570"
     ]
    },
    {
     "cell_type": "code",
     "collapsed": false,
     "input": [
      "#\u95a2\u6570\u5b9a\u7fa9\u306f\u4ee5\u4e0b\u306e\u3088\u3046\u306b\u53ef\u80fd\n",
      "function f(x::Int64,y::Int64)\n",
      "    x + y\n",
      "end\n",
      "f(x::Float64, y::Float64) = x * y\n",
      "f(x::Int64, y::Float64) = x / y\n",
      "f(x,y) = x - y"
     ],
     "language": "python",
     "metadata": {
      "slideshow": {
       "slide_type": "-"
      }
     },
     "outputs": [
      {
       "metadata": {},
       "output_type": "pyout",
       "prompt_number": 30,
       "text": [
        "f (generic function with 5 methods)"
       ]
      }
     ],
     "prompt_number": 30
    },
    {
     "cell_type": "code",
     "collapsed": false,
     "input": [
      "f(1.,2) # 1 - 2"
     ],
     "language": "python",
     "metadata": {
      "slideshow": {
       "slide_type": "-"
      }
     },
     "outputs": [
      {
       "metadata": {},
       "output_type": "pyout",
       "prompt_number": 31,
       "text": [
        "-1.0"
       ]
      }
     ],
     "prompt_number": 31
    },
    {
     "cell_type": "code",
     "collapsed": false,
     "input": [
      "#\u53ef\u5909\u9577\u5f15\u6570 -> \u30bf\u30d7\u30eb\u578b\u304c\u6e21\u3055\u308c\u307e\u3059\n",
      "foo(arg...) = arg\n",
      "foo(1,2,3)"
     ],
     "language": "python",
     "metadata": {
      "slideshow": {
       "slide_type": "subslide"
      }
     },
     "outputs": [
      {
       "metadata": {},
       "output_type": "pyout",
       "prompt_number": 32,
       "text": [
        "(1,2,3)"
       ]
      }
     ],
     "prompt_number": 32
    },
    {
     "cell_type": "code",
     "collapsed": false,
     "input": [
      "#\u30aa\u30d7\u30b7\u30e7\u30ca\u30eb\u5f15\u6570#\u30c7\u30d5\u30a9\u30eb\u30c8\u5f15\u6570\n",
      "foo(x,y=2,z=3) = (x,y,z)\n",
      "\n",
      "foo(1,5,10.) # ->(1,5,10.)"
     ],
     "language": "python",
     "metadata": {
      "slideshow": {
       "slide_type": "subslide"
      }
     },
     "outputs": [
      {
       "metadata": {},
       "output_type": "pyout",
       "prompt_number": 33,
       "text": [
        "(1,5,10.0)"
       ]
      }
     ],
     "prompt_number": 33
    },
    {
     "cell_type": "code",
     "collapsed": false,
     "input": [
      "#\u30c7\u30d5\u30a9\u30eb\u30c8\u5024\u304c\u8fd4\u3055\u308c\u307e\u3057\u305f\n",
      "foo(10)"
     ],
     "language": "python",
     "metadata": {
      "slideshow": {
       "slide_type": "-"
      }
     },
     "outputs": [
      {
       "metadata": {},
       "output_type": "pyout",
       "prompt_number": 34,
       "text": [
        "(10,2,3)"
       ]
      }
     ],
     "prompt_number": 34
    },
    {
     "cell_type": "code",
     "collapsed": false,
     "input": [
      "#\u540d\u524d\u4ed8\u304d\u5f15\u6570 (`;` \u30bb\u30df\u30b3\u30ed\u30f3)\n",
      "foo(x::Int ;y=10, z = \"test\") = println(x,y,z)\n",
      "\n",
      "foo(10,y = 20, z = \"Test\")"
     ],
     "language": "python",
     "metadata": {
      "slideshow": {
       "slide_type": "subslide"
      }
     },
     "outputs": [
      {
       "output_type": "stream",
       "stream": "stdout",
       "text": [
        "1020"
       ]
      },
      {
       "output_type": "stream",
       "stream": "stdout",
       "text": [
        "Test\n"
       ]
      }
     ],
     "prompt_number": 35
    },
    {
     "cell_type": "code",
     "collapsed": false,
     "input": [
      "# \u30aa\u30d7\u30b7\u30e7\u30ca\u30eb\u5f15\u6570\u3068\u540d\u524d\u4ed8\u304d\u5f15\u6570\u306e\u9055\u3044\u306f\uff1f\n",
      "foobar(x, y = 2, z = 3) = (x, y, z)  # \u30aa\u30d7\u30b7\u30e7\u30ca\u30eb\u5f15\u6570\n",
      "\n",
      "# \u30aa\u30d7\u30b7\u30e7\u30ca\u30eb\u5f15\u6570\u306b\u5bfe\u3057\u3066\u306f\u30ad\u30fc\u30ef\u30fc\u30c9\u6307\u5b9a\u304c\u3067\u304d\u306a\u3044\n",
      "println(foobar(1, y=3, z=4))"
     ],
     "language": "python",
     "metadata": {
      "slideshow": {
       "slide_type": "subslide"
      }
     },
     "outputs": [
      {
       "ename": "LoadError",
       "evalue": "function foobar does not accept keyword arguments\nwhile loading In[36], in expression starting on line 5",
       "output_type": "pyerr",
       "traceback": [
        "function foobar does not accept keyword arguments\nwhile loading In[36], in expression starting on line 5",
        ""
       ]
      }
     ],
     "prompt_number": 36
    },
    {
     "cell_type": "code",
     "collapsed": false,
     "input": [
      "hoge(x; y = 2, z = 3) = (x, y, z)  # \u540d\u524d\u4ed8\u304d\u5f15\u6570\n",
      "\n",
      "# \u3053\u308c\u306f\u53ef\u80fd\n",
      "println(hoge(1, y=3, z=4))"
     ],
     "language": "python",
     "metadata": {
      "slideshow": {
       "slide_type": "-"
      }
     },
     "outputs": [
      {
       "output_type": "stream",
       "stream": "stdout",
       "text": [
        "("
       ]
      },
      {
       "output_type": "stream",
       "stream": "stdout",
       "text": [
        "1,3,4)\n"
       ]
      }
     ],
     "prompt_number": 37
    },
    {
     "cell_type": "markdown",
     "metadata": {
      "slideshow": {
       "slide_type": "subslide"
      }
     },
     "source": [
      "### \u7121\u540d\u95a2\u6570\n",
      "\n",
      "* (x, y) -> \u95a2\u6570\u672c\u4f53\n",
      "* do \u69cb\u6587\n",
      "    * do\u69cb\u6587\u306f\u3001\u7121\u540d\u95a2\u6570\u3092\u4f5c\u308b\n",
      "    * \u7b2c\u4e00\u5f15\u6570\u304c\u95a2\u6570\u578b\u3067\u3042\u308b\u95a2\u6570\u306b\u5bfe\u3057\u3066\u306fdo\u69cb\u6587\u3092\u7528\u3044\u308b\u3053\u3068\u306b\u3088\u3063\u3066do\u4ee5\u4e0b\u306b\u95a2\u6570\u672c\u4f53\u3092\u66f8\u304f\u3053\u3068\u304c\u3067\u304d\u308b"
     ]
    },
    {
     "cell_type": "code",
     "collapsed": false,
     "input": [
      "# \u30e2\u30f3\u30c6\u30ab\u30eb\u30ed\u7a4d\u5206\u3067\u5186\u5468\u7387\u3092\u8a08\u7b97\n",
      "N = 100000\n",
      "\n",
      "# (x,y)->x^2+y^2 \u306f\u7121\u540d\u95a2\u6570!\n",
      "# rand(N)\u306f[0, 1)\u306e\u4e00\u69d8\u4e71\u6570\u3092N\u70b9\u751f\u6210\n",
      "ps1 = map((x,y) -> x^2+y^2<=1, rand(N),rand(N))\n",
      "ps2 = map(rand(N),rand(N)) do x,y\n",
      "    x^2 + y^2 <= 1\n",
      "end\n",
      "\n",
      "# ps1, ps2\u306f\u771f\u507d\u5024\u306e\u30d9\u30af\u30c8\u30eb\u3067\u3042\u308b\u304ctrue\u304c1, false\u304c0\u306b\u8a55\u4fa1\u3055\u308c\u308b\u306e\u3067sum\u3092\u53d6\u308b\u3068true\u306e\u6570\u3092\u6570\u3048\u308b\n",
      "# \u3053\u308c\u306f\u7b2c\u4e00\u8c61\u9650\u306b\u5bfe\u3059\u308b\u548c\u3068\u306a\u308b\u306e\u30674\u500d\u3059\u308b\u3053\u3068\u3067\u5168\u8c61\u9650\u5206\u306e\u548c\u3068\u306a\u308b\n",
      "println(4 * sum(ps1) / N)\n",
      "println(4 * sum(ps1) / N)"
     ],
     "language": "python",
     "metadata": {
      "slideshow": {
       "slide_type": "subslide"
      }
     },
     "outputs": [
      {
       "output_type": "stream",
       "stream": "stdout",
       "text": [
        "3"
       ]
      },
      {
       "output_type": "stream",
       "stream": "stdout",
       "text": [
        ".14244\n",
        "3.14244\n"
       ]
      }
     ],
     "prompt_number": 38
    },
    {
     "cell_type": "markdown",
     "metadata": {
      "slideshow": {
       "slide_type": "subslide"
      }
     },
     "source": [
      "####\u30de\u30af\u30ed\u3092\u642d\u8f09\n",
      "* **_@_**\u304b\u3089\u59cb\u307e\u308b\u3082\u306e\u306f\u3001_*\u30de\u30af\u30ed*_\u3068\u547c\u3070\u308c\u308b\u3082\u306e\u3067\u3059\u3002  \n",
      "* \u30b9\u30c8\u30ea\u30f3\u30b0\u30b9\u30bf\u30a4\u30d7\u306e\u30de\u30af\u30ed\u3082\u5b58\u5728\n",
      "    * \u6b63\u898f\u8868\u73fe\u30ea\u30c6\u30e9\u30eb\u306e\u3088\u3046\u306b\u4f7f\u3048\u308b** r\" \"**\u3082\u30de\u30af\u30ed\n",
      "        * match(r\"^\\s*(?:#|$)\", \"# a comment\")\n",
      "    * \u30d0\u30fc\u30b8\u30e7\u30f3\u6587\u5b57\u5217\u3092\u8868\u3059\u30de\u30af\u30ed`v\"1.2.3\"`\u3084\u30d0\u30a4\u30ca\u30ea\u6587\u5b57\u5217\u3092\u8868\u3059\u30de\u30af\u30ed`b\"DATA\\xff\\u2200\"`\u306a\u3069\u3082\u5b58\u5728\n",
      "* julia\u306e\u30de\u30af\u30ed\u306f\u3001Lisp like \u306e\u304b\u306a\u308a\u5f37\u529b\u306a\u3082\u306e\u304c\u642d\u8f09\u3055\u308c\u3066\u3044\u307e\u3059\u3002"
     ]
    },
    {
     "cell_type": "code",
     "collapsed": false,
     "input": [
      "@which f(2,1) #\u3069\u306e\u30e1\u30bd\u30c3\u30c9\u304c\u547c\u3070\u308c\u305f\u304b\u3092\u77e5\u308b\u305f\u3081\u306e\u30de\u30af\u30ed\u3002"
     ],
     "language": "python",
     "metadata": {
      "slideshow": {
       "slide_type": "subslide"
      }
     },
     "outputs": [
      {
       "html": [
        "f(x::<b>Int64</b>,y::<b>Int64</b>) at In[30]:3"
       ],
       "metadata": {},
       "output_type": "pyout",
       "prompt_number": 39,
       "text": [
        "f(x::Int64,y::Int64) at In[30]:3"
       ]
      }
     ],
     "prompt_number": 39
    },
    {
     "cell_type": "code",
     "collapsed": false,
     "input": [
      "@time f(3.,4)"
     ],
     "language": "python",
     "metadata": {
      "slideshow": {
       "slide_type": "subslide"
      }
     },
     "outputs": [
      {
       "output_type": "stream",
       "stream": "stdout",
       "text": [
        "elapsed time: "
       ]
      },
      {
       "output_type": "stream",
       "stream": "stdout",
       "text": [
        "0.001163786 seconds (13896 bytes allocated)\n"
       ]
      },
      {
       "metadata": {},
       "output_type": "pyout",
       "prompt_number": 40,
       "text": [
        "-1.0"
       ]
      }
     ],
     "prompt_number": 40
    },
    {
     "cell_type": "markdown",
     "metadata": {
      "slideshow": {
       "slide_type": "slide"
      }
     },
     "source": [
      "### \u4f4e\u30ec\u30d9\u30eb\u30b3\u30fc\u30c9\u306e\u51fa\u529b ###\n",
      "\n",
      "* \u4e0e\u3048\u3089\u308c\u305f\u5f15\u6570\u3068\u578b\u540d\u306b\u30de\u30c3\u30c1\u3059\u308b\u95a2\u6570\u306eAST\u3084LLVM\u30d0\u30a4\u30c8\u30b3\u30fc\u30c9\u3001\u30cd\u30a4\u30c6\u30a3\u30d6\u30b3\u30fc\u30c9\u3092\u51fa\u529b\u53ef\u80fd\n",
      "* code_lowered\n",
      "    * \u4f4e\u30ec\u30d9\u30ebAST\u306e\u51fa\u529b\n",
      "* code_typed\n",
      "    * \u578b\u63a8\u8ad6\u3055\u308c\u305f\u4f4e\u30ec\u30d9\u30ebAST\u306e\u51fa\u529b\n",
      "* code_llvm\n",
      "    * LLVM\u30d0\u30a4\u30c8\u30b3\u30fc\u30c9\u306e\u51fa\u529b\n",
      "* code_native\n",
      "    * \u30cd\u30a4\u30c6\u30a3\u30d6\u30b3\u30fc\u30c9\u306e\u51fa\u529b"
     ]
    },
    {
     "cell_type": "code",
     "collapsed": false,
     "input": [
      "hello(name::String) = \"Hello, $name\"\n",
      "\n",
      "#\u4f4e\u7d1a\u306a\u3053\u30fc\u3069\n",
      "code_lowered(hello, (String,))"
     ],
     "language": "python",
     "metadata": {
      "slideshow": {
       "slide_type": "subslide"
      }
     },
     "outputs": [
      {
       "metadata": {},
       "output_type": "pyout",
       "prompt_number": 41,
       "text": [
        "1-element Array{Any,1}:\n",
        " :($(Expr(:lambda, {:name}, {{},{{:name,:Any,0}},{}}, :(begin  # In[41], line 1:\n",
        "        return (top(string))(\"Hello, \",name)\n",
        "    end))))"
       ]
      }
     ],
     "prompt_number": 41
    },
    {
     "cell_type": "code",
     "collapsed": false,
     "input": [
      "#\u578b\u4ed8\u3051\u3089\u308c\u305f\u3053\u30fc\u3069\n",
      "code_typed(hello, (String,))"
     ],
     "language": "python",
     "metadata": {
      "slideshow": {
       "slide_type": "subslide"
      }
     },
     "outputs": [
      {
       "metadata": {},
       "output_type": "pyout",
       "prompt_number": 42,
       "text": [
        "1-element Array{Any,1}:\n",
        " :($(Expr(:lambda, {:name}, {{},{{:name,String,0}},{}}, :(begin  # In[41], line 1:\n",
        "        return (top(string))(\"Hello, \",name::String)::Union(UTF8String,ASCIIString)\n",
        "    end::Union(UTF8String,ASCIIString)))))"
       ]
      }
     ],
     "prompt_number": 42
    },
    {
     "cell_type": "code",
     "collapsed": false,
     "input": [
      "#\u4ee5\u4e0b\u3092\u7528\u3044\u308b\u3068llvm-ir\u51fa\u529b\u3057\u307e\u3059\u305f\u3076\u3093\u3002\uff08\u5b9f\u969b\u5b9f\u884c\u3055\u308c\u308b\u3082\u306e\u3068\u9055\u3046\u5834\u5408\u304b\u3082\u3067\u3059)\n",
      "code_llvm(hello, (String,))"
     ],
     "language": "python",
     "metadata": {
      "slideshow": {
       "slide_type": "subslide"
      }
     },
     "outputs": [
      {
       "output_type": "stream",
       "stream": "stderr",
       "text": [
        "Warning: Returned code may not match what actually runs.\n"
       ]
      },
      {
       "output_type": "stream",
       "stream": "stdout",
       "text": [
        "\n",
        "define %jl_value_t* @julia_hello_22834(%jl_value_t*, %jl_value_t**, i32) {\n",
        "top:\n",
        "  %3 = alloca [4 x %jl_value_t*], align 8\n",
        "  %.sub = getelementptr inbounds [4 x %jl_value_t*]* %3, i64 0, i64 0\n",
        "  %4 = getelementptr [4 x %jl_value_t*]* %3, i64 0, i64 2, !dbg !8582\n",
        "  store %jl_value_t* inttoptr (i64 4 to %jl_value_t*), %jl_value_t** %.sub, align 8\n",
        "  %5 = load %jl_value_t*** @jl_pgcstack, align 8, !dbg !8582\n",
        "  %6 = getelementptr [4 x %jl_value_t*]* %3, i64 0, i64 1, !dbg !8582\n",
        "  %.c = bitcast %jl_value_t** %5 to %jl_value_t*, !dbg !8582\n",
        "  store %jl_value_t* %.c, %jl_value_t** %6, align 8, !dbg !8582\n",
        "  store %jl_value_t** %.sub, %jl_value_t*** @jl_pgcstack, align 8, !dbg !8582\n",
        "  store %jl_value_t* null, %jl_value_t** %4, align 8\n",
        "  %7 = getelementptr [4 x %jl_value_t*]* %3, i64 0, i64 3\n",
        "  store %jl_value_t* null, %jl_value_t** %7, align 8\n",
        "  %8 = icmp eq i32 %2, 1, !dbg !8582\n",
        "  br i1 %8, label %ifcont, label %else, !dbg !8582\n",
        "\n",
        "else:                                             ; preds = %top\n",
        "  call void @jl_error(i8* getelementptr inbounds ([26 x i8]* @_j_str0, i64 0, i64 0)), !dbg !8582\n",
        "  unreachable, !dbg !8582\n",
        "\n",
        "ifcont:                                           ; preds = %top\n",
        "  %9 = load %jl_value_t** %1, align 8, !dbg !8582\n",
        "  store %jl_value_t* inttoptr (i64 140636214751424 to %jl_value_t*), %jl_value_t** %4, align 8, !dbg !8583\n",
        "  store %jl_value_t* %9, %jl_value_t** %7, align 8, !dbg !8583\n",
        "  %10 = call %jl_value_t* @jl_apply_generic(%jl_value_t* inttoptr (i64 140636736931200 to %jl_value_t*), %jl_value_t** %4, i32 2), !dbg !8583\n",
        "  %11 = load %jl_value_t** %6, align 8, !dbg !8583\n",
        "  %12 = getelementptr inbounds %jl_value_t* %11, i64 0, i32 0, !dbg !8583\n",
        "  store %jl_value_t** %12, %jl_value_t*** @jl_pgcstack, align 8, !dbg !8583\n",
        "  ret %jl_value_t* %10, !dbg !8583\n",
        "}\n"
       ]
      }
     ],
     "prompt_number": 43
    },
    {
     "cell_type": "code",
     "collapsed": false,
     "input": [
      "#\u30cd\u30a4\u30c6\u30a3\u30d6\u30b3\u30fc\u30c9\n",
      "code_native(hello, (String,))"
     ],
     "language": "python",
     "metadata": {
      "slideshow": {
       "slide_type": "subslide"
      }
     },
     "outputs": [
      {
       "output_type": "stream",
       "stream": "stdout",
       "text": [
        "\t.section\t__TEXT,__text,regular,pure_instructions\n",
        "Filename: In[41]\n",
        "Source line: 1\n",
        "\tpush\tRBP\n",
        "\tmov\tRBP, RSP\n",
        "\tpush\tRBX\n",
        "\tsub\tRSP, 40\n",
        "\tmov\tQWORD PTR [RBP - 40], 4\n",
        "Source line: 1\n",
        "\tmovabs\tRBX, 4343823312\n",
        "\tmov\tRAX, QWORD PTR [RBX]\n",
        "\tmov\tQWORD PTR [RBP - 32], RAX\n",
        "\tlea\tRAX, QWORD PTR [RBP - 40]\n",
        "\tmov\tQWORD PTR [RBX], RAX\n",
        "\txorps\tXMM0, XMM0\n",
        "\tmovups\tXMMWORD PTR [RBP - 24], XMM0\n",
        "\tcmp\tEDX, 1\n",
        "\tjne\t69\n",
        "\tlea\tRAX, QWORD PTR [RBP - 24]\n",
        "\tmov\tRCX, QWORD PTR [RSI]\n",
        "\tmovabs\tRDX, 140636214751424\n",
        "Source line: 1\n",
        "\tmov\tQWORD PTR [RBP - 24], RDX\n",
        "\tmov\tQWORD PTR [RBP - 16], RCX\n",
        "\tmovabs\tRCX, 4330270464\n",
        "\tmovabs\tRDI, 140636736931200\n",
        "\tmov\tRSI, RAX\n",
        "\tmov\tEDX, 2\n",
        "\tcall\tRCX\n",
        "\tmov\tRCX, QWORD PTR [RBP - 32]\n",
        "\tmov\tQWORD PTR [RBX], RCX\n",
        "\tadd\tRSP, 40\n",
        "\tpop\tRBX\n",
        "\tpop\tRBP\n",
        "\tret\n",
        "Source line: 1\n",
        "\tmovabs\tRAX, 4330288112\n",
        "\tmovabs\tRDI, 4370677776\n",
        "\tcall\tRAX\n"
       ]
      },
      {
       "output_type": "stream",
       "stream": "stderr",
       "text": [
        "Warning: Returned code may not match what actually runs.\n"
       ]
      }
     ],
     "prompt_number": 44
    },
    {
     "cell_type": "markdown",
     "metadata": {
      "slideshow": {
       "slide_type": "slide"
      }
     },
     "source": [
      "##\u30e1\u30bf\u30d7\u30ed\u30b0\u30e9\u30df\u30f3\u30b0\n",
      "____\n",
      "\u7c21\u5358\u306a\u30de\u30af\u30ed\u306e\u5b9a\u7fa9\u3068\u6a5f\u80fd\u3092\u8f09\u305b\u3066\u304a\u304d\u307e\u3059\u3002  \n",
      "\u30b3\u30fc\u30c9\u81ea\u4f53\u3092\u30aa\u30d6\u30b8\u30a7\u30af\u30c8\u3068\u3057\u3066\u6271\u3046\u3082\u306e\u3092\u540c\u56f3\u50cf\u6027(Homoiconicity)\u3068\u547c\u3073\u307e\u3059\u3002\n",
      "julia\u306e\u30de\u30af\u30ed\u306f\u3001Lisp\u3068\u540c\u3058\u3088\u3046\u306b\u62bd\u8c61\u69cb\u6587\u6728\u3092\u30ec\u30d9\u30eb\u3067\u64cd\u4f5c\u304c\u53ef\u80fd\u3067\u3059\u3002 "
     ]
    },
    {
     "cell_type": "code",
     "collapsed": false,
     "input": [
      "# \u307e\u305a\u6587\u5b57\u5217\u3092\u7528\u610f\n",
      "prog = \"1 + 1\""
     ],
     "language": "python",
     "metadata": {
      "slideshow": {
       "slide_type": "subslide"
      }
     },
     "outputs": [
      {
       "metadata": {},
       "output_type": "pyout",
       "prompt_number": 45,
       "text": [
        "\"1 + 1\""
       ]
      }
     ],
     "prompt_number": 45
    },
    {
     "cell_type": "code",
     "collapsed": false,
     "input": [
      "# \u6587\u5b57\u5217\u578b\u3092expression\u3068\u547c\u3070\u308c\u308b\u30aa\u30d6\u30b8\u30a7\u30af\u30c8\u306b\u30d1\u30fc\u30b9\n",
      "ex1 = parse(prog)"
     ],
     "language": "python",
     "metadata": {
      "slideshow": {
       "slide_type": "-"
      }
     },
     "outputs": [
      {
       "metadata": {},
       "output_type": "pyout",
       "prompt_number": 46,
       "text": [
        ":(1 + 1)"
       ]
      }
     ],
     "prompt_number": 46
    },
    {
     "cell_type": "code",
     "collapsed": false,
     "input": [
      "# julia\u3067\u306fexpression\u306fExpr\u578b\u3067\u8868\u305b\u3089\u308c\u307e\u3059\u3002\n",
      "typeof(ex1)"
     ],
     "language": "python",
     "metadata": {
      "slideshow": {
       "slide_type": "-"
      }
     },
     "outputs": [
      {
       "metadata": {},
       "output_type": "pyout",
       "prompt_number": 47,
       "text": [
        "Expr"
       ]
      }
     ],
     "prompt_number": 47
    },
    {
     "cell_type": "code",
     "collapsed": false,
     "input": [
      "# :call\u306f(expression)\u304c\u6301\u3064\u8b58\u5225\u5b50\u3060\u3068\u601d\u3063\u3066\u304f\u3060\u3055\u3044.\n",
      "# :call\u306e\u4ed6\u306b\u3082\u3001:function :for :block :if ...\u306a\u3069\u69d8\u3005\u306a\u3082\u306e\u304c\u3042\u308a\u307e\u3059\u3002\n",
      "ex1.head"
     ],
     "language": "python",
     "metadata": {
      "slideshow": {
       "slide_type": "subslide"
      }
     },
     "outputs": [
      {
       "metadata": {},
       "output_type": "pyout",
       "prompt_number": 48,
       "text": [
        ":call"
       ]
      }
     ],
     "prompt_number": 48
    },
    {
     "cell_type": "code",
     "collapsed": false,
     "input": [
      "#:call \u3084 ':'\u304c\u63a5\u982d\u3059\u308b\u3082\u306e\u306f,\u30b7\u30f3\u30dc\u30eb\u3068\u547c\u3070\u308c\u308b\u578b\u3092\u8868\u3057\u307e\u3059\n",
      "#\u30b7\u30f3\u30dc\u30eb\u306f\u4ee5\u4e0b\u306e\u3088\u3046\u306b\u5b9a\u7fa9\u3082\u3067\u304d\u307e\u3059\u3002\n",
      ":A"
     ],
     "language": "python",
     "metadata": {
      "slideshow": {
       "slide_type": "subslide"
      }
     },
     "outputs": [
      {
       "metadata": {},
       "output_type": "pyout",
       "prompt_number": 49,
       "text": [
        ":A"
       ]
      }
     ],
     "prompt_number": 49
    },
    {
     "cell_type": "code",
     "collapsed": false,
     "input": [
      "# \u5185\u90e8\u306eargument\u306f\u30b7\u30f3\u30dc\u30eb, expression\u307e\u305f\u306f\u30ea\u30c6\u30e9\u30eb\u3067\u3059\u3002\n",
      "ex1.args"
     ],
     "language": "python",
     "metadata": {
      "slideshow": {
       "slide_type": "subslide"
      }
     },
     "outputs": [
      {
       "metadata": {},
       "output_type": "pyout",
       "prompt_number": 50,
       "text": [
        "3-element Array{Any,1}:\n",
        "  :+\n",
        " 1  \n",
        " 1  "
       ]
      }
     ],
     "prompt_number": 50
    },
    {
     "cell_type": "code",
     "collapsed": false,
     "input": [
      "# expression\u306f\u30b7\u30f3\u30dc\u30eb\u3068\u540c\u69d8\u306b\u5b9a\u7fa9\u3059\u308b\u3053\u3068\u3082\u3067\u304d\u307e\u3059\n",
      ":(a + b*c + 1)  ==\n",
      "parse(\"a + b*c + 1\") ==\n",
      "Expr(:call, :+, :a, Expr(:call, :*, :b, :c), 1)"
     ],
     "language": "python",
     "metadata": {
      "slideshow": {
       "slide_type": "subslide"
      }
     },
     "outputs": [
      {
       "metadata": {},
       "output_type": "pyout",
       "prompt_number": 51,
       "text": [
        "true"
       ]
      }
     ],
     "prompt_number": 51
    },
    {
     "cell_type": "code",
     "collapsed": false,
     "input": [
      "# \u8907\u6570\u884c\u306b\u6e21\u308bExpr\u306e\u5b9a\u7fa9\u3067\u306fquote\u3092\u7528\u3044\u307e\u3059\n",
      "ex5 = quote\n",
      "    x = 1\n",
      "    y = 2\n",
      "    x + y\n",
      "end"
     ],
     "language": "python",
     "metadata": {
      "slideshow": {
       "slide_type": "subslide"
      }
     },
     "outputs": [
      {
       "metadata": {},
       "output_type": "pyout",
       "prompt_number": 52,
       "text": [
        "quote  # In[52], line 3:\n",
        "    x = 1 # line 4:\n",
        "    y = 2 # line 5:\n",
        "    x + y\n",
        "end"
       ]
      }
     ],
     "prompt_number": 52
    },
    {
     "cell_type": "code",
     "collapsed": false,
     "input": [
      "# dump\u95a2\u6570\u3092\u7528\u3044\u308b\u3068Expr\u306e\u5185\u5bb9\u304c\u4e00\u89a7\u3067\u304d\u307e\u3059\n",
      "dump(ex1)"
     ],
     "language": "python",
     "metadata": {
      "slideshow": {
       "slide_type": "subslide"
      }
     },
     "outputs": [
      {
       "output_type": "stream",
       "stream": "stdout",
       "text": [
        "Expr "
       ]
      },
      {
       "output_type": "stream",
       "stream": "stdout",
       "text": [
        "\n",
        "  head: Symbol call\n",
        "  args: Array(Any,(3,))\n",
        "    1: Symbol +\n",
        "    2: Int64"
       ]
      },
      {
       "output_type": "stream",
       "stream": "stdout",
       "text": [
        " 1\n",
        "    3: Int64 1\n",
        "  typ: Any\n"
       ]
      }
     ],
     "prompt_number": 53
    },
    {
     "cell_type": "code",
     "collapsed": false,
     "input": [
      "# Expr\u304c\u30cd\u30b9\u30c8\u3057\u3066\u3044\u308b\u5834\u5408\n",
      "ex4 = parse(\"(4 + 4) / 2\")\n",
      "dump(ex4)"
     ],
     "language": "python",
     "metadata": {
      "slideshow": {
       "slide_type": "subslide"
      }
     },
     "outputs": [
      {
       "output_type": "stream",
       "stream": "stdout",
       "text": [
        "Expr \n",
        "  head: Symbol call\n",
        "  args: Array(Any,(3,))\n",
        "    1: Symbol /\n",
        "    2: Expr \n",
        "      head: Symbol call\n",
        "      args: Array(Any,(3,))\n",
        "        1: Symbol +\n",
        "        2: Int64 4\n",
        "        3: Int64 4\n",
        "      typ: Any\n",
        "    3: Int64 2\n",
        "  typ: Any\n"
       ]
      }
     ],
     "prompt_number": 54
    },
    {
     "cell_type": "code",
     "collapsed": false,
     "input": [
      "#Lisp\u304c\u597d\u304d\u306a\u4eba\u305f\u3081?\u306b S \u5f0f\u3067\u306e\u8868\u73fe\u3082\u30b5\u30dd\u30fc\u30c8\u3057\u3066\u3044\u307e\u3059\n",
      "Meta.show_sexpr(ex4)"
     ],
     "language": "python",
     "metadata": {
      "slideshow": {
       "slide_type": "subslide"
      }
     },
     "outputs": [
      {
       "output_type": "stream",
       "stream": "stdout",
       "text": [
        "(:"
       ]
      },
      {
       "output_type": "stream",
       "stream": "stdout",
       "text": [
        "call, :/, (:call, :+, 4, 4), 2)"
       ]
      }
     ],
     "prompt_number": 55
    },
    {
     "cell_type": "markdown",
     "metadata": {
      "slideshow": {
       "slide_type": "subslide"
      }
     },
     "source": [
      "### Interpoltation\n",
      "\n",
      "* Expression\u306e\u5185\u90e8\u3067\u901a\u5e38\u306ejulia\u306e\u30b3\u30fc\u30c9\u3092\u51e6\u7406\u3057\u305f\u3044\u5834\u5408\n",
      "    * \u63a5\u982d\u8f9e`$`\u306b\u3088\u3063\u3066\u51e6\u7406\u53ef\u80fd"
     ]
    },
    {
     "cell_type": "code",
     "collapsed": false,
     "input": [
      "#exsample\n",
      "a = 1\n",
      "\n",
      "ex = :($a + b)"
     ],
     "language": "python",
     "metadata": {
      "slideshow": {
       "slide_type": "-"
      }
     },
     "outputs": [
      {
       "metadata": {},
       "output_type": "pyout",
       "prompt_number": 56,
       "text": [
        ":(1 + b)"
       ]
      }
     ],
     "prompt_number": 56
    },
    {
     "cell_type": "code",
     "collapsed": false,
     "input": [
      "# \u6587\u5b57\u5217\u5185\u90e8\u306b\u5024\u3092\u57cb\u3081\u8fbc\u3080\u969b\u306b\u3082\u540c\u69d8\u306b$\u3067\u5c55\u958b\u53ef\u80fd\n",
      "println(\"a = $(a)\")"
     ],
     "language": "python",
     "metadata": {
      "slideshow": {
       "slide_type": "subslide"
      }
     },
     "outputs": [
      {
       "output_type": "stream",
       "stream": "stdout",
       "text": [
        "a = 1\n"
       ]
      }
     ],
     "prompt_number": 57
    },
    {
     "cell_type": "markdown",
     "metadata": {
      "slideshow": {
       "slide_type": "subslide"
      }
     },
     "source": [
      "### eval ###\n",
      "\n",
      "* Expr\u3092\u30b0\u30ed\u30fc\u30d0\u30eb\u30b9\u30b3\u30fc\u30d7\u3067\u8a55\u4fa1"
     ]
    },
    {
     "cell_type": "code",
     "collapsed": false,
     "input": [
      "# eval \u95a2\u6570\u3092\u7528\u3044\u308b\u3068:Expr \u3092\u30b0\u30ed\u30fc\u30d0\u30eb\u30b9\u30b3\u30fc\u30d7\u3067\u5b9f\u884c\u3055\u308c\u307e\u3059\u3002\n",
      "eval(:(1 + 2))"
     ],
     "language": "python",
     "metadata": {
      "slideshow": {
       "slide_type": "subslide"
      }
     },
     "outputs": [
      {
       "metadata": {},
       "output_type": "pyout",
       "prompt_number": 58,
       "text": [
        "3"
       ]
      }
     ],
     "prompt_number": 58
    },
    {
     "cell_type": "code",
     "collapsed": false,
     "input": [
      "a = 1; b = 2;\n",
      "eval(:(a + b))"
     ],
     "language": "python",
     "metadata": {
      "slideshow": {
       "slide_type": "-"
      }
     },
     "outputs": [
      {
       "metadata": {},
       "output_type": "pyout",
       "prompt_number": 59,
       "text": [
        "3"
       ]
      }
     ],
     "prompt_number": 59
    },
    {
     "cell_type": "code",
     "collapsed": false,
     "input": [
      "x = [1, 2]"
     ],
     "language": "python",
     "metadata": {
      "slideshow": {
       "slide_type": "subslide"
      }
     },
     "outputs": [
      {
       "metadata": {},
       "output_type": "pyout",
       "prompt_number": 60,
       "text": [
        "2-element Array{Int64,1}:\n",
        " 1\n",
        " 2"
       ]
      }
     ],
     "prompt_number": 60
    },
    {
     "cell_type": "code",
     "collapsed": false,
     "input": [
      "# x\u3078\u306e\u4ee3\u5165\u3092\u8868\u3059Expr\u3092eval\u3067\u8a55\u4fa1\n",
      "eval(:(x=1))"
     ],
     "language": "python",
     "metadata": {
      "slideshow": {
       "slide_type": "-"
      }
     },
     "outputs": [
      {
       "metadata": {},
       "output_type": "pyout",
       "prompt_number": 61,
       "text": [
        "1"
       ]
      }
     ],
     "prompt_number": 61
    },
    {
     "cell_type": "code",
     "collapsed": false,
     "input": [
      "x \n",
      "#\u30b0\u30ed\u30fc\u30d0\u30eb\u30b9\u30b3\u30fc\u30d7\u3067\u5b9f\u884c\u3055\u308c\u307e\u3057\u305f!"
     ],
     "language": "python",
     "metadata": {
      "slideshow": {
       "slide_type": "-"
      }
     },
     "outputs": [
      {
       "metadata": {},
       "output_type": "pyout",
       "prompt_number": 62,
       "text": [
        "1"
       ]
      }
     ],
     "prompt_number": 62
    },
    {
     "cell_type": "markdown",
     "metadata": {
      "slideshow": {
       "slide_type": "slide"
      }
     },
     "source": [
      "##\u30de\u30af\u30ed\n",
      "\n",
      "* \u30de\u30af\u30ed\u3092\u7528\u3044\u308b\u3053\u3068\u3067\u5b9f\u884c\u3092\u884c\u3046\u524d\u306b\u5f15\u6570\u306b\u5bfe\u3059\u308b\u69d8\u3005\u306a\u51e6\u7406\u3092\u3059\u308b\u3053\u3068\u304c\u3067\u304d\u307e\u3059\u3002"
     ]
    },
    {
     "cell_type": "code",
     "collapsed": false,
     "input": [
      "#\u30de\u30af\u30ed\u306e\u5185\u90e8\u3067\u306f \u5f15\u6570\u3000\u3092\u30b7\u30f3\u30dc\u30eb\u3068\u3057\u3066\u51e6\u7406\u3057\u307e\u3059\u3002\n",
      "macro test(x)\n",
      "    x.args\n",
      "end\n",
      "\n",
      "# :(println(\"x\")).args\u306b\u5c55\u958b\u3055\u308c\u308b\n",
      "@test (println(\"x\"))"
     ],
     "language": "python",
     "metadata": {
      "slideshow": {
       "slide_type": "subslide"
      }
     },
     "outputs": [
      {
       "metadata": {},
       "output_type": "pyout",
       "prompt_number": 63,
       "text": [
        "2-element Array{Any,1}:\n",
        " :println\n",
        " \"x\"     "
       ]
      }
     ],
     "prompt_number": 63
    },
    {
     "cell_type": "code",
     "collapsed": false,
     "input": [
      "# \u30de\u30af\u30ed\u304c\u3069\u306e\u3088\u3046\u306b\u5c55\u958b\u3055\u308c\u308b\u304b\u78ba\u8a8d\u3057\u305f\u3044\u5834\u5408\u306f\n",
      "macro say_hello(name)\n",
      "        return :( println(\"Hello, \", $name) )\n",
      "end\n",
      "\n",
      "# macroexpand\u95a2\u6570\u3092\u7528\u3044\u307e\u3059\u3002\n",
      "macroexpand(:(@say_hello(\"human\")))\n",
      "\n",
      "# \u30b3\u30fc\u30c9\u304c\u3061\u3083\u3093\u3068\u66f8\u304d\u63db\u308f\u3063\u3066\u307e\u3059"
     ],
     "language": "python",
     "metadata": {
      "slideshow": {
       "slide_type": "subslide"
      }
     },
     "outputs": [
      {
       "metadata": {},
       "output_type": "pyout",
       "prompt_number": 64,
       "text": [
        ":(println(\"Hello, \",\"human\"))"
       ]
      }
     ],
     "prompt_number": 64
    },
    {
     "cell_type": "markdown",
     "metadata": {
      "slideshow": {
       "slide_type": "subslide"
      }
     },
     "source": [
      "###\u306a\u305c\u30de\u30af\u30ed\u304c\u5fc5\u8981\u306a\u306e\u304b"
     ]
    },
    {
     "cell_type": "code",
     "collapsed": false,
     "input": [
      "# Expr\u3092\u5f15\u6570\u306b\u6301\u3061\u8fd4\u308a\u5024\u3082Expr\u3067\u3042\u308b\u95a2\u6570(\u30de\u30af\u30ed\u3067\u306f\u306a\u3044)\n",
      "function math_expr(op, op1, op2)\n",
      "    expr = Expr(:call, op, op1, op2)\n",
      "    return expr\n",
      "end\n",
      "ex = math_expr(:+, 1, Expr(:call, :*, 4, 5))"
     ],
     "language": "python",
     "metadata": {
      "slideshow": {
       "slide_type": "subslide"
      }
     },
     "outputs": [
      {
       "metadata": {},
       "output_type": "pyout",
       "prompt_number": 65,
       "text": [
        ":(1 + 4 * 5)"
       ]
      }
     ],
     "prompt_number": 65
    },
    {
     "cell_type": "code",
     "collapsed": false,
     "input": [
      "eval(ex)"
     ],
     "language": "python",
     "metadata": {
      "slideshow": {
       "slide_type": "-"
      }
     },
     "outputs": [
      {
       "metadata": {},
       "output_type": "pyout",
       "prompt_number": 66,
       "text": [
        "21"
       ]
      }
     ],
     "prompt_number": 66
    },
    {
     "cell_type": "markdown",
     "metadata": {
      "slideshow": {
       "slide_type": "subslide"
      }
     },
     "source": [
      "### julia\u306b\u304a\u3051\u308b\u30b3\u30fc\u30c9\u306e\u8a55\u4fa1  \n",
      "\n",
      "* \u4ee5\u4e0a\u306e\u3088\u3046\u306bExpresson\u3092\u5f15\u6570\u306b\u6301\u3061\u8fd4\u308a\u5024\u3082Expresson\u3067\u3042\u308b\u3088\u3046\u306a\u95a2\u6570\u3092\u5b9a\u7fa9\u3057\u3066\u3082\u3044\u3044\u306e\u3067\u306f\u306a\u3044\u304b\u3068\u601d\u3046\u304b\u3082\u3057\u308c\u306a\u3044\n",
      "* \u3057\u304b\u3057\u30de\u30af\u30ed\u3092\u4f7f\u3046\u30e1\u30ea\u30c3\u30c8\u306f\u30b3\u30fc\u30c9\u306e\u5909\u63db\u30fb\u751f\u6210\u306b\u3042\u308b\n",
      "    * julia\u306b\u304a\u3051\u308b\u30b3\u30fc\u30c9\u8a55\u4fa1\u306f\u5927\u96d1\u628a\u306b\uff12\u7a2e\u985e\u306e\u6bb5\u968e\u3092\u8e0f\u3080,\u7b2c\u4e00\u6bb5\u968e\u3067\u306fraw\u30b3\u30fc\u30c9\u306e\u89e3\u6790(\u30d1\u30fc\u30b9)\u3092\u884c\u3046\u3001\u305d\u3057\u3066\u7b2c\u4e8c\u6bb5\u968e\u3067\u3001\u5b9f\u884c\u3092\u884c\u3046\u3002  \n",
      "    * \u30e1\u30bf\u30d7\u30ed\u30b0\u30e9\u30df\u30f3\u30b0\u3092\u4f7f\u3046\u3053\u3068\u3067\u3001\u7b2c\u4e00\u6bb5\u968e\u304c\u7d42\u308f\u3063\u305f\u6bb5\u968e\u306e\u30b3\u30fc\u30c9\u306b\u5bfe\u3057\u3066\u30b3\u30fc\u30c9\u306e\u5909\u63db\u30fb\u751f\u6210\u3092\u884c\u3046\u3053\u3068\u304c\u3067\u304d\u308b\u3002\n",
      "    * \u305d\u308c\u306b\u3088\u308a\u3001\u30cd\u30a4\u30c6\u30a3\u30d6\u306ajulia\u306e\u30b3\u30fc\u30c9\u3068\u540c\u3058\u901f\u5ea6\u3067\u5b9f\u884c\u304c\u53ef\u80fd\u3068\u306a\u3063\u3066\u3044\u308b\u3001\u305d\u306e\u305f\u3081\u306b\u3001\u30de\u30af\u30ed\u306f\u5fc5\u8981\u306a\u306e\u3060\u3002  \u305f\u3076\u3093"
     ]
    },
    {
     "cell_type": "code",
     "collapsed": false,
     "input": [
      "#ex\n",
      "macro twostep(arg)\n",
      "    println(\"I execute at parse time. The argument is: \", arg)\n",
      "\n",
      "    return :(println(\"I execute at runtime. The argument is: \", $arg))\n",
      "end\n",
      "\n",
      "ex = macroexpand( :(@twostep :(1, 2, 3)) );"
     ],
     "language": "python",
     "metadata": {
      "slideshow": {
       "slide_type": "subslide"
      }
     },
     "outputs": [
      {
       "output_type": "stream",
       "stream": "stdout",
       "text": [
        "I execute at parse time. The argument is: :("
       ]
      },
      {
       "output_type": "stream",
       "stream": "stdout",
       "text": [
        "(1,2,3))\n"
       ]
      }
     ],
     "prompt_number": 67
    },
    {
     "cell_type": "code",
     "collapsed": false,
     "input": [
      "typeof(ex)"
     ],
     "language": "python",
     "metadata": {
      "slideshow": {
       "slide_type": "subslide"
      }
     },
     "outputs": [
      {
       "metadata": {},
       "output_type": "pyout",
       "prompt_number": 68,
       "text": [
        "Expr"
       ]
      }
     ],
     "prompt_number": 68
    },
    {
     "cell_type": "code",
     "collapsed": false,
     "input": [
      "ex"
     ],
     "language": "python",
     "metadata": {
      "slideshow": {
       "slide_type": "-"
      }
     },
     "outputs": [
      {
       "metadata": {},
       "output_type": "pyout",
       "prompt_number": 69,
       "text": [
        ":(println(\"I execute at runtime. The argument is: \",$(Expr(:copyast, :(:((1,2,3)))))))"
       ]
      }
     ],
     "prompt_number": 69
    },
    {
     "cell_type": "code",
     "collapsed": false,
     "input": [
      "eval(ex)"
     ],
     "language": "python",
     "metadata": {
      "slideshow": {
       "slide_type": "-"
      }
     },
     "outputs": [
      {
       "output_type": "stream",
       "stream": "stdout",
       "text": [
        "I execute at runtime. The argument is: (1,2,3)\n"
       ]
      }
     ],
     "prompt_number": 70
    },
    {
     "cell_type": "code",
     "collapsed": false,
     "input": [
      "#macro\u306e\u4f8b\n",
      "macro assert(ex)\n",
      "    return :($ex ? nothing : error(\"Assertion failed: \", $(string(ex))))\n",
      "end"
     ],
     "language": "python",
     "metadata": {
      "slideshow": {
       "slide_type": "subslide"
      }
     },
     "outputs": [],
     "prompt_number": 71
    },
    {
     "cell_type": "markdown",
     "metadata": {
      "slideshow": {
       "slide_type": "-"
      }
     },
     "source": [
      "[(type-trait)](https://github.com/abeschneider/TypeTraits.jl)\u306f\u30de\u30af\u30ed\u306e\u4f7f\u3044\u65b9\u304c\u308f\u304b\u308a\u3084\u3059\u3044\u30b5\u30f3\u30d7\u30eb\u3067\u3059"
     ]
    },
    {
     "cell_type": "markdown",
     "metadata": {
      "slideshow": {
       "slide_type": "subslide"
      }
     },
     "source": [
      "###\u30b3\u30fc\u30c9\u30b8\u30a7\u30cd\u30ec\u30fc\u30b7\u30e7\u30f3\n",
      "___\n",
      "\u4f3c\u305f\u3088\u3046\u306a\u30b3\u30fc\u30c9\u3092\u4f55\u5ea6\u3082\u66f8\u304f\u306e\u306f\u3081\u3093\u3069\u304f\u3055\u3044,\u3060\u3051\u3069\u3084\u3089\u306a\u304d\u3083\u306a\u3089\u306a\u3044\u6642  \n",
      "\u57fa\u672c\u7684\u306a\u3068\u3053\u308d\u306f\u4e0a\u8a18\u3068\u307b\u3068\u3093\u3069\u540c\u3058\u3067\u3059.\n",
      "\n",
      "\u56db\u5247\u6f14\u7b97\u306a\u3069\u3092\u4e00\u6c17\u306b\u5b9a\u7fa9\u3057\u307e\u3059\u3002"
     ]
    },
    {
     "cell_type": "code",
     "collapsed": false,
     "input": [
      "#\u30e1\u30bd\u30c3\u30c9\u304c\u4e0a\u66f8\u304d\u3055\u308c\u308b\u306e\u3067\u6c17\u3092\u3064\u3051\u3066\u4e0b\u3055\u3044\n",
      "for op = (:+, :*, :&, :|, :$)\n",
      "  eval(quote\n",
      "    ($op)(a,b,c) = ($op)(($op)(a,b),c)\n",
      "  end)\n",
      "end\n",
      "\n",
      "#\u3082\u3046\u5c11\u3057\u7c21\u7565\u5316\u3057\u3066\u66f8\u304f\u3068\n",
      "for op = (:+, :*, :&, :|, :$)\n",
      "  eval(:(($op)(a,b,c) = ($op)(($op)(a,b),c)))\n",
      "end\n",
      "\n",
      "#eval(quote(...))\u3092\u30de\u30af\u30ed\u3092\u3064\u304b\u3063\u3066\u8868\u73fe\u3059\u308b\u3068\n",
      "for op = (:+, :*, :&, :|, :$)\n",
      "  @eval ($op)(a,b,c) = ($op)(($op)(a,b),c)\n",
      "end"
     ],
     "language": "python",
     "metadata": {
      "slideshow": {
       "slide_type": "subslide"
      }
     },
     "outputs": [
      {
       "output_type": "stream",
       "stream": "stderr",
       "text": [
        "Warning: Method definition +(Any"
       ]
      },
      {
       "output_type": "stream",
       "stream": "stderr",
       "text": [
        ",Any,Any) in module Base at operators.jl:82 overwritten in module Main at In[72]:4.\n",
        "Warning: Method definition *(Any,Any,Any) in module Base at operators.jl:82 overwritten in module Main at In[72]:4.\n",
        "Warning: Method definition &(Any,Any,Any) in module Base at operators.jl:82 overwritten in module Main at In[72]:4.\n",
        "Warning: Method definition |(Any,Any,Any) in module Base at operators.jl:82 overwritten in module Main at In[72]:4.\n",
        "Warning: Method definition $(Any,Any,Any) in module Base at operators.jl:82 overwritten in module Main at In[72]:4.\n"
       ]
      }
     ],
     "prompt_number": 72
    },
    {
     "cell_type": "code",
     "collapsed": false,
     "input": [
      "#\u6700\u5f8c\u306b\u30b9\u30c8\u30ea\u30f3\u30b0\u30b9\u30bf\u30a4\u30d7\u306e\u30de\u30af\u30ed\u306b\u3064\u3044\u3066\u3067\u3059\u3002\n",
      "#\u5b9a\u7fa9\u306f macro <name>_str(x) ~ end\n",
      "\n",
      "macro \u2665\u203f\u2665_str(s)\n",
      "    \"I LOVE $(uppercase(s))\"\n",
      "end\n",
      "\n",
      "#\u547c\u3073\u51fa\u3057\u306f <name>\"\"\u3067\u3059\u3002\n",
      "\n",
      "\u2665\u203f\u2665\"Julia\""
     ],
     "language": "python",
     "metadata": {
      "slideshow": {
       "slide_type": "subslide"
      }
     },
     "outputs": [
      {
       "metadata": {},
       "output_type": "pyout",
       "prompt_number": 73,
       "text": [
        "\"I LOVE JULIA\""
       ]
      }
     ],
     "prompt_number": 73
    },
    {
     "cell_type": "markdown",
     "metadata": {
      "slideshow": {
       "slide_type": "-"
      }
     },
     "source": [
      "* [\u3053\u3053](http://iaindunning.com/2014/julia-unicode.html)\u3092\u53c2\u8003\u306b\u3057\u307e\u3057\u305f\n",
      "* \u7206\u767a\"Julia\""
     ]
    },
    {
     "cell_type": "markdown",
     "metadata": {
      "slideshow": {
       "slide_type": "slide"
      }
     },
     "source": [
      "##IO\n",
      "___\n",
      "open  \n",
      "read  \n",
      "write  \n",
      "\n",
      "\u306a\u3069\u3001\u4e00\u822c\u7684\u306a\u51fa\u5165\u529b\u3092\u5099\u3048\u3066\u3044\u307e\u3059\u3002\n",
      "\n",
      "_____\n",
      "\n",
      "[\u3053\u3053](http://julia.readthedocs.org/en/latest/manual/networking-and-streams/)\u304c\u8a73\u3057\u3044\u3067\u3059\u3002"
     ]
    },
    {
     "cell_type": "markdown",
     "metadata": {
      "slideshow": {
       "slide_type": "subslide"
      }
     },
     "source": [
      "## R\u306e\u30c7\u30fc\u30bf\u30d5\u30ec\u30fc\u30e0\u306b\u4f3c\u305f\u30e9\u30a4\u30d6\u30e9\u30ea\n",
      "\n",
      "### DataFrames\n",
      "\n",
      "* \u5165\u51fa\u529b\u306f\u3053\u308c\u3092\u4f7f\u3046\u3068\u4fbf\u5229\u3067\u3059\u3002 \n",
      "* \u5c0e\u5165\u306fPkg.add(\"DataFrames\")\n",
      "* \u4ed6\u306b\u3082,\u97f3\u58f0\u3001\u753b\u50cf\u306a\u3069\u30c7\u30fc\u30bf\u3092\u6271\u3046\u305f\u3081\u306e\u30e9\u30a4\u30d6\u30e9\u30ea\u304c\u3042\u308a\u307e\u3059\u3002  \n",
      "    * \u4e00\u756a\u6700\u5f8c\u306b\u307e\u3068\u3081\u3066\u3042\u308b\u306e\u3067\u6687\u306a\u3089\u898b\u3066\u307f\u3066\u304f\u3060\u3055\u3044\u3002  \n",
      "___"
     ]
    },
    {
     "cell_type": "code",
     "collapsed": false,
     "input": [
      "# \u3044\u308d\u3044\u308d\u306a\u5165\u529b\u95a2\u6570\n",
      "#CSV\u30d5\u30a1\u30a4\u30eb\u306e\u8aad\u307f\u8fbc\u307f\n",
      "readcsv\n",
      "\n",
      "#\u30d5\u30a1\u30a4\u30eb\u3092\u5168\u3066\u8aad\u3080\n",
      "readall\n",
      "\n",
      "#\u4e00\u884c\u3065\u3064\u8aad\u307f\u8fbc\u3080\n",
      "readline\n",
      "\n",
      "#\u6539\u884c\u3092\u524a\u9664\u3057\u3066\u8aad\u307f\u8fbc\u307f\u307e\u3059\n",
      "readchomp"
     ],
     "language": "python",
     "metadata": {
      "slideshow": {
       "slide_type": "subslide"
      }
     },
     "outputs": [
      {
       "metadata": {},
       "output_type": "pyout",
       "prompt_number": 74,
       "text": [
        "readchomp (generic function with 1 method)"
       ]
      }
     ],
     "prompt_number": 74
    },
    {
     "cell_type": "code",
     "collapsed": false,
     "input": [
      "#  cd\u306b\u5b58\u5728\u3059\u308b\u30d5\u30a1\u30a4\u30eb\u3084\u30c7\u30a3\u30ec\u30af\u30c8\u30ea\u3092Array{String}\u3067\u8fd4\u3057\u307e\u3059. (ls\u30b3\u30de\u30f3\u30c9\u306e\u3088\u3046\u306a\u3082\u306e)\n",
      "println(readdir())\n",
      "#  cd\u306e\u30d1\u30b9\u3092\u304b\u3048\u3057\u307e\u3059\u3002\n",
      "println(pwd())"
     ],
     "language": "python",
     "metadata": {
      "slideshow": {
       "slide_type": "subslide"
      }
     },
     "outputs": [
      {
       "output_type": "stream",
       "stream": "stdout",
       "text": [
        "Union(UTF8String,ASCIIString)["
       ]
      },
      {
       "output_type": "stream",
       "stream": "stdout",
       "text": [
        "\".ipynb_checkpoints\",\"convert.sh\",\"julia\u8a00\u8a9e\u5165\u9580.html\",\"julia\u8a00\u8a9e\u5165\u9580.ipynb\",\"julia\u8a00\u8a9e\u5165\u9580.slides.html\",\"outfile\",\"reveal.js\"]\n",
        "/Users/wrist/work/julia/MLJulia/Introduction_to_Julia\n"
       ]
      }
     ],
     "prompt_number": 75
    },
    {
     "cell_type": "markdown",
     "metadata": {
      "slideshow": {
       "slide_type": "subslide"
      }
     },
     "source": [
      "###do\u69cb\u6587\u3092\u4f7f\u3063\u305fI/O\u51e6\u7406"
     ]
    },
    {
     "cell_type": "code",
     "collapsed": false,
     "input": [
      "data = \"\u3053\u3093\u306b\u3061\u306f\"\n",
      "# \u81ea\u52d5\u7684\u306b\u30af\u30ed\u30fc\u30ba\u3059\u308b\u3001python\u3067\u3044\u3046\u3068\u3053\u308d\u306ewith open\n",
      "open(\"outfile\", \"w\") do io\n",
      "    write(io, data)\n",
      "end"
     ],
     "language": "python",
     "metadata": {
      "slideshow": {
       "slide_type": "-"
      }
     },
     "outputs": [
      {
       "metadata": {},
       "output_type": "pyout",
       "prompt_number": 76,
       "text": [
        "15"
       ]
      }
     ],
     "prompt_number": 76
    },
    {
     "cell_type": "code",
     "collapsed": false,
     "input": [
      "# run(`...`)\u3067\u30b7\u30a7\u30eb\u30b3\u30de\u30f3\u30c9\u306e\u5b9f\u884c\n",
      "run(`cat outfile`)"
     ],
     "language": "python",
     "metadata": {
      "slideshow": {
       "slide_type": "-"
      }
     },
     "outputs": [
      {
       "output_type": "stream",
       "stream": "stdout",
       "text": [
        "\u3053\u3093\u306b\u3061\u306f"
       ]
      }
     ],
     "prompt_number": 77
    },
    {
     "cell_type": "code",
     "collapsed": false,
     "input": [
      "#=\u4e0a\u8a18\u306eopen\u306f\u4ee5\u4e0b\u306b\u3088\u3063\u3066\u5b9a\u7fa9\u3055\u308c\u3066\u3044\u307e\u3059\u3002\n",
      "function open(f::Function, args...)\n",
      "    io = open(args...)\n",
      "    try\n",
      "        f(io)\n",
      "    finally\n",
      "        close(io)\n",
      "    end\n",
      "end\n",
      "=#\n",
      "# do\u69cb\u6587\u3092\u4f7f\u3046\u3053\u3068\u3067\u7b2c\u4e00\u5f15\u6570\u306ef\u3092\u5916\u5074\u306edo\u301cend\u306e\u9593\u306b\u66f8\u3051\u308b\n",
      "\n",
      "# outfile\u3092\u3059\u3079\u3066\u8aad\u307f\u8fbc\u3080\n",
      "data = readall(\"outfile\")"
     ],
     "language": "python",
     "metadata": {
      "slideshow": {
       "slide_type": "subslide"
      }
     },
     "outputs": [
      {
       "metadata": {},
       "output_type": "pyout",
       "prompt_number": 78,
       "text": [
        "\"\u3053\u3093\u306b\u3061\u306f\""
       ]
      }
     ],
     "prompt_number": 78
    },
    {
     "cell_type": "markdown",
     "metadata": {
      "slideshow": {
       "slide_type": "slide"
      }
     },
     "source": [
      "##\u30e2\u30b8\u30e5\u30fc\u30eb\n",
      "___\n",
      "\n",
      "* python\u3068\u306f\u9055\u3044\u3001module ~ end\u3000\u306b\u3088\u308a\u5b9a\u7fa9\u3055\u308c\u308b\u3002  \n",
      "    * python\u306f\u30d5\u30a1\u30a4\u30eb\u5358\u4f4d\u3060\u3063\u305f\u3068\u601d\u3044\u307e\u3059        \n",
      "    * julia\u8d77\u52d5\u6642\u306b\u8aad\u307f\u8fbc\u307e\u308c\u308b\u30e2\u30b8\u30e5\u30fc\u30eb\u306f\u57fa\u672c\u7684\u306b\u306f\u4ee5\u4e0b\n",
      "        * **Base**   \n",
      "        * **Core**  \n",
      "        * **Main**    \n",
      "* **Main**\u30e2\u30b8\u30e5\u30fc\u30eb\u304c\u30ef\u30fc\u30af\u30b9\u30da\u30fc\u30b9\u306b\u306a\u308a\u307e\u3059\u3002\n",
      "___"
     ]
    },
    {
     "cell_type": "code",
     "collapsed": false,
     "input": [
      "# \u524d\u306b\u4f5c\u3063\u305f\u30cb\u30e5\u30fc\u30e9\u30eb\u30cd\u30c3\u30c8\u30ef\u30fc\u30af\u306e\u30e9\u30a4\u30d6\u30e9\u30ea\u306e\u30e2\u30b8\u30e5\u30fc\u30eb\u5b9a\u7fa9\n",
      "module Neural\n",
      "# \u30e2\u30b8\u30e5\u30fc\u30eb\u304c\u547c\u3070\u308c\u305f\u6642\u306b\u3001Main\u3078\u5c55\u958b\u3057\u3066\u6b32\u3057\u3044\u3082\u306e\u3092,export \u4ee5\u4e0b\u306b\u66f8\u304f\n",
      "    export Model, ANN, QNN, LQNN, quasi_newton_method, sgd, nesterov, l_bfgsNN,\n",
      "            preprocess, predict, gradient, getWeights\n",
      "\n",
      "#= import\u3068using\u306e\u9055\u3044\u306f\u4ee5\u4e0b\u3092\u53c2\u7167\n",
      "   https://julia.readthedocs.org/en/latest/manual/modules/\n",
      "\n",
      "   \"import \u30e2\u30b8\u30e5\u30fc\u30eb\u540d\"\u3060\u3068\u5909\u6570\u306f\"\u30e2\u30b8\u30e5\u30fc\u30eb\u540d.\u5909\u6570\u540d\"\u3067\u3057\u304b\u30a2\u30af\u30bb\u30b9\u3067\u304d\u306a\u3044\u304c\n",
      "   \"using \u30e2\u30b8\u30e5\u30fc\u30eb\u540d\"\u3060\u3068export\u3055\u308c\u305f\u5909\u6570\u306f\u30e2\u30b8\u30e5\u30fc\u30eb\u540d\u3092\u4ed8\u3051\u306a\u304f\u3066\u3082\u30a2\u30af\u30bb\u30b9\u53ef\u80fd =#\n",
      "\n",
      "# \u30cb\u30e5\u30fc\u30e9\u30eb\u30cd\u30c3\u30c8\u306e\u30e2\u30b8\u30e5\u30fc\u30eb\u306b\u30e1\u30bd\u30c3\u30c9\u3092\u5c55\u958b\u3059\u308b\n",
      "    import Base.show  \n",
      "    \n",
      "# \u30e9\u30a4\u30d6\u30e9\u30ea\u3092Main\u30e2\u30b8\u30e5\u30fc\u30eb\u306b\u5c55\u958b\u3059\u308b\n",
      "# \u521d\u3081\u3066\u4f7f\u3046\u5834\u5408\u306fPkg.add(\"NumericExtensions\")\u3057\u3066\u304a\u304f\n",
      "    using NumericExtensions\n",
      "\n",
      "#= require -> \u30d5\u30a1\u30a4\u30eb\u3092 Main\u3067\u5c55\u958b\n",
      "\u3000 include -> \u30d5\u30a1\u30a4\u30eb\u3092 \u3053\u306eModule\u5185\u3067\u5c55\u958b =#\n",
      "\n",
      "    #\u30af\u30e9\u30b9\u5b9a\u7fa9\n",
      "    include(\"base.jl\")\n",
      "    #\u30a2\u30af\u30bb\u30b5\u30fb\u30b2\u30c3\u30bf\n",
      "    include(\"ann_weight.jl\")\n",
      "    #\u30d0\u30c3\u30af\u30fb\u30d5\u30a9\u30ef\u30fc\u30c9\u30d7\u30ed\u30d1\u30b2\u30fc\u30b7\u30e7\u30f3\n",
      "    include(\"bfprop.jl\")\n",
      "    #\u78ba\u7387\u7684\u52fe\u914d\u964d\u4e0b\u6cd5\n",
      "    include(\"sgd_methods.jl\")\n",
      "    #\u30e9\u30a4\u30f3\u30b5\u30fc\u30c1\n",
      "    include(\"linesearch.jl\")\n",
      "    #\u30e9\u30a4\u30f3\u30b5\u30fc\u30c1\u30e6\u30fc\u30c6\u30a3\u30ea\u30c6\u30a3\n",
      "    include(\"linesearch_utils.jl\")\n",
      "    #\u6e96\u30cb\u30e5\u30fc\u30c8\u30f3\u6cd5(\u5b9a\u6570\u5b9a\u7fa9\u3042\u308a)\n",
      "    include(\"quasi_methods.jl\")\n",
      "    #L\u2212BFGS\n",
      "    include(\"l_BFGS.jl\")\n",
      "    #Nesterov\n",
      "    include(\"nesterov.jl\")\n",
      "    #\u30e6\u30fc\u30c6\u30a3\u30ea\u30c6\u30a3\n",
      "    include(\"utils.jl\")\n",
      "\n",
      "#ModuleEnd\n",
      "end\n",
      "\n",
      "#\u3053\u306e\u3088\u3046\u306a\u611f\u3058\u3067\u30e9\u30a4\u30d6\u30e9\u30ea\u304c\u66f8\u304b\u308c\u3066\u3044\u308b\u5834\u5408\u304c\u591a\u3044\u3067\u3059"
     ],
     "language": "python",
     "metadata": {
      "slideshow": {
       "slide_type": "subslide"
      }
     },
     "outputs": [
      {
       "output_type": "stream",
       "stream": "stderr",
       "text": [
        "Warning: could not import Base.add! into NumericExtensions\n"
       ]
      },
      {
       "ename": "LoadError",
       "evalue": "could not open file /Users/wrist/work/julia/MLJulia/Introduction_to_Julia/base.jl\nwhile loading In[79], in expression starting on line 24",
       "output_type": "pyerr",
       "traceback": [
        "could not open file /Users/wrist/work/julia/MLJulia/Introduction_to_Julia/base.jl\nwhile loading In[79], in expression starting on line 24",
        "",
        " in include at /Applications/Julia-0.3.7.app/Contents/Resources/julia/lib/julia/sys.dylib",
        " in include_from_node1 at /Applications/Julia-0.3.7.app/Contents/Resources/julia/lib/julia/sys.dylib"
       ]
      }
     ],
     "prompt_number": 79
    },
    {
     "cell_type": "markdown",
     "metadata": {
      "slideshow": {
       "slide_type": "slide"
      }
     },
     "source": [
      "##\u3061\u3087\u3063\u3068\u5909\u308f\u3063\u305f\u578b\u30b7\u30b9\u30c6\u30e0\n",
      "____\n",
      "\n",
      "* julia\u306e\u578b(\u30af\u30e9\u30b9)\u30b7\u30b9\u30c6\u30e0\u306f\u3001\u591a\u91cd\u30c7\u30a3\u30b9\u30d1\u30c3\u30c1\u3068\u547c\u3070\u308c\u308b\u3082\u306e\u3092\u5229\u7528\u3057\u591a\u614b\u6027\u3092\u8868\u73fe\n",
      "    * \u30aa\u30d6\u30b8\u30a7\u30af\u30c8\u6307\u5411\u8a00\u8a9e\u3067\u306f\u30af\u30e9\u30b9(\u578b\uff09\u306b\u30e1\u30bd\u30c3\u30c9(\u95a2\u6570)\u304c\u6240\u5c5e\n",
      "    * julia\u3067\u306f\u3001\u95a2\u6570(\u30e1\u30bd\u30c3\u30c9)\u306b\u578b(\u30af\u30e9\u30b9)\u304c\u6240\u5c5e\n",
      "        * \u5177\u4f53\u7684\u306b\u306f\u3001\u95a2\u6570\u306e\u5f15\u6570\u306e\u578b\u306b\u3088\u3063\u3066\u3001\u95a2\u6570\u306e\u6319\u52d5\u304c\u5909\u5316\n",
      "            * \u95a2\u6570\u306e\u30aa\u30fc\u30d0\u30fc\u30ed\u30fc\u30c9\u306b\u8fd1\u3044\u5f62\u306e\u3082\u306e\u3092\u60f3\u50cf\u3057\u3066\u304f\u3060\u3055\u3044\u3067\u3059"
     ]
    },
    {
     "cell_type": "markdown",
     "metadata": {
      "slideshow": {
       "slide_type": "subslide"
      }
     },
     "source": [
      "##\u578b\n",
      "____\n",
      "\n",
      "\u578b\u306f\u3001\u5927\u304d\u304f\u5206\u3051\u308b\u3068\n",
      "* \u62bd\u8c61\u578b  \n",
      "* \u5177\u8c61\u578b  \n",
      "\n",
      "\u306b\u5206\u3051\u308b\u3053\u3068\u304c\u3067\u304d\u307e\u3059\u3002\n",
      "\n",
      "* \u62bd\u8c61\u578b\u306f\u3001\u5909\u6570\u3092\u6301\u3064\u3053\u3068\u304c\u3067\u304d\u307e\u305b\u3093!!!\n",
      "\u3055\u3089\u306b\u3001\u30a4\u30f3\u30b9\u30bf\u30f3\u30b9\u3082\u751f\u6210\u3067\u304d\u307e\u305b\u3093\u3002  \n",
      "* \u5177\u8c61\u578b\u306f\u3000\u7d99\u627f\u3067\u304d\u307e\u305b\u3093!!\n",
      "\n",
      "\u5f93\u3063\u3066\u3001**\u79fb\u8b72(Delegation)**\u3092\u4f7f\u3044\u7d99\u627f\u95a2\u4fc2\u3092\u69cb\u7bc9\u3059\u308b\u3053\u3068\u3082\u3067\u304d\u307e\u3059\u3002\n",
      "\n",
      "\u3069\u3046\u3057\u3066\u3082\u4f7f\u3044\u305f\u3044\u5834\u5408\u306f\u3001trait-mixin \u30de\u30af\u30ed\u306a\u3069\u3092\u4f5c\u3063\u305f\u308a\u3059\u308b\u3053\u3068\u3082\u3067\u304d\u307e\u3059\u3002\n",
      "____\n"
     ]
    },
    {
     "cell_type": "markdown",
     "metadata": {},
     "source": [
      "####\u578b\u516c\u5f0f\u30b5\u30a4\u30c8\u306e\u3000\u76ee\u6b21\u3067\u3059\n",
      "###\u62bd\u8c61\u578b\n",
      "* **Abstruct Type  **  \n",
      "\u62bd\u8c61\u578b\u306e\u5b9a\u7fa9\u3067\u3059\n",
      "\n",
      "###\u5177\u8c61\u578b\n",
      "* **Bit Type**  \n",
      "\u30d3\u30c3\u30c8\u578b\u3092\u5b9a\u7fa9Int\u3068\u304bFloat64\u306a\u3069\u306f\u3053\u306e\u578b\u3067\u3059\u3002  \n",
      "--  How to use  --  \n",
      "\u5b9a\u7fa9:: bitstype \u00abbits\u00bb \u00abname\u00bb <: \u00absupertype\u00bb  \n",
      "\u5b9f\u969b\u306b\u4f7f\u3046\u306b\u306f,\u5c11\u3057\u9762\u5012\u3067\u4e0b\u306b\u5c11\u3057\u3060\u3051\u7d39\u4ecb\u3057\u3066\u3042\u308a\u307e\u3059\u3002\n",
      "\n",
      "\n",
      "\n",
      "\n",
      "\n",
      "* **Composit Type**  \n",
      "python\u306e\u30af\u30e9\u30b9\u3000\u3084\u3000C\u306e\u69cb\u9020\u4f53\u306b\u8fd1\u3044\u3082\u306e\u3068\u8003\u3048\u3066\u304f\u3060\u3055\u3044\u3002  \n",
      "\n",
      "\n",
      "\n",
      "* **Immutable Composit Type**   \n",
      "\u4e0d\u5909\u578b\u3067\u3059\u3001\u30a4\u30f3\u30b9\u30bf\u30f3\u30b9\u306e\u5024::(\u6ce8)\u3092\u5909\u66f4\u3059\u308b\u3053\u3068\u304c\u3067\u304d\u306a\u3044\u578b\u3067\u3059\u3002  \n",
      "\n",
      "###\u30d1\u30e9\u30e1\u30fc\u30bf\u3092\u542b\u3080\u578b\n",
      "* **Parametric Type  **  \n",
      "\u30d1\u30e9\u30e1\u30fc\u30bf\u3092\u6301\u3064\u578b\u3067\u3059\u3002\u578b\u306b\u5b9a\u7fa9\u3055\u308c\u305f\u3001\u5909\u6570\u306e\u578b\u3092\u4efb\u610f\u306e\u578b\u306b\u5236\u9650\u3057\u307e\u3059\u3002    \n",
      "\u5177\u4f53\u7684\u306b\u306f\u3001\u4ee5\u4e0b\u3067\u53d6\u308a\u6271\u3063\u3066\u3044\u307e\u3059\u3002  \n",
      "\n",
      "\n",
      "* **Parametric Abstract Types**  \n",
      "\u30d1\u30e9\u30e1\u30fc\u30bf\u3092\u542b\u3093\u3060\u62bd\u8c61\u578b\u3067\u3059\u3002  \n",
      "Singleton Types, abstract\u3000<name>{T}\u306a\u3069\u304c\u3042\u308a\u3059\u3000\u3000\u3000\n",
      "\n",
      "\n",
      "* **Pramtric Composit Type**  \n",
      "\u30d1\u30e9\u30e1\u30fc\u30bf\u3092\u542b\u3093\u3060Composit Type\u3067\u3059\u3002  \n",
      "\n",
      "* **Parametric Bits Types**\n",
      "\n",
      "\n",
      "* **Type Union**  \n",
      "\u7d50\u5408\u578b\u3092\u4f5c\u308a\u307e\u3059\u3002e.g. `<Char\u578b\u3068Strings\u578b>`  \n",
      "(Union(Char, String))\n",
      "\n",
      "\n",
      "* **Type Aliases**  \n",
      "\u578b\u306e\u30a8\u30a4\u30ea\u30a2\u30b9\u3092\u4f5c\u308a\u307e\u3059\u3002e.g. `(Array{T,1} == Vector{T})`  \n",
      "'typealias Vector{T} Array{T,1}'\u3067\u5b9a\u7fa9\u3057\u307e\u3059\n",
      "\n",
      "\n",
      "\n",
      "Tuple Types\n",
      "\n",
      "Vararg Tuple Types\n",
      "\n",
      "\u201cValue types\u201d\n",
      "\n",
      "Nullable Types: Representing Missing Values** v0.4~  \n",
      "\n",
      "\u578b\u306e\u8a71\u306f\u91cf\u304c\u591a\u304f\u3066"
     ]
    },
    {
     "cell_type": "markdown",
     "metadata": {},
     "source": [
      "###Julia\u306e\u578b\u30b0\u30e9\u30d5"
     ]
    },
    {
     "cell_type": "code",
     "collapsed": false,
     "input": [
      "#Top::\u5168\u3066\u306e\u578b\u306fAny\u578b\u306e\u5b50\u30af\u30e9\u30b9,\u9006\u306fNone\u578b\n",
      "level = 0\n",
      "function showtypetree(subtype)\n",
      "    global level\n",
      "    subtypelist = filter(asubtype -> asubtype != Any, subtypes(subtype))\n",
      "    if length(subtypelist) > 0 \n",
      "         println(\"\\t\" ^ level, subtype)        \n",
      "         level += 1\n",
      "         map(showtypetree, subtypelist)\n",
      "         level -= 1\n",
      "    else\n",
      "         println(\"\\t\" ^ level, subtype)\n",
      "    end    \n",
      "end\n",
      "\n",
      "showtypetree(AbstractArray)#Number, String, AbstractArray\u3092\u898b\u3066\u307f\u305f\u3044\u306a\u3002"
     ],
     "language": "python",
     "metadata": {},
     "outputs": [
      {
       "output_type": "stream",
       "stream": "stdout",
       "text": [
        "AbstractArray{"
       ]
      },
      {
       "output_type": "stream",
       "stream": "stdout",
       "text": [
        "T,N}\n",
        "\tAbstractSparseArray{Tv,Ti,N}\n",
        "\t\tSparseMatrixCSC{Tv,Ti<:Integer}\n",
        "\tBidiagonal{T}\n",
        "\tDArray{T,N,A}\n",
        "\tDenseArray{T,N}\n",
        "\t\tArray{T,N}\n",
        "\t\tBitArray{N}\n",
        "\t\tSharedArray{T,N}\n",
        "\tDiagonal{T}\n",
        "\tGivens{T}\n",
        "\tHermitian{T}\n",
        "\tHessenbergQ{T}\n",
        "\tMessage\n",
        "\tQRCompactWYQ{S}\n",
        "\tQRPackedQ{T}\n",
        "\tRange{T}\n",
        "\t\tFloatRange{T<:FloatingPoint}\n",
        "\t\tOrdinalRange{T,S}\n",
        "\t\t\tStepRange{T,S}\n",
        "\t\t\tUnitRange{T<:Real}\n",
        "\tSubArray{T,N,A<:AbstractArray{T,N},I<:(Union(Range{Int64},Int64)...,)}\n",
        "\tSymTridiagonal{T}\n",
        "\tSymmetricRFP{T<:Union(Complex{Float64},Float32,Float64,Complex{Float32})}\n",
        "\tSymmetric{T}\n",
        "\tTriangularRFP{T<:Union(Complex{Float64},Float32,Float64,Complex{Float32})}\n",
        "\tTriangular{T,S<:AbstractArray{T,2},UpLo,IsUnit}\n",
        "\tTridiagonal{T}\n",
        "\tWoodbury{T}\n"
       ]
      },
      {
       "metadata": {},
       "output_type": "pyout",
       "prompt_number": 10,
       "text": [
        "0"
       ]
      }
     ],
     "prompt_number": 10
    },
    {
     "cell_type": "code",
     "collapsed": false,
     "input": [
      "#Bit\u578b\u306f\u3053\u3093\u306a\u611f\u3058\u3067\u5b9a\u7fa9\u3057\u307e\u3059\u3002\n",
      "import Core.Intrinsics.box, Core.Intrinsics.unbox #box\u3001unbox\u306f\u304b\u306a\u308a\u30d7\u30ea\u30df\u30c6\u30a3\u30d6\u306a\u95a2\u6570\u3067\u3059\u3002\n",
      "\n",
      "bitstype 64 Blah64 \n",
      "bitstype 32 Blash32\n",
      "\n",
      "\n",
      "blash64 = box(Blah64, unbox(Int, 1)) \n",
      "#\u307e\u305f\u306f\u3001\u578b\u306e\u89e3\u91c8\u3092\u5909\u66f4\u3059\u308b\u95a2\u6570\u3092\u7528\u3044\u3002\n",
      "blash32 = reinterpret(Blash32,uint32(8))\n",
      "\n",
      "(blash32,blash64)"
     ],
     "language": "python",
     "metadata": {},
     "outputs": [
      {
       "metadata": {},
       "output_type": "pyout",
       "prompt_number": 12,
       "text": [
        "(Blash32(0x00000008),Blah64(0x0000000000000001))"
       ]
      }
     ],
     "prompt_number": 12
    },
    {
     "cell_type": "markdown",
     "metadata": {
      "slideshow": {
       "slide_type": "subslide"
      }
     },
     "source": [
      "####\u30af\u30a9\u30fc\u30bf\u30cb\u30aa\u30f3\u3092\u5b9a\u7fa9\u3057\u3066\u307f\u3088\u3046!!"
     ]
    },
    {
     "cell_type": "code",
     "collapsed": false,
     "input": [
      "#=\u306f\u8907\u6570\u884c\u30b3\u30e1\u30f3\u30c8\u30a2\u30a6\u30c8=#\n",
      "\n",
      "#=\n",
      "\u62bd\u8c61\u578b\u306e\u5b9a\u7fa9\n",
      "abstract Number\n",
      "abstract Real     <: Number\n",
      "abstract FloatingPoint <: Real\n",
      "abstract Integer  <: Real\n",
      "abstract Signed   <: Integer\n",
      "abstract Unsigned <: Integer\n",
      "=#\n",
      "\n",
      "#\u5177\u8c61\u578b\u306e\u5b9a\u7fa9\n",
      "# T \u306f\u30d1\u30e9\u30e1\u30c8\u30ea\u30c3\u30af\u30bf\u30a4\u30d7(\u578b) \u30fb\u3053\u306e\u5834\u5408 Real \u4ee5\u4e0b\u306e\u4efb\u610f\u306e\u540c\u4e00\u306e\u578b\u3092\u53d6\u308b\u3002\n",
      "# <:Number\u306f\u578b\u306e\u89aa\u5b50\u95a2\u4fc2\u3092\u793a\u3059\u3002\n",
      "type Quaternion{T<:Real} <:Number\n",
      "    x::T\n",
      "    y::T\n",
      "    z::T\n",
      "    w::T\n",
      "    #\u5185\u90e8\u306b\u3082\u30b3\u30f3\u30b9\u30c8\u30e9\u30af\u30bf(\u578b\u3068\u540c\u4e00\u540d\u306e\u95a2\u6570)\u3092\u5b9a\u7fa9\u3067\u304d\u307e\u3059\u3002\u8a73\u3057\u304f\u306f \u516c\u5f0f\u30b5\u30a4\u30c8\u3067\u78ba\u8a8d\u3057\u3066\u304f\u3060\u3055\u3044\u3002\n",
      "end\n",
      "#\u5916\u90e8\u30b3\u30f3\u30b9\u30c8\u30e9\u30af\u30bf\u3067\u521d\u671f\u5024\u306a\u3069\u3092\u5b9a\u7fa9\u3067\u304d\u308b\u3002\n",
      "Quaternion() = Quaternion(0,0,0,0)\n",
      "\n",
      "#\u5177\u8c61\u578b\u306f\u4ed6\u306b\u3082\u3001\u4e0d\u5909\u578b\u306e immutable \u304c\u3042\u308a\u307e\u3059\u3002\n",
      "\n",
      "+(q1::Quaternion, q2::Quaternion) = Quaternion(q1.x + q2.x, q1.y + q2.y, q1.z + q2.z, q1.w + q2.w)\n",
      "-(q1::Quaternion, q2::Quaternion) = Quaternion(q1.x - q2.x, q1.y - q2.y, q1.z - q2.z, q1.w - q2.w)\n",
      "*(q1::Quaternion, q2::Quaternion) = Quaternion(q1.w * q2.w - q1.x * q2.x - q1.y * q2.y - q1.z * q2.z,\n",
      "                                               q1.y * q2.z - q1.z * q2.y + q1.w * q2.x + q1.x * q2.w,\n",
      "                                               q1.z * q2.x - q1.x * q2.z + q1.w * q2.y + q1.y * q2.w,\n",
      "                                               q1.x * q2.y - q1.y * q2.x + q1.w * q2.z + q1.z * q2.w)\n",
      "*(q1::Quaternion, r::Real) = Quaternion(q1.x*r, q1.y*r, q1.z*r, q1.w*r)\n",
      "*(r::Real, q1::Quaternion) = *(q1,r)"
     ],
     "language": "python",
     "metadata": {
      "slideshow": {
       "slide_type": "subslide"
      }
     },
     "outputs": [
      {
       "output_type": "stream",
       "stream": "stderr",
       "text": [
        "Warning: New definition \n",
        "    *(Quaternion"
       ]
      },
      {
       "output_type": "stream",
       "stream": "stderr",
       "text": [
        "{T<:Real},Real) at In[14]:34\n",
        "is ambiguous with: \n",
        "    *(Number,Bool) at bool.jl:58.\n",
        "To fix, define \n",
        "    *(Quaternion{T<:Real},Bool)\n",
        "before the new definition.\n",
        "Warning: New definition \n",
        "    *(Real,Quaternion{T<:Real}) at In[14]:35\n",
        "is ambiguous with: \n",
        "    *(Bool,T<:Number) at bool.jl:52.\n",
        "To fix, define \n",
        "    *(Bool,_<:Quaternion{T<:Real})\n",
        "before the new definition.\n"
       ]
      },
      {
       "metadata": {},
       "output_type": "pyout",
       "prompt_number": 14,
       "text": [
        "* (generic function with 118 methods)"
       ]
      }
     ],
     "prompt_number": 14
    },
    {
     "cell_type": "code",
     "collapsed": false,
     "input": [
      "#\u30b3\u30f3\u30b9\u30c8\u30e9\u30af\u30bf new \u306f\u3044\u308a\u307e\u305b\u3093\n",
      "q1, q2 = Quaternion(1,2,3,4), Quaternion(5,6,7,8)\n",
      "\n",
      "q1 * q2"
     ],
     "language": "python",
     "metadata": {
      "slideshow": {
       "slide_type": "subslide"
      }
     },
     "outputs": [
      {
       "metadata": {},
       "output_type": "pyout",
       "prompt_number": 15,
       "text": [
        "Quaternion{Int64}(-6,24,48,48)"
       ]
      }
     ],
     "prompt_number": 15
    },
    {
     "cell_type": "code",
     "collapsed": false,
     "input": [
      "#\u30d1\u30e9\u30e1\u30c8\u30ea\u30c3\u30af\u30bf\u30a4\u30d7\u306e\u578b\u304c\u5909\u308f\u308a\u6570\u5024\u578b\u306fFloat64\u306b\u7d71\u4e00\u3055\u308c\u307e\u3057\u305f\u3002\n",
      "#\u3053\u306e\u6319\u52d5\u306b\u3064\u3044\u3066\u306f\u3001\u3057\u305f\u3067\u5c11\u3057\u8aac\u660e\u304c\u3042\u308a\u307e\u3059\u3002\n",
      "q1*0.5"
     ],
     "language": "python",
     "metadata": {},
     "outputs": [
      {
       "metadata": {},
       "output_type": "pyout",
       "prompt_number": 16,
       "text": [
        "Quaternion{Float64}(0.5,1.0,1.5,2.0)"
       ]
      }
     ],
     "prompt_number": 16
    },
    {
     "cell_type": "markdown",
     "metadata": {},
     "source": [
      "###\u30d1\u30e9\u30e1\u30c8\u30ea\u30c3\u30af\u30bf\u30a4\u30d7\u3067\u91cd\u8981\u306a\u3053\u3068\u306f\n",
      "\n",
      "* ** \u305f\u3068\u3048 Float64 <: Real \u3067\u3042\u3063\u3066\u3082 Quaternion{Float64} <: Quaternion{Real}. \u3067\u306f\u306a\u3044\u3053\u3068\u3067\u3059\u3002**"
     ]
    },
    {
     "cell_type": "markdown",
     "metadata": {},
     "source": [
      "####\u578b\u7406\u8ad6\u306e\u8a00\u8449\u3092\u501f\u308a\u308b\u3068\n",
      "\u30d1\u30e9\u30e1\u30c8\u30ea\u30c3\u30af\u306a\u578b\u306f\u306f\u5171\u5909\u3084\u53cd\u5909\u3067\u306a\u304f\u4e0d\u5909\u3067\u3042\u308b\u3002  \n",
      "\n",
      "\n",
      "wikipedia\u3088\u308a\n",
      "* \u5171\u5909(covariant)     :: \u72ed\u3044\u578b\u304b\u3089,\u5e83\u3044\u578b\u3078\u5909\u63db\u3059\u308b\u3053\u3068\u3002\n",
      "* \u53cd\u5909(contravariant) :: \u5e83\u3044\u578b\u304b\u3089,\u72ed\u3044\u578b\u3078\u5909\u63db\u3059\u308b\u3053\u3068\u3002\n",
      "* \u4e0d\u5909(invariant)     :: \u305d\u306e\u305f"
     ]
    },
    {
     "cell_type": "markdown",
     "metadata": {},
     "source": [
      "###Tuple Type\n",
      "* \u9806\u5e8f,\u578b,imutable\u3067\u3059\u3002\n",
      "* \u30d1\u30e9\u30e1\u30fc\u30bf\u306b\u3064\u3044\u3066\u306f\u5171\u5909"
     ]
    },
    {
     "cell_type": "code",
     "collapsed": false,
     "input": [
      "typeof((1, \"Hello Julia\", 2.))"
     ],
     "language": "python",
     "metadata": {},
     "outputs": [
      {
       "metadata": {},
       "output_type": "pyout",
       "prompt_number": 19,
       "text": [
        "(Int64,ASCIIString,Float64)"
       ]
      }
     ],
     "prompt_number": 19
    },
    {
     "cell_type": "code",
     "collapsed": false,
     "input": [
      "(Int, String) <:(Number, Any)"
     ],
     "language": "python",
     "metadata": {},
     "outputs": []
    },
    {
     "cell_type": "markdown",
     "metadata": {},
     "source": [
      "###Singleton Types \n",
      "\n",
      "* \u5168\u3066\u306e\u578b\u306f,Type{T<:Top}\u3068\u547c\u3070\u308c\u308b\u30d1\u30e9\u30e1\u30fc\u30bf\u578b\u306e\u30a4\u30f3\u30b9\u30bf\u30f3\u30b9\n"
     ]
    },
    {
     "cell_type": "code",
     "collapsed": false,
     "input": [
      "#Type{T<:Top}\n",
      "#Top = Union(Any, Undef)\n",
      "#\u552f\u4e00\u306e\u30a4\u30f3\u30b9\u30bf\u30f3\u30b9\u304c\u30aa\u30d6\u30b8\u30a7\u30af\u30c8T\u3067\u3042\u308b\u62bd\u8c61\u30d1\u30e9\u30e1\u30bf\u578b\u3002\n",
      "isa(Float64, Type{Float64})"
     ],
     "language": "python",
     "metadata": {},
     "outputs": [
      {
       "metadata": {},
       "output_type": "pyout",
       "prompt_number": 21,
       "text": [
        "true"
       ]
      }
     ],
     "prompt_number": 21
    },
    {
     "cell_type": "markdown",
     "metadata": {
      "slideshow": {
       "slide_type": "slide"
      }
     },
     "source": [
      "##Conversion and Promotion \n",
      "____\n",
      "julia\u3067\u306f\u4e0a\u4f4d\u578b\u3078\u306e\u6697\u9ed9\u7684\u306a\u578b\u30ad\u30e3\u30b9\u30c8\u306f\u884c\u3044\u307e\u305b\u3093\u3002  \n",
      "\u306a\u306e\u3067\u3001\u578b\u304c\u9069\u7528\u3067\u304d\u306a\u304b\u3063\u305f\u5834\u5408\u306b\u660e\u793a\u7684\u306b\u578b\u5909\u63db\u3092\u884c\u3046\u95a2\u6570promote\u3068\u305d\u308c\u306b\u95a2\u9023\u3057\u305fconvert\u95a2\u6570\u304c\u5fc5\u8981\u306b\u306a\u3063\u3066\u304d\u307e\u3059\u3002\n",
      "____\n",
      "\n",
      "\n",
      "* Promotion   \u4e0a\u4f4d\u306e\u578b\u3078\u306e\u5909\u63db ->\n",
      "    * promote_rule\u95a2\u6570\u306b\u3088\u3063\u3066\u578b\u306e\u5909\u63db\u95a2\u4fc2\u304c\u5b9a\u7fa9\u3055\u308c\u3066\u3044\u307e\u3059\u3002\n",
      "    * promote_type\u95a2\u6570\u304cpromote_rule\u306b\u57fa\u3065\u304f\u578b\u306e\u5909\u63db\u3092\u884c\u3063\u3066\u3044\u307e\u3059\u3002\n",
      "* Conversion  \n",
      "    * convert \u95a2\u6570 promote \u95a2\u6570\u304c\u578b\u5909\u63db\u3092\u884c\u3046\u3068\u304d\u306b\u7528\u3044\u308b\u95a2\u6570\u3002\n",
      "    * \u578b\u5909\u63db\u306e\u5b9a\u7fa9\u3092\u884c\u3046\u5834\u5408\u306f convert \u95a2\u6570\u306b\u5b9a\u7fa9\u3057\u3066\u304f\u3060\u3055\u3044\u3002"
     ]
    },
    {
     "cell_type": "code",
     "collapsed": false,
     "input": [
      "# convert\u95a2\u6570\u306f\u4e00\u822c\u7684\u306b\u4e8c\u3064\u306e\u5f15\u6570\u3092\u53d6\u308b\n",
      "#     \u7b2c\u4e00\u5f15\u6570\u306b\u76ee\u7684\u306e\u578b\n",
      "#     \u7b2c\u4e8c\u5f15\u6570\u306b\u5909\u63db\u3057\u305f\u3044\u578b\u306e\u5024\n",
      "# \u51fa\u529b\u306f\u5909\u63db\u3055\u308c\u305f\u578b\u306e\u30a4\u30f3\u30b9\u30bf\u30f3\u30b9\n",
      "\n",
      "convert(::Type{Bool}, x::Number) = (x!=0)\n",
      "# \u7b2c\u4e00\u5f15\u6570\u306f\u30b7\u30f3\u30b0\u30eb\u30c8\u30f3\u578b\n",
      "#     \u578b\u305d\u308c\u81ea\u4f53\u306e\u3053\u3068\u3067\u3059\u3002e.g.(Int, Float64...)\n",
      "# \u7b2c\u4e00\u5f15\u6570\u306b\u5909\u6570\u304c\u5b9a\u7fa9\u3055\u308c\u3066\u3044\u306a\u3044\u306e\u306f\u95a2\u6570\u672c\u4f53\u3067\u306f\u7528\u3044\u306a\u3044\u305f\u3081"
     ],
     "language": "python",
     "metadata": {
      "slideshow": {
       "slide_type": "subslide"
      }
     },
     "outputs": [
      {
       "metadata": {},
       "output_type": "pyout",
       "prompt_number": 84,
       "text": [
        "convert (generic function with 1 method)"
       ]
      }
     ],
     "prompt_number": 84
    },
    {
     "cell_type": "code",
     "collapsed": false,
     "input": [
      "convert(Bool, 1)  # 1\u3092Bool\u306b\u5909\u63db"
     ],
     "language": "python",
     "metadata": {
      "slideshow": {
       "slide_type": "subslide"
      }
     },
     "outputs": [
      {
       "metadata": {},
       "output_type": "pyout",
       "prompt_number": 85,
       "text": [
        "true"
       ]
      }
     ],
     "prompt_number": 85
    },
    {
     "cell_type": "code",
     "collapsed": false,
     "input": [
      "convert(Bool,1im)  # 1im\u3092Bool\u306b\u5909\u63db"
     ],
     "language": "python",
     "metadata": {
      "slideshow": {
       "slide_type": "-"
      }
     },
     "outputs": [
      {
       "metadata": {},
       "output_type": "pyout",
       "prompt_number": 86,
       "text": [
        "true"
       ]
      }
     ],
     "prompt_number": 86
    },
    {
     "cell_type": "code",
     "collapsed": false,
     "input": [
      "# Promotion\u306e\u5b9a\u7fa9\u306e\u4ed5\u65b9\n",
      "# \u4ee5\u4e0b\u306e\u3088\u3046\u306b\u5b9a\u7fa9\u3059\u308b\u3053\u3068\u3067Float64\u3068Float32\u306e\u9593\u306e\u6f14\u7b97\u304cFloat64\u3067\u884c\u308f\u308c\u308b\u3053\u3068\u3092\u8868\u3059\n",
      "promote_rule(::Type{Float64}, ::Type{Float32} ) = Float64"
     ],
     "language": "python",
     "metadata": {
      "slideshow": {
       "slide_type": "subslide"
      }
     },
     "outputs": [
      {
       "metadata": {},
       "output_type": "pyout",
       "prompt_number": 87,
       "text": [
        "promote_rule (generic function with 1 method)"
       ]
      }
     ],
     "prompt_number": 87
    },
    {
     "cell_type": "code",
     "collapsed": false,
     "input": [
      "# \u5171\u901a\u306e\u3088\u308a\u5927\u304d\u306a\u578b\u3092\u8fd4\u3059\n",
      "promote_type(Uint64,Float32)"
     ],
     "language": "python",
     "metadata": {
      "slideshow": {
       "slide_type": "-"
      }
     },
     "outputs": [
      {
       "metadata": {},
       "output_type": "pyout",
       "prompt_number": 88,
       "text": [
        "Float32"
       ]
      }
     ],
     "prompt_number": 88
    },
    {
     "cell_type": "markdown",
     "metadata": {
      "slideshow": {
       "slide_type": "subslide"
      }
     },
     "source": [
      "[CaseStudy](http://docs.julialang.org/en/release-0.3/manual/conversion-and-promotion/#case-study-rational-conversions)\u3082\u3046\u5c11\u3057\u306b\u8a73\u3057\u304f\u66f8\u304b\u308c\u3066\u3044\u307e\u3059\u3002\n",
      "\n",
      "\n",
      "\u3055\u3089\u306b\u8a73\u3057\u304f\u77e5\u308a\u305f\u3044\u5834\u5408\u306f\u3001\u4ee5\u4e0b\u306e\u8cc7\u6599\u304c\u30aa\u30b9\u30b9\u30e1\u3067\u3059\u3002  \n",
      "julia\u306e\u30b3\u30a2\u958b\u767a\u8005\u306e@StefanKarpinski\u3055\u3093\u306e\u66f8\u304b\u308c\u305f\u591a\u91cd\u30c7\u30a3\u30b9\u30d1\u30c3\u30c1\u306e[\u8cc7\u6599](http://nbviewer.ipython.org/gist/StefanKarpinski/b8fe9dbb36c1427b9f22)\u306f\u7d20\u6674\u3089\u3057\u3044\u3067\u3059\u3002  \n",
      "julia\u306e\u591a\u91cd\u30c7\u30a3\u30b9\u30d1\u30c3\u30c1\u306e\u65e5\u672c\u8a9e\u3067\u66f8\u304b\u308c\u305f\u8cc7\u6599\u306f[\u3053\u3053](http://dsng.hatenablog.com/entry/2014/01/27/173154)\u3067\u3059\u3002  \n",
      "\u4e0a\u8a18\u3092\u53c2\u8003\u8cc7\u6599\u306b\u3057\u3066\u3044\u308b\u306e\u3067\u308f\u304b\u308a\u3084\u3059\u3044\u3067\u3059\u3002"
     ]
    },
    {
     "cell_type": "markdown",
     "metadata": {
      "slideshow": {
       "slide_type": "subslide"
      }
     },
     "source": [
      "### \u5b9f\u969b\u306e\u51e6\u7406\u306e\u6d41\u308c ###\n",
      "\n",
      "1. \u578bT\u3068\u578bS\u306e\u9593\u3067\u4f55\u304b\u3057\u3089\u8a08\u7b97\u51fa\u6765\u306a\u3044\u5834\u5408\u306ffallback\u30e1\u30bd\u30c3\u30c9\u304c\u547c\u3070\u308c\u308b\n",
      "2. fallback\u30e1\u30bd\u30c3\u30c9\u3067promote\u95a2\u6570\u304c\u547c\u3070\u308c\u308b\n",
      "3. promote\u95a2\u6570\u3067\u306fconvert(promote_type(T,S),x)\u304c\u547c\u3070\u308c\u308b\n",
      "4. \u3053\u3053\u3067promote_type(T,S)\u306e\u8fd4\u308a\u5024\u306fpromote_rule\u306b\u3088\u3063\u3066\u6c7a\u5b9a\u3055\u308c\u3001\u3088\u308a\u5927\u304d\u306a\u5171\u901a\u306e\u578b\u3092\u8fd4\u3059\n",
      "5. \u8fd4\u3055\u308c\u305f\u578b\u306bx\u306e\u5024\u3092\u5909\u63db"
     ]
    },
    {
     "cell_type": "markdown",
     "metadata": {
      "slideshow": {
       "slide_type": "slide"
      }
     },
     "source": [
      "##\u5916\u90e8\u30e9\u30a4\u30d6\u30e9\u30ea"
     ]
    },
    {
     "cell_type": "code",
     "collapsed": false,
     "input": [
      "julia libraly \u304a\u3059\u3059\u3081100\u9078\n",
      "\u30a4\u30f3\u30bf\u30fc\u30d5\u30a7\u30fc\u30b9\n",
      "  vim  \n",
      "  Emacs\n",
      "  LightTble\n",
      "  JuliaStudio\n",
      "  IJulia.etc\n",
      "\n",
      "\u30c7\u30fc\u30bf\u95a2\u9023\n",
      "  MNist\n",
      "    MNist\n",
      "  R\u6a19\u6e96\u30c7\u30fc\u30bf\n",
      "    RDatasets\n",
      "  \u7d4c\u6e08\u30c7\u30fc\u30bf\n",
      "    EconDatasets\n",
      "    MarketData\n",
      "    Quandl\n",
      "    WorldBankData\n",
      "  Twitter\n",
      "    Twitter\n",
      "  Yepl\n",
      "    Yepl\n",
      "\n",
      "\u30c7\u30fc\u30bf\u30d9\u30fc\u30b9\n",
      "  Key-Value\n",
      "    Redis\n",
      "  \u30e1\u30bf\u30e9\u30a4\u30d6\u30e9\u30ea\n",
      "    ODBC\n",
      "\n",
      "IO/\u304b\u3093\u308c\u3093\n",
      "\n",
      "  \u97f3\u97ff\n",
      "\tAudioIO\n",
      "    WAV\n",
      "  \u753b\u50cf\n",
      "    Images\n",
      "    OpenCV::\u8981Cxx\u001c",
      "\n",
      "  \u52d5\u753b\n",
      "    VideoIO\n",
      "  \u6642\u7cfb\u5217\u30c7\u30fc\u30bf\n",
      "    TimeSeries\n",
      "  csv\n",
      "\tDataFrames\n",
      "    Pandas\n",
      "  YAML\n",
      "    YAML\n",
      "  HDF5\n",
      "    HDF5\n",
      "  FASTA::DNA\n",
      "    FASTA\n",
      "  FITS::\u753b\u50cf\n",
      "    FISTIO\n",
      "    NIfTI\n",
      "    WCSLIB\n",
      "  \u30d0\u30a4\u30ca\u30ea\u30d5\u30a1\u30a4\u30eb\n",
      "    StrPack\n",
      "  \u5730\u56f3\u30c7\u30fc\u30bf\n",
      "    OpenStreetMap\n",
      "\n",
      "  RobotOS\n",
      "\n",
      "\n",
      "\u8a08\u7b97\u95a2\u9023::JuliaStats\n",
      "  \u6c4e\u7528\u8a08\u7b97\u30e9\u30a4\u30d6\u30e9\u30ea\n",
      "    StatsBase\n",
      "    NumericExtentions  logsumexp\n",
      "    NumericFuns\n",
      "  \u81ea\u52d5\u5fae\u5206\n",
      "    AutoDiff\n",
      "  \u5fae\u7a4d\u5206\n",
      "    \u6a19\u6e96\u3067\u30ac\u30a6\u30b9\uff1d\u30af\u30ed\u30f3\u30ed\u30c3\u30c9\u9069\u5fdc\u6c42\u7a4d\u3042\u308a\n",
      "    Calculus\n",
      "  \u6a5f\u68b0\u5b66\u7fd2\u95a2\u9023\n",
      "    MLBase\n",
      "  \u4e71\u6570(\u78ba\u7387\u5206\u5e03\u30fb\u5bc6\u5ea6\u95a2\u6570.etc)\n",
      "    Distributions\n",
      "  \u6b63\u5b9a\u5024\u884c\u5217\n",
      "    PDMats\n",
      "  \u30e9\u30f3\u30c0\u30e0\u884c\u5217\n",
      "    RandomMatrices\n",
      "\n",
      "\u30c7\u30fc\u30bf\u51e6\u7406\n",
      "  \u30c6\u30ad\u30b9\u30c8\n",
      "    TextAnalysis\n",
      "  \u65e5\u672c\u8a9e\u524d\u51e6\u7406\n",
      "    MeCab\n",
      "  \u9023\u7d9a\u30c7\u30fc\u30bf(\u30a6\u30a7\u30fc\u30d6\u30ec\u30c3\u30c8\u5909\u63db)\n",
      "    Wavelets\n",
      "  \u97f3\u97ff\n",
      "    WORLD\n",
      "\n",
      "\u5206\u6790\u30c4\u30fc\u30eb\u30ad\u30c3\u30c8\n",
      "  YT\n",
      "\n",
      "\u6a5f\u68b0\u5b66\u7fd2\n",
      "  DeepLearning\u95a2\u9023\n",
      "    Boltzmann Machine | DBN\n",
      "\n",
      "  CNN\n",
      "    Mocha\n",
      "\n",
      "  \u30b5\u30f3\u30d7\u30ea\u30f3\u30b0\n",
      "    Lora\n",
      "    Manba\n",
      "    Stan\n",
      "\n",
      "  \u975e\u8ca0\u5024\u884c\u5217\u5206\u89e3\n",
      "    NMF(pLSI)\n",
      "  \u30b3\u30f3\u30c7\u30a3\u30b7\u30e7\u30ca\u308b\u30e9\u30f3\u30c0\u30e0\u30d5\u30a3\u30fc\u30eb\u30c9\n",
      "    CRF\n",
      "  \u591a\u69d8\u4f53\u5b66\u7fd2\n",
      "    ManiforldLearnig\n",
      "  \u30ab\u30fc\u30cd\u30eb\u6cd5\n",
      "    KernelDensityEstimaition\n",
      "    Libsvm\n",
      "    SVM\n",
      "  \u6df7\u5408\u30e2\u30c7\u30eb\n",
      "    MixturModels\n",
      "  \u30d6\u30fc\u30b9\u30c6\u30a3\u30f3\u30b0\n",
      "    XGBoost\n",
      "\n",
      "  \u30d9\u30a4\u30b8\u30a2\u30f3\u30cd\u30c3\u30c8\u30ef\u30fc\u30af(\u30b0\u30e9\u30d5\u30a3\u30ab\u30eb\u30e2\u30c7\u30eb)\n",
      "    PGM\n",
      "    BayesNet\n",
      "\n",
      "  \u30a2\u30f3\u30b5\u30f3\u30d6\u30eb\u5b66\u7fd2\n",
      "    Orchestra\n",
      "  \u7d4c\u9a13\u30ea\u30b9\u30af\u6700\u5c0f\u5316\n",
      "    RegERMs\n",
      "  \u8fd1\u508d\u6cd5\n",
      "    FLANN\n",
      "  \u6642\u7cfb\u5217\u30e2\u30c7\u30eb\n",
      "    TimeModel\n",
      "  \u30c8\u30d4\u30c3\u30af\u30e2\u30c7\u30eb\n",
      "    TopicModels\n",
      "\n",
      "  \u306a\u3093\u3060\u3053\u308c\n",
      "    DirichletProssesMixtur\n",
      "    Stochy\n",
      "\n",
      "\u6700\u9069\u5316\u8a08\u7b97\n",
      "  \u9032\u5316\u8a08\u7b97\n",
      "    Evolution\n",
      "    Phylogenetics\n",
      "  \u6700\u9069\u5316\n",
      "    NLopt\n",
      "  \u6700\u9069\u5316\u30e1\u30bf\u30e9\u30a4\u30d6\u30e9\u30ea\n",
      "    Jump\n",
      "  \u6c42\u6839\u30a2\u30eb\u30b4\u30ea\u30ba\u30e0\n",
      "    Roots\n",
      "  \u534a\u6b63\u5b9a\u5024\u8a08\u753b\u554f\u984c\n",
      "    SemidefiniteProgramming\n",
      "\n",
      "\n",
      "plot\u95a2\u9023\n",
      "  Gadfly\n",
      "    \u30a2\u30cb\u30e1\u30fc\u30b7\u30e7\u30f3\n",
      "      Reel\n",
      "\n",
      "  PyPlot\n",
      "  TextPlot\n",
      "  Winston\n",
      "  GR\n",
      "\n",
      "  \u30b0\u30e9\u30d5\n",
      "    GlaphLayout\n",
      "    GlaphVis\n",
      "  \u30dc\u30ed\u30ce\u30a4\u56f3\n",
      "    VoronoiDelaunary\n",
      "\n",
      "\n",
      "Foreign Function Interface (FFI) \n",
      "  Python\n",
      "    PyCall\n",
      "  C\n",
      "    \u6a19\u6e96\u30e9\u30a4\u30d6\u30e9\u30ea\n",
      "  C++\n",
      "    Cxx\n",
      "  Java\n",
      "    JavaCall\n",
      "  R\n",
      "    RCall\n",
      "  OpenCL\n",
      "    OpenCL\n",
      "\n",
      "\u305d\u306e\u4ed6\n",
      "  \u30e1\u30e2\u5316\n",
      "    Memoise\n",
      "  \u4ee3\u6570\n",
      "    Quaternion\n",
      "    DualNumber\n",
      "    HyperDualNumber\n",
      "  \u7dda\u5f62\u4ee3\u6570 (\u7279\u6b8a\u306a\u884c\u5217)\n",
      "    SpechalMatrices\n",
      "  \u30c1\u30a7\u30c3\u30af\n",
      "    QuickCheck\n",
      "  \u95a2\u6570\u30ea\u30a2\u30af\u30c6\u30a3\u30d6\n",
      "    Reactive\n",
      "  \u6697\u53f7\u5316\n",
      "    Sodium\n",
      "  \u30c6\u30f3\u30bd\u30eb\u30aa\u30da\u30ec\u30fc\u30b7\u30e7\u30f3\n",
      "    TensorOperations\n",
      "  \u975e\u7dda\u5f62\u529b\u5b66\u7cfb\n",
      "    CauseMap\n",
      "  \u30d7\u30ed\u30b0\u30e9\u30df\u30f3\u30b0\u8a00\u8a9e\u95a2\u9023\n",
      "    ValueDispatch\n",
      "  \u6570\u5024\u306e\u59a5\u5f53\u6027(0.99999... = 1?)\n",
      "    ValidatedNumerics\n",
      "  \u9078\u6319\u30b9\u30ad\u30fc\u30e0\uff1f\n",
      "    Voting\n",
      "\n",
      "GPU\n",
      "juliaGPU\n"
     ],
     "language": "python",
     "metadata": {
      "slideshow": {
       "slide_type": "subslide"
      }
     },
     "outputs": [
      {
       "ename": "LoadError",
       "evalue": "syntax: extra token \"libraly\" after end of expression\nwhile loading In[89], in expression starting on line 1",
       "output_type": "pyerr",
       "traceback": [
        "syntax: extra token \"libraly\" after end of expression\nwhile loading In[89], in expression starting on line 1",
        ""
       ]
      }
     ],
     "prompt_number": 89
    }
   ],
   "metadata": {}
  }
 ]
}