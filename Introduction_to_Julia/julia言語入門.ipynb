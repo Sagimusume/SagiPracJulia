{
 "metadata": {
  "celltoolbar": "Slideshow",
  "language": "Julia",
  "name": "",
  "signature": "sha256:83faed0b2bcdf8097bb940cd2008e965a59e0312bce35780a2f70ebed82a641b"
 },
 "nbformat": 3,
 "nbformat_minor": 0,
 "worksheets": [
  {
   "cells": [
    {
     "cell_type": "markdown",
     "metadata": {},
     "source": [
      "##julia\u8a00\u8a9e \u5165\u9580  \n",
      "____\n",
      "\n",
      "* \u516c\u5f0f[\u30c9\u30ad\u30e5\u30e1\u30f3\u30c8](http://docs.julialang.org/en/release-0.3/#manual)\u304c\u3059\u3054\u304f\u5145\u5b9f\u3057\u3066\u3044\u307e\u3059\u3002\n",
      "* [julia adventCalender2014](http://qiita.com/advent-calendar/2014/julialang)\u306b\u306f\u3001\u65e5\u672c\u8a9e\u3067\u66f8\u304b\u308c\u305f\u826f\u3044\u8cc7\u6599\u304c\u305f\u304f\u3055\u3093\u3042\u308a\u307e\u3059\u3002 \n",
      "* \u4e2d\u3067\u3082[\u3053\u3053](http://bicycle1885.hatenablog.com/entry/2014/12/23/170745)\u306f\u65e5\u672c\u8a9e\u3067\u7dba\u9e97\u306b\u3088\u304f\u307e\u3068\u3081\u3089\u308c\u3066\u3044\u307e\u3059\u3002  \n",
      "* \u82f1\u8a9e\u3067\u3059\u304c[\u3053\u3053](http://quant-econ.net/jl/index.html)\u306e\u30b5\u30a4\u30c8\u3067\u306f\u6a5f\u68b0\u5b66\u7fd2\u306e\u30c1\u30e5\u30fc\u30c8\u30ea\u30a2\u30eb\u3092\u517c\u306d\u305fjulia\u8a00\u8a9e\u306e\u5165\u9580\u304c\u3067\u304d\u307e\u3059\n",
      "* \u30e9\u30a4\u30d6\u30e9\u30ea\u306f\u7528\u9014\u3054\u3068\u306b[\u3053\u3053](http://svaksha.github.io/Julia.jl/)\u306b\u307e\u3068\u3081\u3089\u308c\u3066\u3044\u307e\u3059\u3002\u516c\u5f0f\u30e9\u30a4\u30d6\u30e9\u30ea\u306f[\u3053\u3053]()\u3067\u3059\u3002\n",
      "* \u304b\u306a\u308a\u30b3\u30a2\u306a\u8a71\u3067\u3059\u304c\u8a00\u8a9e\u8a2d\u8a08\u306b\u3064\u3044\u3066\u306f\u3053\u306e[\u8ad6\u6587](http://arxiv.org/pdf/1209.5145v1.pdf)\u304c\u3044\u3044\u3089\u3057\u3044\u3067\u3059\u3002\n",
      "_____\n",
      "\n"
     ]
    },
    {
     "cell_type": "markdown",
     "metadata": {},
     "source": [
      "\n",
      "REPL\u304c\u4f7f\u3044\u3084\u3059\u3044\u3067\u3059\u3002\n",
      "\n",
      "* `<tab>`  \u3067\u88dc\u5b8c  \n",
      "\n",
      "* ?   \u3067\"help\"\u306e\u547c\u3073\u51fa\u3057\u3002  \n",
      "* \\alpha`<tab>`   \u3067 tex like \u306aUnicode\u6587\u5b57\u3078\u306e\u5909\u63db\u3002(\u3053\u306e\u5834\u5408\u306f\u03b1\u304c\u51fa\u529b\u3055\u308c\u308b)\n",
      "* **\";\"**   \u3067 \"shell\"\u306e\u547c\u3073\u51fa\u3057\u3002  \n",
      "* **\u95a2\u6570\u540d.env`<tab>**\u3067\u95a2\u6570\u306e\u30ea\u30b9\u30c8\u3092\u51fa\u529b\u3057\u307e\u3059\u3002  \n",
      "\n",
      "_____"
     ]
    },
    {
     "cell_type": "markdown",
     "metadata": {
      "slideshow": {
       "slide_type": "slide"
      }
     },
     "source": [
      "\n",
      "\n",
      "##python\u3068\u306e\u9055\u3044\u306f?\n",
      "\u57fa\u672c\u7684\u306a\u6587\u6cd5\u306f\u307b\u3068\u3093\u3069python\u3068\u540c\u3058\u3067\u3059\u3002  \n",
      "\u95a2\u6570\u306f\u3001Matlab\u3068\u4f3c\u305f\u3082\u306e\u304c\u591a\u304b\u3063\u305f\u306e\u3067\u3059\u304c\u3001\u73fe\u5728\u306f\u591a\u5c11\u5909\u308f\u308a\u3064\u3064\u3042\u308a\u307e\u3059\u3002\n",
      "\n",
      "____\n",
      "\n",
      "\u4e3b\u306a\u9055\u3044\u306f[Noteworthy Differences...](http://docs.julialang.org/en/release-0.3/manual/noteworthy-differences/)\u306b\u826f\u304f\u307e\u3068\u307e\u3063\u3066\u3044\u307e\u3059\u3002\n",
      "* \u914d\u5217\u306e\u30a4\u30f3\u30c7\u30c3\u30af\u30b9\u306f \"1\" \u304b\u3089\u59cb\u307e\u308b\u3002\n",
      "* \u914d\u5217\u306e\u6700\u5f8c\u306e\u8981\u7d20\u306e\u6307\u5b9a\u306f\"-1\" \u3067\u306a\u304f\"end\"\u3002\n",
      "* \"Comprehensions\"\u3000\u306f\u307e\u3060\u3000\"for\" \u306e\u307f\u5229\u7528\u53ef\u80fd?\n",
      "* julia\u306e\"\u914d\u5217\"\u306f\"*\u5217(Column)*\"\u304c\u30e1\u30a4\u30f3\u3067\u3059\u3002\n",
      "* \"return\"\u304c\u306a\u304f\u3066\u3082\u3001\u6700\u5f8c\u306b\u8a55\u4fa1\u3055\u308c\u305f\u3082\u306e\u304c\u5e30\u3063\u3066\u304d\u307e\u3059\u3002\n",
      "* for if \u306a\u3069\u306b\u30b9\u30b3\u30fc\u30d7\u304c\u3042\u308a\u307e\u3059\n",
      "* end\u3000\u6587\u304c\u3064\u304d\u307e\u3059 ruby\u3068\u540c\u3058\u3067\u3059\n",
      "\n",
      "\u306a\u3069\u304c\u3042\u308a\u307e\u3059\u3002\n"
     ]
    },
    {
     "cell_type": "code",
     "collapsed": false,
     "input": [
      "A = [i for i = 1:9]\u3000#Comprehensions\n",
      "B = reshape(A,3,3)"
     ],
     "language": "python",
     "metadata": {},
     "outputs": [
      {
       "metadata": {},
       "output_type": "pyout",
       "prompt_number": 145,
       "text": [
        "3x3 Array{Int64,2}:\n",
        " 1  4  7\n",
        " 2  5  8\n",
        " 3  6  9"
       ]
      }
     ],
     "prompt_number": 145
    },
    {
     "cell_type": "code",
     "collapsed": false,
     "input": [
      "B[1,2]"
     ],
     "language": "python",
     "metadata": {},
     "outputs": [
      {
       "metadata": {},
       "output_type": "pyout",
       "prompt_number": 146,
       "text": [
        "4"
       ]
      }
     ],
     "prompt_number": 146
    },
    {
     "cell_type": "code",
     "collapsed": false,
     "input": [
      "A[4] == B[4]"
     ],
     "language": "python",
     "metadata": {},
     "outputs": [
      {
       "metadata": {},
       "output_type": "pyout",
       "prompt_number": 147,
       "text": [
        "true"
       ]
      }
     ],
     "prompt_number": 147
    },
    {
     "cell_type": "markdown",
     "metadata": {
      "slideshow": {
       "slide_type": "slide"
      }
     },
     "source": [
      "##\u69cb\u6587\n",
      "___\n",
      "\u57fa\u672c\u7684\u306a\u69cb\u6587\u306f\u3001\u307b\u3068\u3093\u3069python\u3068\u540c\u3058\u3067\u3059\u3002  \n",
      "___"
     ]
    },
    {
     "cell_type": "markdown",
     "metadata": {},
     "source": [
      "### for \u30eb\u30fc\u30d7"
     ]
    },
    {
     "cell_type": "code",
     "collapsed": false,
     "input": [
      "for i = 1:10 \n",
      "    if i%3 != 0\n",
      "        continue \n",
      "    end\n",
      "    println(i)\n",
      "end"
     ],
     "language": "python",
     "metadata": {},
     "outputs": [
      {
       "output_type": "stream",
       "stream": "stdout",
       "text": [
        "3\n"
       ]
      },
      {
       "output_type": "stream",
       "stream": "stdout",
       "text": [
        "6\n",
        "9\n"
       ]
      }
     ],
     "prompt_number": 148
    },
    {
     "cell_type": "markdown",
     "metadata": {},
     "source": [
      "### if elseif else\u3000\u4e09\u9805\u6f14\u7b97\u5b50"
     ]
    },
    {
     "cell_type": "code",
     "collapsed": false,
     "input": [
      "a = 3\n",
      "\n",
      "#\u6761\u4ef6\u5206\u5c90\n",
      "function test(x, y)\n",
      "    if x < y\n",
      "        println(\"x is less than y\")\n",
      "    elseif x > y\n",
      "        println(\"x is greater than y\")\n",
      "    else\n",
      "        println(\"x is equal to y\")\n",
      "    end\n",
      "end\n",
      "\n",
      "test(2,3)\n",
      "\n",
      "#\u4e09\u9805\u6f14\u7b97\u5b50\n",
      "#\u30d5\u30a3\u30dc\u30ca\u30c3\u30c1\u6570\u5217\n",
      "fib(n) = n<2 ? n : fib(n-1)+fib(n-2)\n",
      "\n",
      "#\u30a2\u30c3\u30ab\u30fc\u30de\u30f3\u95a2\u6570\n",
      "Ack(m,n) = m==0?n-1:\n",
      "           n==0?Ack(m-1,1): Ack(m-1,Ack(m,n-1))"
     ],
     "language": "python",
     "metadata": {},
     "outputs": [
      {
       "output_type": "stream",
       "stream": "stdout",
       "text": [
        "x is less than y\n"
       ]
      },
      {
       "metadata": {},
       "output_type": "pyout",
       "prompt_number": 149,
       "text": [
        "Ack (generic function with 1 method)"
       ]
      }
     ],
     "prompt_number": 149
    },
    {
     "cell_type": "markdown",
     "metadata": {
      "slideshow": {
       "slide_type": "slide"
      }
     },
     "source": [
      "### while "
     ]
    },
    {
     "cell_type": "code",
     "collapsed": false,
     "input": [
      "n = 100\n",
      "while true\n",
      "    @show n \n",
      "    if n < 90\n",
      "        break\n",
      "    end\n",
      "    n -= 1\n",
      "end\n"
     ],
     "language": "python",
     "metadata": {},
     "outputs": [
      {
       "output_type": "stream",
       "stream": "stdout",
       "text": [
        "n => 100"
       ]
      },
      {
       "output_type": "stream",
       "stream": "stdout",
       "text": [
        "\n",
        "n => 99\n",
        "n => 98\n",
        "n => 97\n",
        "n => 96\n",
        "n => 95\n",
        "n => 94\n",
        "n => 93\n",
        "n => 92\n",
        "n => 91\n",
        "n => 90\n",
        "n => 89\n"
       ]
      }
     ],
     "prompt_number": 150
    },
    {
     "cell_type": "markdown",
     "metadata": {},
     "source": [
      "###\u30d6\u30ed\u30c3\u30af\u69cb\u6587 begin~end, let~end\n",
      "___\n",
      "[\u3053\u3053](http://docs.julialang.org/en/release-0.3/manual/variables-and-scoping/)\u307f\u3066\u304f\u3060\u3055\u3044\u3002"
     ]
    },
    {
     "cell_type": "code",
     "collapsed": false,
     "input": [
      "#\u30b9\u30b3\u30fc\u30d7\u95a2\u9023\u306e\u8a71 \u5272\u611b\n",
      "global y\n",
      "\n",
      "local x\n",
      "\n",
      "begin \n",
      "    x\n",
      "end\n",
      "\n",
      "let\n",
      "    y\n",
      "end\n"
     ],
     "language": "python",
     "metadata": {},
     "outputs": [
      {
       "ename": "LoadError",
       "evalue": "syntax: misplaced \"local\" declaration\nwhile loading In[151], in expression starting on line 5",
       "output_type": "pyerr",
       "traceback": [
        "syntax: misplaced \"local\" declaration\nwhile loading In[151], in expression starting on line 5",
        ""
       ]
      }
     ],
     "prompt_number": 151
    },
    {
     "cell_type": "markdown",
     "metadata": {},
     "source": [
      "### \u4f8b\u5916\u51e6\u7406 try ~ chath\n",
      "____\n",
      "  [\u4f8b\u5916](http://docs.julialang.org/en/release-0.3/manual/control-flow/#built-in-exceptions)"
     ]
    },
    {
     "cell_type": "code",
     "collapsed": false,
     "input": [
      "sqrt_second(x) = try\n",
      "    sqrt(x[2])\n",
      "    catch y\n",
      "    if isa(y, DomainError)\n",
      "        sqrt(complex(x[2], 0))\n",
      "    elseif isa(y, BoundsError)\n",
      "        sqrt(x)\n",
      "    end\n",
      "end"
     ],
     "language": "python",
     "metadata": {},
     "outputs": [
      {
       "metadata": {},
       "output_type": "pyout",
       "prompt_number": 152,
       "text": [
        "sqrt_second (generic function with 1 method)"
       ]
      }
     ],
     "prompt_number": 152
    },
    {
     "cell_type": "markdown",
     "metadata": {},
     "source": [
      "### [Task](http://julia.readthedocs.org/en/latest/manual/control-flow/#tasks-and-events)(\u30b3\u30eb\u30fc\u30c1\u30f3)\n",
      "___\n",
      "\u30b3\u30eb\u30fc\u30c1\u30f3\u3068\u306f,\u51e6\u7406\u3092\u3044\u3063\u305f\u3093\u4e2d\u65ad\u3057,\u305d\u306e\u5f8c\u5fc5\u8981\u306b\u5fdc\u3058\u3066\u306b\u305d\u306e\u51e6\u7406\u306e\u7d9a\u304d\u304b\u3089\u518d\u958b\u3059\u308b\u3053\u3068\u304c\u3067\u304d\u308b\u5236\u5fa1\u69cb\u9020\u3067\u3059\n",
      "\n",
      "* produce  \n",
      "\u51e6\u7406\u3092\u4e2d\u65ad\u3059\u308b(\u6307\u5b9a\u3059\u308b)\n",
      "\n",
      "* Task  \n",
      "\u30bf\u30b9\u30af\u3092\u751f\u6210\u3059\u308b\n",
      "\n",
      "* consum  \n",
      "\u30bf\u30b9\u30af\u3092\u518d\u958b\u3059\u308b  \n",
      "\n",
      "\n",
      "[\u30d1\u30e9\u30ec\u30eb](http://julia.readthedocs.org/en/latest/manual/parallel-computing/#man-parallel-computing)\u5316\u3059\u308b\u969b\u306b\u3082\u4f3c\u305f\u69d8\u306a\u5236\u5fa1\u69cb\u9020\u3092\u5229\u7528\u3057\u3066\u3044\u307e\u3059\n",
      "\n"
     ]
    },
    {
     "cell_type": "code",
     "collapsed": false,
     "input": [
      "function producer()\n",
      "    produce(\"start\")\n",
      "    for n=1:4\n",
      "        produce(2n)\n",
      "    end\n",
      "    produce(\"stop\")\n",
      "end;\n",
      "\n",
      "p = Task(producer);"
     ],
     "language": "python",
     "metadata": {},
     "outputs": [],
     "prompt_number": 153
    },
    {
     "cell_type": "code",
     "collapsed": false,
     "input": [
      "#\u4f55\u5ea6\u304b\u66f4\u65b0\u3057\u3066\u304f\u3060\u3055\u3044 \"start\" -> 1->2->3...\u3068\u66f4\u65b0\u3055\u308c\u3066\u3044\u304d\u307e\u3059\u3002\n",
      "consume(p) "
     ],
     "language": "python",
     "metadata": {},
     "outputs": [
      {
       "metadata": {},
       "output_type": "pyout",
       "prompt_number": 154,
       "text": [
        "\"start\""
       ]
      }
     ],
     "prompt_number": 154
    },
    {
     "cell_type": "markdown",
     "metadata": {},
     "source": [
      "####\u30b3\u30eb\u30fc\u30c1\u30f3\u3092\u4f7f\u3063\u3066\u30ae\u30d6\u30b9\u30b5\u30f3\u30d7\u30e9\u30fc\u3092\u4f5c\u3063\u3066\u307f\u3088\u3046!!\n",
      "* \u591a\u5909\u91cf\u6b63\u898f\u5206\u5e03\u304b\u3089\u30b5\u30f3\u30d7\u30ea\u30f3\u30b0"
     ]
    },
    {
     "cell_type": "code",
     "collapsed": false,
     "input": [
      "using Distributions\n",
      "#\u5e73\u5747[0, 0], \u5206\u6563[1 \u03c1; \u03c1 1] \u306e\u5834\u5408\n",
      "\u03c1 = 0.90\n",
      "\u03bc = [0, 0]\n",
      "S  = [1 \u03c1; \u03c1 1]\n",
      "S\u2071 = inv(S)\n",
      "detS = det(S)\n",
      "\n",
      "#\u76ee\u7684\u95a2\u6570\n",
      "f(x) = exp(-(x-\u03bc)'S\u2071*(x-\u03bc)/2)/(2\u03c0*sqrt(detS))"
     ],
     "language": "python",
     "metadata": {},
     "outputs": [
      {
       "metadata": {},
       "output_type": "pyout",
       "prompt_number": 155,
       "text": [
        "f (generic function with 5 methods)"
       ]
      }
     ],
     "prompt_number": 155
    },
    {
     "cell_type": "code",
     "collapsed": false,
     "input": [
      "#\u6761\u4ef6\u4ed8\u304d\u5206\u5e03\u304b\u3089\u4e00\u3064\u30b5\u30f3\u30d7\u30ea\u30f3\u30b0\n",
      "function sample_one(x)\n",
      "    new_x = rand(Normal(\u03c1*x[2], 1-\u03c1^2))\n",
      "    new_y = rand(Normal(\u03c1*new_x, 1-\u03c1^2))\n",
      "    return [new_x, new_y]\n",
      "end\n",
      "\n",
      "#\u30a4\u30c6\u30ec\u30fc\u30b7\u30e7\u30f3\u56de\u6570\n",
      "N = 600\n",
      "BURNIN = 0\n",
      "\n",
      "#\u30b3\u30eb\u30fc\u30c1\u30f3\n",
      "function sampler(BURNIN)\n",
      "  x = zeros(2)\n",
      "  for i = 1:BURNIN\n",
      "    x = sample_one(x)\n",
      "  end\n",
      "  while true\n",
      "    x = sample_one(x)\n",
      "        produce(x)   #produce\n",
      "  end\n",
      "end\n",
      "  \n",
      "xs, ys = zeros(N),zeros(N)\n",
      "\n",
      "#\u30b3\u30eb\u30fc\u30c1\u30f3\u4f5c\u6210\n",
      "sim = @task sampler(BURNIN)\n",
      "\n",
      "#\u30eb\u30fc\u30d7\u3067\u4efb\u610f\u56de\u6570\u30b5\u30f3\u30d7\u30eb\u3057\u307e\u3059\n",
      "for i = 1:N\n",
      "  xs[i],ys[i] = consume(sim)\n",
      "end\n"
     ],
     "language": "python",
     "metadata": {},
     "outputs": [],
     "prompt_number": 156
    },
    {
     "cell_type": "code",
     "collapsed": false,
     "input": [
      "#Python \u306e matplotlib \u3092\u3088\u3073\u3060\u3057\u3066\u3044\u307e\u3059\u3002\u3000\n",
      "using PyPlot\n",
      "\n",
      "l = linspace(-3.,3.)\n",
      "Z = Float64[f([x,y])[1] for x = l,y=l]\n",
      "pcolor(l,l,Z,alpha=0.5)\n",
      "\n",
      "scatter(xs, ys)"
     ],
     "language": "python",
     "metadata": {},
     "outputs": [
      {
       "metadata": {},
       "output_type": "display_data",
       "png": "[encoded data removed]",
       "text": [
        "Figure(PyObject <matplotlib.figure.Figure object at 0x11095ad10>)"
       ]
      },
      {
       "metadata": {},
       "output_type": "pyout",
       "prompt_number": 157,
       "text": [
        "PyObject <matplotlib.collections.PathCollection object at 0x1126b91d0>"
       ]
      }
     ],
     "prompt_number": 157
    },
    {
     "cell_type": "markdown",
     "metadata": {},
     "source": [
      "### do \u69cb\u6587\n",
      "___\n",
      "\n",
      "do\u69cb\u6587\u306f\u3001\u7121\u540d\u95a2\u6570\u3092\u4f5c\u308a\u307e\u3059\u3002\n",
      "\n",
      "\u5177\u4f53\u7684\u306b\u306f\u3001\n",
      "\u95a2\u6570\u306e\u7b2c\u4e00\u5f15\u6570\u304c\u95a2\u6570\u578b\u3067\u3042\u308b\u5834\u5408\u3001do \u69cb\u6587\u3092\u7528\u3044\u308b\u3053\u3068\u306b\u3088\u3063\u3066\u3001do \u4ee5\u4e0b\u306b\u95a2\u6570\u306e\u51e6\u7406\u5185\u5bb9\u3092\u3092\u66f8\u304f\u3053\u3068\u304c\u3067\u304d\u308b\u3088\u3046\u306b\u306a\u308a\u307e\u3059\u3002  \n",
      "\n",
      "\n",
      "#####\u30e2\u30f3\u30c6\u30ab\u30eb\u30ed\u7a4d\u5206\u3067\u5186\u5468\u7387\u3092"
     ]
    },
    {
     "cell_type": "code",
     "collapsed": false,
     "input": [
      "N = 100000\n",
      "\n",
      "#(x,y)->x^2+y^2 \u306f\u7121\u540d\u95a2\u6570!\n",
      "\n",
      "# map((x,y)->x^2+y^2<=1, rand(N),rand(N))\n",
      "\n",
      "p = map(rand(N),rand(N)) do x,y\n",
      "    x^2 + y^2 <= 1\n",
      "end\n",
      "\n",
      "sum(p)/N*4"
     ],
     "language": "python",
     "metadata": {},
     "outputs": [
      {
       "metadata": {},
       "output_type": "pyout",
       "prompt_number": 158,
       "text": [
        "3.1406"
       ]
      }
     ],
     "prompt_number": 158
    },
    {
     "cell_type": "markdown",
     "metadata": {
      "slideshow": {
       "slide_type": "slide"
      }
     },
     "source": [
      "## \u95a2\u6570"
     ]
    },
    {
     "cell_type": "code",
     "collapsed": false,
     "input": [
      "#\u95a2\u6570\u5b9a\u7fa9\u306f\u4ee5\u4e0b\u306e\u3088\u3046\u306b\u3082\u884c\u3048\u307e\u3059\u3002\n",
      "\n",
      "function f(x::Int64,y::Int64)\n",
      "    x + y\n",
      "end\n",
      "f(x::Float64, y::Float64) = x * y\n",
      "f(x::Int64, y::Float64) = x / y\n",
      "f(x,y) = x - y"
     ],
     "language": "python",
     "metadata": {},
     "outputs": [
      {
       "metadata": {},
       "output_type": "pyout",
       "prompt_number": 159,
       "text": [
        "f (generic function with 5 methods)"
       ]
      }
     ],
     "prompt_number": 159
    },
    {
     "cell_type": "code",
     "collapsed": false,
     "input": [
      "f(1.,2) # 1 - 2"
     ],
     "language": "python",
     "metadata": {},
     "outputs": [
      {
       "metadata": {},
       "output_type": "pyout",
       "prompt_number": 160,
       "text": [
        "-1.0"
       ]
      }
     ],
     "prompt_number": 160
    },
    {
     "cell_type": "markdown",
     "metadata": {
      "slideshow": {
       "slide_type": "slide"
      }
     },
     "source": [
      "####\u30de\u30af\u30ed\u3092\u642d\u8f09\n",
      "____\n",
      "\n",
      "* **_@_**\u304b\u3089\u59cb\u307e\u308b\u3082\u306e\u306f\u3001_*\u30de\u30af\u30ed*_\u3068\u547c\u3070\u308c\u308b\u3082\u306e\u3067\u3059\u3002  \n",
      "* \u4ed6\u306b\u3082\u3000** r\"\u3000\"**\u3000(\u6b63\u898f\u8868\u73fe\u306e\u5ba3\u8a00)\u306a\u3069\u81ea\u7531\u306b\u5b9a\u7fa9\u3067\u304d\u307e\u3059\u3002\u3000\u3000\u3000\u3000\u2192 match(r\"^\\s*(?:#|$)\", \"# a comment\")\n",
      "* julia\u306e\u30de\u30af\u30ed\u306f\u3001Lisp like \u306e\u304b\u306a\u308a\u5f37\u529b\u306a\u3082\u306e\u304c\u642d\u8f09\u3055\u308c\u3066\u3044\u307e\u3059\u3002"
     ]
    },
    {
     "cell_type": "code",
     "collapsed": false,
     "input": [
      "@which f(2,1) #\u3069\u306e\u30e1\u30bd\u30c3\u30c9\u304c\u547c\u3070\u308c\u305f\u304b\u3092\u77e5\u308b\u305f\u3081\u306e\u30de\u30af\u30ed\u3002\n"
     ],
     "language": "python",
     "metadata": {},
     "outputs": [
      {
       "html": [
        "f(x::<b>Int64</b>,y::<b>Int64</b>) at In[159]:4"
       ],
       "metadata": {},
       "output_type": "pyout",
       "prompt_number": 161,
       "text": [
        "f(x::Int64,y::Int64) at In[159]:4"
       ]
      }
     ],
     "prompt_number": 161
    },
    {
     "cell_type": "code",
     "collapsed": false,
     "input": [
      "@time f(3.,4)"
     ],
     "language": "python",
     "metadata": {},
     "outputs": [
      {
       "output_type": "stream",
       "stream": "stdout",
       "text": [
        "elapsed time: 4"
       ]
      },
      {
       "output_type": "stream",
       "stream": "stdout",
       "text": [
        ".827e-6 seconds (96 bytes allocated)\n"
       ]
      },
      {
       "metadata": {},
       "output_type": "pyout",
       "prompt_number": 162,
       "text": [
        "-1.0"
       ]
      }
     ],
     "prompt_number": 162
    },
    {
     "cell_type": "code",
     "collapsed": false,
     "input": [
      "#\u53ef\u5909\u9577\u5f15\u6570 -> \u30bf\u30d7\u30eb\u578b\u304c\u6e21\u3055\u308c\u307e\u3059\n",
      "foo(arg...) = arg\n",
      "foo(1,2,3)"
     ],
     "language": "python",
     "metadata": {},
     "outputs": [
      {
       "metadata": {},
       "output_type": "pyout",
       "prompt_number": 163,
       "text": [
        "(1,2,3)"
       ]
      }
     ],
     "prompt_number": 163
    },
    {
     "cell_type": "code",
     "collapsed": false,
     "input": [
      "#\u30aa\u30d7\u30b7\u30e7\u30ca\u30eb\u5f15\u6570#\u30c7\u30d5\u30a9\u30eb\u30c8\u5f15\u6570\n",
      "foo(x,y=2,z=3) = (x,y,z)\n",
      "\n",
      "foo(1,5,10.) # ->(1,5,10.)"
     ],
     "language": "python",
     "metadata": {},
     "outputs": [
      {
       "metadata": {},
       "output_type": "pyout",
       "prompt_number": 164,
       "text": [
        "(1,5,10.0)"
       ]
      }
     ],
     "prompt_number": 164
    },
    {
     "cell_type": "code",
     "collapsed": false,
     "input": [
      "#\u30c7\u30d5\u30a9\u30eb\u30c8\u5024\u304c\u8fd4\u3055\u308c\u307e\u3057\u305f\n",
      "foo(10)"
     ],
     "language": "python",
     "metadata": {},
     "outputs": [
      {
       "output_type": "stream",
       "stream": "stdout",
       "text": [
        "1010test\n"
       ]
      }
     ],
     "prompt_number": 165
    },
    {
     "cell_type": "code",
     "collapsed": false,
     "input": [
      "#\u540d\u524d\u4ed8\u304d\u5f15\u6570 (`;` \u30bb\u30df\u30b3\u30ed\u30f3)\n",
      "foo(x::Int ;y=10, z = \"test\") = println(x,y,z)\n",
      "\n",
      "foo(10,y = 20, z = \"Test\")"
     ],
     "language": "python",
     "metadata": {},
     "outputs": [
      {
       "output_type": "stream",
       "stream": "stdout",
       "text": [
        "1020Test\n"
       ]
      }
     ],
     "prompt_number": 166
    },
    {
     "cell_type": "code",
     "collapsed": false,
     "input": [
      "#\u4ee5\u4e0b\u3092\u7528\u3044\u308b\u3068llvm-ir\u51fa\u529b\u3057\u307e\u3059\u305f\u3076\u3093\u3002\uff08\u5b9f\u969b\u5b9f\u884c\u3055\u308c\u308b\u3082\u306e\u3068\u9055\u3046\u5834\u5408\u304b\u3082\u3067\u3059)\n",
      "hello(name::String) = \"Hello, $name\"\n",
      "code_llvm(hello, (String,))\n"
     ],
     "language": "python",
     "metadata": {},
     "outputs": [
      {
       "output_type": "stream",
       "stream": "stdout",
       "text": [
        "\n",
        "define %jl_value_t* @julia_hello_23764(%jl_value_t*, %jl_value_t**, i32) {\n",
        "top:\n",
        "  %3 = alloca [4 x %jl_value_t*], align 8\n",
        "  %.sub = getelementptr inbounds [4 x %jl_value_t*]* %3, i64 0, i64 0\n",
        "  %4 = getelementptr [4 x %jl_value_t*]* %3, i64 0, i64 2, !dbg !11390\n",
        "  store %jl_value_t* inttoptr (i64 4 to %jl_value_t*), %jl_value_t** %.sub, align 8\n",
        "  %5 = load %jl_value_t*** @jl_pgcstack, align 8, !dbg !11390\n",
        "  %6 = getelementptr [4 x %jl_value_t*]* %3, i64 0, i64 1, !dbg !11390\n",
        "  %.c = bitcast %jl_value_t** %5 to %jl_value_t*, !dbg !11390\n",
        "  store %jl_value_t* %.c, %jl_value_t** %6, align 8, !dbg !11390\n",
        "  store %jl_value_t** %.sub, %jl_value_t*** @jl_pgcstack, align 8, !dbg !11390\n",
        "  store %jl_value_t* null, %jl_value_t** %4, align 8\n",
        "  %7 = getelementptr [4 x %jl_value_t*]* %3, i64 0, i64 3\n",
        "  store %jl_value_t* null, %jl_value_t** %7, align 8\n",
        "  %8 = icmp eq i32 %2, 1, !dbg !11390\n",
        "  br i1 %8, label %ifcont, label %else, !dbg !11390\n",
        "\n",
        "else:                                             ; preds = %top\n",
        "  call void @jl_error(i8* getelementptr inbounds ([26 x i8]* @_j_str0, i64 0, i64 0)), !dbg !11390\n",
        "  unreachable, !dbg !11390\n",
        "\n",
        "ifcont:                                           ; preds = %top\n",
        "  %9 = load %jl_value_t** %1, align 8, !dbg !11390\n",
        "  store %jl_value_t* inttoptr (i64 140201083453024 to %jl_value_t*), %jl_value_t** %4, align 8, !dbg !11391\n",
        "  store %jl_value_t* %9, %jl_value_t** %7, align 8, !dbg !11391\n",
        "  %10 = call %jl_value_t* @jl_apply_generic(%jl_value_t* inttoptr (i64 140200947332480 to %jl_value_t*), %jl_value_t** %4, i32 2), !dbg !11391\n",
        "  %11 = load %jl_value_t** %6, align 8, !dbg !11391\n",
        "  %12 = getelementptr inbounds %jl_value_t* %11, i64 0, i32 0, !dbg !11391\n",
        "  store %jl_value_t** %12, %jl_value_t*** @jl_pgcstack, align 8, !dbg !11391\n",
        "  ret %jl_value_t* %10, !dbg !11391\n",
        "}\n"
       ]
      },
      {
       "output_type": "stream",
       "stream": "stderr",
       "text": [
        "Warning: Returned code may not match what actually runs.\n"
       ]
      }
     ],
     "prompt_number": 167
    },
    {
     "cell_type": "code",
     "collapsed": false,
     "input": [
      "#\u4f4e\u7d1a\u306a\u3053\u30fc\u3069\n",
      "code_lowered(hello, (String,))\n"
     ],
     "language": "python",
     "metadata": {},
     "outputs": [
      {
       "metadata": {},
       "output_type": "pyout",
       "prompt_number": 168,
       "text": [
        "1-element Array{Any,1}:\n",
        " :($(Expr(:lambda, {:name}, {{},{{:name,:Any,0}},{}}, :(begin  # In[167], line 2:\n",
        "        return (top(string))(\"Hello, \",name)\n",
        "    end))))"
       ]
      }
     ],
     "prompt_number": 168
    },
    {
     "cell_type": "code",
     "collapsed": false,
     "input": [
      "#\u30cd\u30a4\u30c6\u30a3\u30d6\u30b3\u30fc\u30c9\n",
      "code_native(hello, (String,))\n"
     ],
     "language": "python",
     "metadata": {},
     "outputs": [
      {
       "output_type": "stream",
       "stream": "stdout",
       "text": [
        "\t.section\t__TEXT,__text,regular,pure_instructions\n",
        "Filename: In[167]\n",
        "Source line: 2\n",
        "\tpush\tRBP\n",
        "\tmov\tRBP, RSP\n",
        "\tpush\tRBX\n",
        "\tsub\tRSP, 40\n",
        "\tmov\tQWORD PTR [RBP - 40], 4\n",
        "Source line: 2\n",
        "\tmovabs\tRBX, 4318784464\n",
        "\tmov\tRAX, QWORD PTR [RBX]\n",
        "\tmov\tQWORD PTR [RBP - 32], RAX\n",
        "\tlea\tRAX, QWORD PTR [RBP - 40]\n",
        "\tmov\tQWORD PTR [RBX], RAX\n",
        "\txorps\tXMM0, XMM0\n",
        "\tmovups\tXMMWORD PTR [RBP - 24], XMM0\n",
        "\tcmp\tEDX, 1\n",
        "\tjne\t69\n",
        "\tlea\tRAX, QWORD PTR [RBP - 24]\n",
        "\tmov\tRCX, QWORD PTR [RSI]\n",
        "\tmovabs\tRDX, 140201083453024\n",
        "Source line: 2\n",
        "\tmov\tQWORD PTR [RBP - 24], RDX\n",
        "\tmov\tQWORD PTR [RBP - 16], RCX\n",
        "\tmovabs\tRCX, 4305231616\n",
        "\tmovabs\tRDI, 140200947332480\n",
        "\tmov\tRSI, RAX\n",
        "\tmov\tEDX, 2\n",
        "\tcall\tRCX\n",
        "\tmov\tRCX, QWORD PTR [RBP - 32]\n",
        "\tmov\tQWORD PTR [RBX], RCX\n",
        "\tadd\tRSP, 40\n",
        "\tpop\tRBX\n",
        "\tpop\tRBP\n",
        "\tret\n",
        "Source line: 2\n",
        "\tmovabs\tRAX, 4305249264\n",
        "\tmovabs\tRDI, 4345638928\n",
        "\tcall\tRAX\n"
       ]
      },
      {
       "output_type": "stream",
       "stream": "stderr",
       "text": [
        "Warning: Returned code may not match what actually runs.\n"
       ]
      }
     ],
     "prompt_number": 169
    },
    {
     "cell_type": "code",
     "collapsed": false,
     "input": [
      "#\u578b\u4ed8\u3051\u3089\u308c\u305f\u3053\u30fc\u3069\n",
      "code_typed(hello, (String,))"
     ],
     "language": "python",
     "metadata": {},
     "outputs": [
      {
       "metadata": {},
       "output_type": "pyout",
       "prompt_number": 170,
       "text": [
        "1-element Array{Any,1}:\n",
        " :($(Expr(:lambda, {:name}, {{},{{:name,String,0}},{}}, :(begin  # In[167], line 2:\n",
        "        return (top(string))(\"Hello, \",name::String)::Union(UTF8String,ASCIIString)\n",
        "    end::Union(UTF8String,ASCIIString)))))"
       ]
      }
     ],
     "prompt_number": 170
    },
    {
     "cell_type": "markdown",
     "metadata": {},
     "source": [
      "##\u30e1\u30bf\u30d7\u30ed\u30b0\u30e9\u30df\u30f3\u30b0\n",
      "____\n",
      "\u7c21\u5358\u306a\u30de\u30af\u30ed\u306e\u5b9a\u7fa9\u3068\u6a5f\u80fd\u3092\u8f09\u305b\u3066\u304a\u304d\u307e\u3059\u3002  \n",
      "\u30b3\u30fc\u30c9\u81ea\u4f53\u3092\u30aa\u30d6\u30b8\u30a7\u30af\u30c8\u3068\u3057\u3066\u6271\u3046\u3082\u306e\u3092,\u540c\u56f3\u50cf\u6027(Homoiconicity)\u547c\u3073\u307e\u3059\u3002  \n",
      "julia\u306e\u30de\u30af\u30ed\u306f\u3001Lisp\u3068\u540c\u3058\u3088\u3046\u306b\u62bd\u8c61\u69cb\u6587\u6728\u3092\u30ec\u30d9\u30eb\u3067\u64cd\u4f5c\u304c\u53ef\u80fd\u3067\u3059\u3002 "
     ]
    },
    {
     "cell_type": "code",
     "collapsed": false,
     "input": [
      "#\u307e\u305a\u6587\u5b57\u5217\u3092\u7528\u610f\u3057\u307e\u3059\n",
      "prog = \"1 + 1\""
     ],
     "language": "python",
     "metadata": {},
     "outputs": [
      {
       "metadata": {},
       "output_type": "pyout",
       "prompt_number": 171,
       "text": [
        "\"1 + 1\""
       ]
      }
     ],
     "prompt_number": 171
    },
    {
     "cell_type": "code",
     "collapsed": false,
     "input": [
      "#\u6587\u5b57\u5217\u578b\u3092 expression\u3000\u3068\u547c\u3070\u308c\u308b\u3001\u30aa\u30d6\u30b8\u30a7\u30af\u30c8\u306b\u3000\u30d1\u30fc\u30b9\u3000\u3057\u307e\u3059\u3002\n",
      "\n",
      "ex1 = parse(prog)"
     ],
     "language": "python",
     "metadata": {},
     "outputs": [
      {
       "metadata": {},
       "output_type": "pyout",
       "prompt_number": 172,
       "text": [
        ":(1 + 1)"
       ]
      }
     ],
     "prompt_number": 172
    },
    {
     "cell_type": "code",
     "collapsed": false,
     "input": [
      "#julia \u3067\u306f expression \u306f Expr \u578b\u3067\u8868\u305b\u3089\u308c\u307e\u3059\u3002\n",
      "typeof(ex1)"
     ],
     "language": "python",
     "metadata": {},
     "outputs": [
      {
       "metadata": {},
       "output_type": "pyout",
       "prompt_number": 173,
       "text": [
        "Expr"
       ]
      }
     ],
     "prompt_number": 173
    },
    {
     "cell_type": "code",
     "collapsed": false,
     "input": [
      "#(expression)\u304c\u6301\u3064\u8b58\u5225\u5b50\u3060\u3068\u601d\u3063\u3066\u304f\u3060\u3055\u3044.\n",
      "#:call\u306e\u4ed6\u306b\u3082\u3001:function :for :block :if ...\u306a\u3069\u69d8\u3005\u306a\u3082\u306e\u304c\u3042\u308a\u307e\u3059\u3002\n",
      "ex1.head\n"
     ],
     "language": "python",
     "metadata": {},
     "outputs": [
      {
       "metadata": {},
       "output_type": "pyout",
       "prompt_number": 174,
       "text": [
        ":call"
       ]
      }
     ],
     "prompt_number": 174
    },
    {
     "cell_type": "code",
     "collapsed": false,
     "input": [
      "#:call \u3084 ':'\u304c\u63a5\u982d\u3059\u308b\u3082\u306e\u306f,\u30b7\u30f3\u30dc\u30eb\u3068\u547c\u3070\u308c\u308b\u578b\u3092\u8868\u3057\u307e\u3059\n",
      "#\u30b7\u30f3\u30dc\u30eb\u306f\u4ee5\u4e0b\u306e\u3088\u3046\u306b\u5b9a\u7fa9\u3082\u3067\u304d\u307e\u3059\u3002\n",
      ":A"
     ],
     "language": "python",
     "metadata": {},
     "outputs": [
      {
       "metadata": {},
       "output_type": "pyout",
       "prompt_number": 175,
       "text": [
        ":A"
       ]
      }
     ],
     "prompt_number": 175
    },
    {
     "cell_type": "code",
     "collapsed": false,
     "input": [
      "#\u5185\u90e8\u306eargument\u306f,\u30b7\u30f3\u30dc\u30eb,expression \u307e\u305f\u306f\u30ea\u30c6\u30e9\u30eb\u3067\u3059\u3002\n",
      "ex1.args"
     ],
     "language": "python",
     "metadata": {},
     "outputs": [
      {
       "metadata": {},
       "output_type": "pyout",
       "prompt_number": 176,
       "text": [
        "3-element Array{Any,1}:\n",
        "  :+\n",
        " 1  \n",
        " 1  "
       ]
      }
     ],
     "prompt_number": 176
    },
    {
     "cell_type": "code",
     "collapsed": false,
     "input": [
      "#expression \u306f\u3000\u30b7\u30f3\u30dc\u30eb\u3068\u540c\u69d8\u306b\u3068\u5b9a\u7fa9\u3059\u308b\u3053\u3068\u3082\u3067\u304d\u307e\u3059\n",
      ":(a + b*c + 1)  ==\n",
      "parse(\"a + b*c + 1\") ==\n",
      "Expr(:call, :+, :a, Expr(:call, :*, :b, :c), 1)"
     ],
     "language": "python",
     "metadata": {},
     "outputs": [
      {
       "metadata": {},
       "output_type": "pyout",
       "prompt_number": 177,
       "text": [
        "true"
       ]
      }
     ],
     "prompt_number": 177
    },
    {
     "cell_type": "code",
     "collapsed": false,
     "input": [
      "#\u8907\u6570\u884c\u306b\u6e21\u308bExpr\u306e\u5b9a\u7fa9\u3067\u306fquoat\u3092\u7528\u3044\u307e\u3059\n",
      "ex5 = quote\n",
      "    x = 1\n",
      "    y = 2\n",
      "    x + y\n",
      "end"
     ],
     "language": "python",
     "metadata": {},
     "outputs": [
      {
       "metadata": {},
       "output_type": "pyout",
       "prompt_number": 178,
       "text": [
        "quote  # In[178], line 3:\n",
        "    x = 1 # line 4:\n",
        "    y = 2 # line 5:\n",
        "    x + y\n",
        "end"
       ]
      }
     ],
     "prompt_number": 178
    },
    {
     "cell_type": "code",
     "collapsed": false,
     "input": [
      "#dump \u95a2\u6570\u3092\u7528\u3044\u308b\u3068Expr\u306e\u5185\u5bb9\u304c\u4e00\u89a7\u3067\u304d\u307e\u3059\n",
      "dump(ex1)"
     ],
     "language": "python",
     "metadata": {},
     "outputs": [
      {
       "output_type": "stream",
       "stream": "stdout",
       "text": [
        "Expr "
       ]
      },
      {
       "output_type": "stream",
       "stream": "stdout",
       "text": [
        "\n",
        "  head: Symbol call\n",
        "  args: Array(Any,(3,))\n",
        "    1: Symbol +\n",
        "    2: Int64 1\n",
        "    3: Int64 1\n",
        "  typ: Any\n"
       ]
      }
     ],
     "prompt_number": 179
    },
    {
     "cell_type": "code",
     "collapsed": false,
     "input": [
      "#Expr\u304c\u30cd\u30b9\u3068\u3057\u3066\u3044\u308b\u5834\u5408\n",
      "ex4 = parse(\"(4 + 4) / 2\")\n",
      "dump(ex4)"
     ],
     "language": "python",
     "metadata": {},
     "outputs": [
      {
       "output_type": "stream",
       "stream": "stdout",
       "text": [
        "Expr \n",
        "  head: Symbol call\n",
        "  args: Array(Any,(3,))\n",
        "    1: Symbol /\n",
        "    2: Expr \n",
        "      head: Symbol call\n",
        "      args: Array(Any,(3,))\n",
        "        1: Symbol +\n",
        "        2: Int64 4\n",
        "        3: Int64 4\n",
        "      typ: Any\n",
        "    3: Int64 2\n",
        "  typ: Any\n"
       ]
      }
     ],
     "prompt_number": 180
    },
    {
     "cell_type": "code",
     "collapsed": false,
     "input": [
      "#Lisp\u304c\u597d\u304d\u306a\u4eba\u305f\u3081?\u306b S \u5f0f\u3067\u306e\u8868\u73fe\u3082\u30b5\u30dd\u30fc\u30c8\u3057\u3066\u3044\u307e\u3059\n",
      "Meta.show_sexpr(ex4)"
     ],
     "language": "python",
     "metadata": {},
     "outputs": [
      {
       "output_type": "stream",
       "stream": "stdout",
       "text": [
        "(:"
       ]
      },
      {
       "output_type": "stream",
       "stream": "stdout",
       "text": [
        "call, :/, (:call, :+, 4, 4), 2)"
       ]
      }
     ],
     "prompt_number": 181
    },
    {
     "cell_type": "markdown",
     "metadata": {},
     "source": [
      "##Interpoltation\n",
      "###Expression\u306e\u5185\u90e8\u3067,\u901a\u5e38\u306ejulia\u306e\u30b3\u30fc\u30c9\u3092\u51e6\u7406\u3057\u305f\u3044\u5834\u5408\u306e\u304a\u8a71\n",
      "\n",
      "###\u63a5\u982d\u8f9e\u3000`$`\u3000\u306b\u3088\u3063\u3066\u8868\u3057\u307e\u3059\u3002\n",
      "\n",
      "\u6587\u5b57\u5217\u306e\u6642\u3082\u540c\u69d8\u306b\u51e6\u7406\u3067\u304d\u307e\u3059\u3002"
     ]
    },
    {
     "cell_type": "code",
     "collapsed": false,
     "input": [
      "#exsample\n",
      "a = 1\n",
      "\n",
      "ex = :($a + b)"
     ],
     "language": "python",
     "metadata": {},
     "outputs": [
      {
       "metadata": {},
       "output_type": "pyout",
       "prompt_number": 182,
       "text": [
        ":(1 + b)"
       ]
      }
     ],
     "prompt_number": 182
    },
    {
     "cell_type": "code",
     "collapsed": false,
     "input": [
      "#eval \u95a2\u6570\u3092\u7528\u3044\u308b\u3068:Expr \u3092\u30b0\u30ed\u30fc\u30d0\u30eb\u30b9\u30b3\u30fc\u30d7\u3067\u5b9f\u884c\u3055\u308c\u307e\u3059\u3002\n",
      "eval(:(1 + 2))"
     ],
     "language": "python",
     "metadata": {},
     "outputs": [
      {
       "metadata": {},
       "output_type": "pyout",
       "prompt_number": 183,
       "text": [
        "3"
       ]
      }
     ],
     "prompt_number": 183
    },
    {
     "cell_type": "code",
     "collapsed": false,
     "input": [
      "eval(:(a + b))"
     ],
     "language": "python",
     "metadata": {},
     "outputs": [
      {
       "metadata": {},
       "output_type": "pyout",
       "prompt_number": 184,
       "text": [
        "3"
       ]
      }
     ],
     "prompt_number": 184
    },
    {
     "cell_type": "code",
     "collapsed": false,
     "input": [
      "a = 1; b = 2\n",
      "eval(:(a + b))"
     ],
     "language": "python",
     "metadata": {},
     "outputs": [
      {
       "metadata": {},
       "output_type": "pyout",
       "prompt_number": 185,
       "text": [
        "3"
       ]
      }
     ],
     "prompt_number": 185
    },
    {
     "cell_type": "code",
     "collapsed": false,
     "input": [
      "x"
     ],
     "language": "python",
     "metadata": {},
     "outputs": [
      {
       "metadata": {},
       "output_type": "pyout",
       "prompt_number": 186,
       "text": [
        "2-element Array{Int64,1}:\n",
        " -3\n",
        "  2"
       ]
      }
     ],
     "prompt_number": 186
    },
    {
     "cell_type": "code",
     "collapsed": false,
     "input": [
      "eval(:(x=1))"
     ],
     "language": "python",
     "metadata": {},
     "outputs": [
      {
       "metadata": {},
       "output_type": "pyout",
       "prompt_number": 187,
       "text": [
        "1"
       ]
      }
     ],
     "prompt_number": 187
    },
    {
     "cell_type": "code",
     "collapsed": false,
     "input": [
      "x \n",
      "#\u30b0\u30ed\u30fc\u30d0\u30eb\u30b9\u30b3\u30fc\u30d7\u3067\u5b9f\u884c\u3055\u308c\u307e\u3057\u305f!"
     ],
     "language": "python",
     "metadata": {},
     "outputs": [
      {
       "metadata": {},
       "output_type": "pyout",
       "prompt_number": 188,
       "text": [
        "1"
       ]
      }
     ],
     "prompt_number": 188
    },
    {
     "cell_type": "markdown",
     "metadata": {},
     "source": [
      "##\u30de\u30af\u30ed\n",
      "___\n",
      "\u30de\u30af\u30ed\u3092\u7528\u3044\u308b\u3053\u3068\u3067\u5b9f\u884c\u3092\u884c\u3046\u524d\u306b\u5f15\u6570\u306b\u5bfe\u3059\u308b\u69d8\u3005\u306a\u51e6\u7406\u3092\u3059\u308b\u3053\u3068\u304c\u3067\u304d\u307e\u3059\u3002"
     ]
    },
    {
     "cell_type": "code",
     "collapsed": false,
     "input": [
      "#\u30de\u30af\u30ed\u306e\u5185\u90e8\u3067\u306f \u5f15\u6570\u3000\u3092\u30b7\u30f3\u30dc\u30eb\u3068\u3057\u3066\u51e6\u7406\u3057\u307e\u3059\u3002\n",
      "macro test(x)\n",
      "    x.args\n",
      "end\n",
      "\n",
      "@test (println(\"x\"))"
     ],
     "language": "python",
     "metadata": {},
     "outputs": [
      {
       "metadata": {},
       "output_type": "pyout",
       "prompt_number": 189,
       "text": [
        "2-element Array{Any,1}:\n",
        " :println\n",
        " \"x\"     "
       ]
      }
     ],
     "prompt_number": 189
    },
    {
     "cell_type": "code",
     "collapsed": false,
     "input": [
      "#\u30de\u30af\u30ed\u304c\u3069\u306e\u3088\u3046\u306b\u5c55\u958b\u3055\u308c\u308b\u304b\u78ba\u8a8d\u3057\u305f\u3044\u5834\u5408\u306f\n",
      "macro say_hello(name)\n",
      "        return :( println(\"Hello, \", $name) )\n",
      "end\n",
      "\n",
      "#macroexpand\u95a2\u6570\u3092\u7528\u3044\u307e\u3059\u3002\n",
      "macroexpand(:(@say_hello(\"human\")))\n",
      "\n",
      "#\u30b3\u30fc\u30c9\u304c\u3061\u3083\u3093\u3068\u66f8\u304d\u63db\u308f\u3063\u3066\u307e\u3059"
     ],
     "language": "python",
     "metadata": {},
     "outputs": [
      {
       "metadata": {},
       "output_type": "pyout",
       "prompt_number": 190,
       "text": [
        ":(println(\"Hello, \",\"human\"))"
       ]
      }
     ],
     "prompt_number": 190
    },
    {
     "cell_type": "markdown",
     "metadata": {},
     "source": [
      "###\u306a\u305c\u30de\u30af\u30ed\u304c\u5fc5\u8981\u306a\u306e\u304b"
     ]
    },
    {
     "cell_type": "code",
     "collapsed": false,
     "input": [
      "function math_expr(op, op1, op2)\n",
      "    expr = Expr(:call, op, op1, op2)\n",
      "    return expr\n",
      "end\n",
      "ex = math_expr(:+, 1, Expr(:call, :*, 4, 5))"
     ],
     "language": "python",
     "metadata": {},
     "outputs": [
      {
       "metadata": {},
       "output_type": "pyout",
       "prompt_number": 191,
       "text": [
        ":(1 + 4 * 5)"
       ]
      }
     ],
     "prompt_number": 191
    },
    {
     "cell_type": "code",
     "collapsed": false,
     "input": [
      "eval(ex)"
     ],
     "language": "python",
     "metadata": {},
     "outputs": [
      {
       "metadata": {},
       "output_type": "pyout",
       "prompt_number": 192,
       "text": [
        "21"
       ]
      }
     ],
     "prompt_number": 192
    },
    {
     "cell_type": "markdown",
     "metadata": {},
     "source": [
      "#####\u4ee5\u4e0a\u306e\u3088\u3046\u306aExpresson\u3092\u5f15\u6570\u306b\u6301\u3061\u8fd4\u308a\u5024\u3082Expresson\u3067\u3042\u308b\u3088\u3046\u306a\u95a2\u6570\u3092\u5b9a\u7fa9\u3057\u3066\u3082\u3044\u3044\u306e\u3067\u306f\u306a\u3044\u304b\u3068\u7591\u554f\u304c\u3042\u308b\u304b\u3082\u3057\u308c\u306a\u3044\u3002"
     ]
    },
    {
     "cell_type": "code",
     "collapsed": false,
     "input": [
      "#ex\n",
      "macro twostep(arg)\n",
      "    println(\"I execute at parse time. The argument is: \", arg)\n",
      "\n",
      "    return :(println(\"I execute at runtime. The argument is: \", $arg))\n",
      "end\n",
      "\n",
      "ex = macroexpand( :(@twostep :(1, 2, 3)) );"
     ],
     "language": "python",
     "metadata": {},
     "outputs": [
      {
       "output_type": "stream",
       "stream": "stdout",
       "text": [
        "I execute at parse time. The argument is: :("
       ]
      },
      {
       "output_type": "stream",
       "stream": "stdout",
       "text": [
        "(1,2,3))\n"
       ]
      }
     ],
     "prompt_number": 193
    },
    {
     "cell_type": "markdown",
     "metadata": {},
     "source": [
      "#### julia\u306b\u304a\u3051\u308b\u30b3\u30fc\u30c9\u306e\u8a55\u4fa1  \n",
      "julia\u306b\u304a\u3051\u308b\u30b3\u30fc\u30c9\u8a55\u4fa1\u306f\u5927\u96d1\u628a\u306b\uff12\u7a2e\u985e\u306e\u6bb5\u968e\u3092\u8e0f\u3080,\u7b2c\u4e00\u6bb5\u968e\u3067\u306fraw\u30b3\u30fc\u30c9\u306e\u89e3\u6790(\u30d1\u30fc\u30b9)\u3092\u884c\u3046\u3001\u305d\u3057\u3066\u7b2c\u4e8c\u6bb5\u968e\u3067\u3001\u5b9f\u884c\u3092\u884c\u3046\u3002  \n",
      "\u30e1\u30bf\u30d7\u30ed\u30b0\u30e9\u30df\u30f3\u30b0\u3092\u4f7f\u3046\u3053\u3068\u3067\u3001\u7b2c\u4e00\u6bb5\u968e\u304c\u7d42\u308f\u3063\u305f\u6bb5\u968e\u306e\u30b3\u30fc\u30c9\u306b\u5bfe\u3057\u3066\u30b3\u30fc\u30c9\u306e\u5909\u63db\u30fb\u751f\u6210\u3092\u884c\u3046\u3053\u3068\u304c\u3067\u304f\u308b\u3002  \n",
      "\u305d\u308c\u306b\u3088\u308a\u3001\u30cd\u30a4\u30c6\u30a3\u30d6\u306ajulia\u306e\u30b3\u30fc\u30c9\u3068\u540c\u3058\u901f\u5ea6\u3067\u5b9f\u884c\u304c\u53ef\u80fd\u3068\u306a\u3063\u3066\u3044\u308b  \n",
      "\u305d\u306e\u305f\u3081\u306b\u3001\u30de\u30af\u30ed\u306f\u5fc5\u8981\u306a\u306e\u3060\u3002  \u305f\u3076\u3093"
     ]
    },
    {
     "cell_type": "code",
     "collapsed": false,
     "input": [
      "typeof(ex)"
     ],
     "language": "python",
     "metadata": {},
     "outputs": [
      {
       "metadata": {},
       "output_type": "pyout",
       "prompt_number": 194,
       "text": [
        "Expr"
       ]
      }
     ],
     "prompt_number": 194
    },
    {
     "cell_type": "code",
     "collapsed": false,
     "input": [
      "ex"
     ],
     "language": "python",
     "metadata": {},
     "outputs": [
      {
       "metadata": {},
       "output_type": "pyout",
       "prompt_number": 195,
       "text": [
        ":(println(\"I execute at runtime. The argument is: \",$(Expr(:copyast, :(:((1,2,3)))))))"
       ]
      }
     ],
     "prompt_number": 195
    },
    {
     "cell_type": "code",
     "collapsed": false,
     "input": [
      "eval(ex)"
     ],
     "language": "python",
     "metadata": {},
     "outputs": [
      {
       "output_type": "stream",
       "stream": "stdout",
       "text": [
        "I execute at runtime. The argument is: ("
       ]
      },
      {
       "output_type": "stream",
       "stream": "stdout",
       "text": [
        "1,2,3)\n"
       ]
      }
     ],
     "prompt_number": 196
    },
    {
     "cell_type": "code",
     "collapsed": false,
     "input": [
      "#macro\u306e\u4f8b\n",
      "macro assert(ex)\n",
      "    return :($ex ? nothing : error(\"Assertion failed: \", $(string(ex))))\n",
      "end"
     ],
     "language": "python",
     "metadata": {},
     "outputs": [],
     "prompt_number": 197
    },
    {
     "cell_type": "markdown",
     "metadata": {},
     "source": [
      "[(type-trait)](https://github.com/abeschneider/TypeTraits.jl)\u306f\u30de\u30af\u30ed\u306e\u4f7f\u3044\u65b9\u304c\u308f\u304b\u308a\u3084\u3059\u3044\u30b5\u30f3\u30d7\u30eb\u3067\u3059"
     ]
    },
    {
     "cell_type": "markdown",
     "metadata": {},
     "source": [
      "###\u30b3\u30fc\u30c9\u30b8\u30a7\u30cd\u30ec\u30fc\u30b7\u30e7\u30f3\n",
      "___\n",
      "\u4f3c\u305f\u3088\u3046\u306a\u30b3\u30fc\u30c9\u3092\u4f55\u5ea6\u3082\u66f8\u304f\u306e\u306f\u3081\u3093\u3069\u304f\u3055\u3044,\u3060\u3051\u3069\u3084\u3089\u306a\u304d\u3083\u306a\u3089\u306a\u3044\u6642  \n",
      "\u57fa\u672c\u7684\u306a\u3068\u3053\u308d\u306f\u4e0a\u8a18\u3068\u307b\u3068\u3093\u3069\u540c\u3058\u3067\u3059.\n",
      "\n",
      "\u56db\u5247\u6f14\u7b97\u306a\u3069\u3092\u4e00\u6c17\u306b\u5b9a\u7fa9\u3057\u307e\u3059\u3002"
     ]
    },
    {
     "cell_type": "code",
     "collapsed": false,
     "input": [
      "#\u30e1\u30bd\u30c3\u30c9\u304c\u4e0a\u66f8\u304d\u3055\u308c\u308b\u306e\u3067\u6c17\u3092\u3064\u3051\u3066\u4e0b\u3055\u3044\n",
      "for op = (:+, :*, :&, :|, :$)\n",
      "  eval(quote\n",
      "    ($op)(a,b,c) = ($op)(($op)(a,b),c)\n",
      "  end)\n",
      "end\n",
      "\n",
      "#\u3082\u3046\u5c11\u3057\u7c21\u7565\u5316\u3057\u3066\u66f8\u304f\u3068\n",
      "for op = (:+, :*, :&, :|, :$)\n",
      "  eval(:(($op)(a,b,c) = ($op)(($op)(a,b),c)))\n",
      "end\n",
      "\n",
      "#eval(quote(...))\u3092\u30de\u30af\u30ed\u3092\u3064\u304b\u3063\u3066\u8868\u73fe\u3059\u308b\u3068\n",
      "for op = (:+, :*, :&, :|, :$)\n",
      "  @eval ($op)(a,b,c) = ($op)(($op)(a,b),c)\n",
      "end"
     ],
     "language": "python",
     "metadata": {},
     "outputs": [],
     "prompt_number": 198
    },
    {
     "cell_type": "code",
     "collapsed": false,
     "input": [
      "#\u6700\u5f8c\u306b\u30b9\u30c8\u30ea\u30f3\u30b0\u30b9\u30bf\u30a4\u30d7\u306e\u30de\u30af\u30ed\u306b\u3064\u3044\u3066\u3067\u3059\u3002\n",
      "#\u5b9a\u7fa9\u306f macro <name>_str(x) ~ end\n",
      "\n",
      "macro \u2665\u203f\u2665_str(s)\n",
      "    \"I LOVE $(uppercase(s))\"\n",
      "end\n",
      "\n",
      "#\u547c\u3073\u51fa\u3057\u306f <name>\"\"\u3067\u3059\u3002\n",
      "\n",
      "\u2665\u203f\u2665\"Julia\"# I LOVE JULIA\n"
     ],
     "language": "python",
     "metadata": {},
     "outputs": [
      {
       "metadata": {},
       "output_type": "pyout",
       "prompt_number": 199,
       "text": [
        "\"I LOVE JULIA\""
       ]
      }
     ],
     "prompt_number": 199
    },
    {
     "cell_type": "markdown",
     "metadata": {},
     "source": [
      "[\u3053\u3053](http://iaindunning.com/2014/julia-unicode.html)\u3092\u53c2\u8003\u306b\u3057\u307e\u3057\u305f"
     ]
    },
    {
     "cell_type": "markdown",
     "metadata": {
      "slideshow": {
       "slide_type": "slide"
      }
     },
     "source": [
      "##IO\n",
      "___\n",
      "open  \n",
      "read  \n",
      "write  \n",
      "\n",
      "\u306a\u3069\u3001\u4e00\u822c\u7684\u306a\u51fa\u5165\u529b\u3092\u5099\u3048\u3066\u3044\u307e\u3059\u3002\n",
      "\n",
      "_____\n",
      "\n",
      "[\u3053\u3053](http://julia.readthedocs.org/en/latest/manual/networking-and-streams/)\u304c\u8a73\u3057\u3044\u3067\u3059\u3002\n",
      "\n",
      "###R\u306e\u30c7\u30fc\u30bf\u30d5\u30ec\u30fc\u30e0\u306b\u4f3c\u305f\u30e9\u30a4\u30d6\u30e9\u30ea\u3068\u3057\u3066  \n",
      "### DataFrames \u304c\u3042\u308a\u307e\u3059\u3002  \n",
      "\u51fa\u5165\u529b\u306f\u3053\u308c\u3092\u4f7f\u3046\u3068\u4fbf\u5229\u3067\u3059\u3002  \n",
      "\u4ed6\u306b\u3082,\u97f3\u58f0\u3001\u753b\u50cf\u306a\u3069\u30c7\u30fc\u30bf\u3092\u6271\u3046\u305f\u3081\u306e\u30e9\u30a4\u30d6\u30e9\u30ea\u304c\u3042\u308a\u307e\u3059\u3002  \n",
      "\u4e00\u756a\u6700\u5f8c\u306b\u307e\u3068\u3081\u3066\u3042\u308b\u306e\u3067\u3002  \n",
      "\u6687\u306a\u3089\u898b\u3066\u307f\u3066\u304f\u3060\u3055\u3044\u3002  \n",
      "___\n",
      "####\u3044\u308d\u3044\u308d\u306a\u5165\u529b\u95a2\u6570\n"
     ]
    },
    {
     "cell_type": "code",
     "collapsed": false,
     "input": [
      "\n",
      "#CSV\u30d5\u30a1\u30a4\u30eb\u306e\u8aad\u307f\u8fbc\u307f\n",
      "readcsv\n",
      "\n",
      "#\u30d5\u30a1\u30a4\u30eb\u3092\u5168\u3066\u8aad\n",
      "readall\n",
      "\n",
      "#\u4e00\u884c\u3065\u3064\u8aad\u5b50\n",
      "readline\n",
      "\n",
      "#\u6539\u884c\u3092\u524a\u9664\u3057\u3066\u8aad\u307f\u8fbc\u307f\u307e\u3059\n",
      "readchomp\n"
     ],
     "language": "python",
     "metadata": {},
     "outputs": [
      {
       "metadata": {},
       "output_type": "pyout",
       "prompt_number": 200,
       "text": [
        "readchomp (generic function with 1 method)"
       ]
      }
     ],
     "prompt_number": 200
    },
    {
     "cell_type": "code",
     "collapsed": false,
     "input": [
      "#  cd\u306e\u30d5\u30a1\u30a4\u30eb\u30d5\u30a9\u30eb\u30c0\u540d\u3092Arrai{String}\u3067\u8fd4\u3057\u307e\u3059.  \u985e ls \n",
      "readdir()\n",
      "#  cd\u306e\u30d1\u30b9\u3092\u304b\u3048\u3057\u307e\u3059\u3002\n",
      "pwd()"
     ],
     "language": "python",
     "metadata": {},
     "outputs": [
      {
       "metadata": {},
       "output_type": "pyout",
       "prompt_number": 201,
       "text": [
        "\"/Users/Yuki\""
       ]
      }
     ],
     "prompt_number": 201
    },
    {
     "cell_type": "markdown",
     "metadata": {},
     "source": [
      "###do\u69cb\u6587\u3092\u4f7f\u3063\u305fI/O\u51e6\u7406"
     ]
    },
    {
     "cell_type": "code",
     "collapsed": false,
     "input": [
      "data = \"\u3053\u3093\u306b\u3061\u306f\"\n",
      "#\u81ea\u52d5\u7684\u306b\u30af\u30ed\u30fc\u30ba\u3057\u307e\u3059\n",
      "open(\"outfile\", \"w\") do io\n",
      "    write(io, data)\n",
      "end"
     ],
     "language": "python",
     "metadata": {},
     "outputs": [
      {
       "metadata": {},
       "output_type": "pyout",
       "prompt_number": 202,
       "text": [
        "15"
       ]
      }
     ],
     "prompt_number": 202
    },
    {
     "cell_type": "code",
     "collapsed": false,
     "input": [
      "#=\u4e0a\u8a18\u306eopen\u306f\u4ee5\u4e0b\u306b\u3088\u3063\u3066\u5b9a\u7fa9\u3055\u308c\u3066\u3044\u307e\u3059\u3002\n",
      "function open(f::Function, args...)\n",
      "    io = open(args...)\n",
      "    try\n",
      "        f(io)\n",
      "    finally\n",
      "        close(io)\n",
      "    end\n",
      "end\n",
      "=#\n",
      "#do\u69cb\u6587\u306f\u697d\n",
      "\n",
      "data = readall(\"outfile\")"
     ],
     "language": "python",
     "metadata": {},
     "outputs": [
      {
       "metadata": {},
       "output_type": "pyout",
       "prompt_number": 203,
       "text": [
        "\"\u3053\u3093\u306b\u3061\u306f\""
       ]
      }
     ],
     "prompt_number": 203
    },
    {
     "cell_type": "markdown",
     "metadata": {
      "slideshow": {
       "slide_type": "slide"
      }
     },
     "source": [
      "##\u30e2\u30b8\u30e5\u30fc\u30eb\n",
      "___\n",
      "   python\u3068\u306f\u9055\u3044\u3001module ~ end\u3000\u306b\u3088\u308a\u5b9a\u7fa9\u3055\u308c\u308b\u3002  \n",
      "   \u305f\u3057\u304b,python\u306f\u30d5\u30a1\u30a4\u30eb\u5358\u4f4d\u3060\u3063\u305f\u3068\u601d\u3044\u307e\u3059\u3002\n",
      "        \n",
      " * julia\u8d77\u52d5\u6642\u306b\u8aad\u307f\u8fbc\u307e\u308c\u308b\u3001\u57fa\u672c\u7684\u306b\u306a\u3001\u30e2\u30b8\u30e5\u30fc\u30eb\u306f  \n",
      " \n",
      "   **Base  **   \n",
      "   **Core  **  \n",
      "   **Main  **  \n",
      "   \n",
      "\u3067\u3059\u3002\n",
      "\n",
      "**Main**\u30e2\u30b8\u30e5\u30fc\u30eb\u304c\u30ef\u30fc\u30af\u30b9\u30da\u30fc\u30b9\u306b\u306a\u308a\u307e\u3059\u3002\n",
      "___\n",
      "\n",
      "\u524d\u306b\u4f5c\u3063\u305f\u30cb\u30e5\u30fc\u30e9\u30eb\u30cd\u30c3\u30c8\u30ef\u30fc\u30af\u306e\u30e9\u30a4\u30d6\u30e9\u30ea\u306e\u30e2\u30b8\u30e5\u30fc\u30eb\u5b9a\u7fa9\n",
      "\n"
     ]
    },
    {
     "cell_type": "code",
     "collapsed": false,
     "input": [
      "module Neural\n",
      "#\u30e2\u30b8\u30e5\u30fc\u30eb\u304c\u547c\u3070\u308c\u305f\u6642\u306b\u3001Main\u3078\u5c55\u958b\u3057\u3066\u6b32\u3057\u3044\u3082\u306e\u3092,export \u4ee5\u4e0b\u306b\u66f8\u304f\n",
      "    export Model, ANN, QNN, LQNN, quasi_newton_method, sgd, nesterov, l_bfgsNN,\n",
      "            preprocess, predict, gradient, getWeights\n",
      "#\u30cb\u30e5\u30fc\u30e9\u30eb\u30cd\u30c3\u30c8\u306e\u30e2\u30b8\u30e5\u30fc\u30eb\u306b\u30e1\u30bd\u30c3\u30c9\u3092\u5c55\u958b\u3059\u308b\n",
      "    import Base.show  \n",
      "    \n",
      "#\u30e9\u30a4\u30d6\u30e9\u30ea\u3092Main\u30e2\u30b8\u30e5\u30fc\u30eb\u306b\u5c55\u958b\u3059\u308b\n",
      "    using NumericExtensions\n",
      "\n",
      "#=require\u30d5\u30a1\u30a4\u30eb\u3092 Main\u3067\u5c55\u958b\n",
      "\u3000include\u30d5\u30a1\u30a4\u30eb\u3092 \u3053\u306eModule\u5185\u3067\u5c55\u958b=#\n",
      "\n",
      "    #\u30af\u30e9\u30b9\u5b9a\u7fa9\n",
      "    include(\"base.jl\")\n",
      "    #\u30a2\u30af\u30bb\u30b5\u30fb\u30b2\u30c3\u30bf\n",
      "    include(\"ann_weight.jl\")\n",
      "    #\u30d0\u30c3\u30af\u30fb\u30d5\u30a9\u30ef\u30fc\u30c9\u30d7\u30ed\u30d1\u30b2\u30fc\u30b7\u30e7\u30f3\n",
      "    include(\"bfprop.jl\")\n",
      "    #\u78ba\u7387\u7684\u52fe\u914d\u964d\u4e0b\u6cd5\n",
      "    include(\"sgd_methods.jl\")\n",
      "    #\u30e9\u30a4\u30f3\u30b5\u30fc\u30c1\n",
      "    include(\"linesearch.jl\")\n",
      "    #\u30e9\u30a4\u30f3\u30b5\u30fc\u30c1\u30e6\u30fc\u30c6\u30a3\u30ea\u30c6\u30a3\n",
      "    include(\"linesearch_utils.jl\")\n",
      "    #\u6e96\u30cb\u30e5\u30fc\u30c8\u30f3\u6cd5(\u5b9a\u6570\u5b9a\u7fa9\u3042\u308a)\n",
      "    include(\"quasi_methods.jl\")\n",
      "    #L\u2212BFGS\n",
      "    include(\"l_BFGS.jl\")\n",
      "    #Nesterov\n",
      "    include(\"nesterov.jl\")\n",
      "    #\u30e6\u30fc\u30c6\u30a3\u30ea\u30c6\u30a3\n",
      "    include(\"utils.jl\")\n",
      "\n",
      "#ModuleEnd\n",
      "end\n",
      "\n",
      "#\u3053\u306e\u3088\u3046\u306a\u611f\u3058\u3067\u30e9\u30a4\u30d6\u30e9\u30ea\u304c\u66f8\u304b\u308c\u3066\u3044\u308b\u5834\u5408\u304c\u591a\u3044\u3067\u3059"
     ],
     "language": "python",
     "metadata": {},
     "outputs": [
      {
       "output_type": "stream",
       "stream": "stderr",
       "text": [
        "Warning: replacing module Neural\n"
       ]
      },
      {
       "ename": "LoadError",
       "evalue": "NumericExtensions not found\nwhile loading In[204], in expression starting on line 9",
       "output_type": "pyerr",
       "traceback": [
        "NumericExtensions not found\nwhile loading In[204], in expression starting on line 9",
        "",
        " in require at loading.jl:47"
       ]
      }
     ],
     "prompt_number": 204
    },
    {
     "cell_type": "markdown",
     "metadata": {
      "slideshow": {
       "slide_type": "slide"
      }
     },
     "source": [
      "##\u3061\u3087\u3063\u3068\u5909\u308f\u3063\u305f\u578b\u30b7\u30b9\u30c6\u30e0\n",
      "____\n",
      "\n",
      "julia\u306e\u578b(\u30af\u30e9\u30b9)\u30b7\u30b9\u30c6\u30e0\u306f\u3001\u591a\u91cd\u30c7\u30a3\u30b9\u30d1\u30c3\u30c1\u3068\u547c\u3070\u308c\u308b\u3082\u306e\u3092\u5229\u7528\u3057(\u591a\u614b\u6027)\u8868\u3057\u3066\u3044\u307e\u3059\u3002 \n",
      "  \n",
      "python\u3067\u306f\u3001\u30af\u30e9\u30b9(\u578b\uff09\u306b\u30e1\u30bd\u30c3\u30c9(\u95a2\u6570)\u304c\u5c5e\u3057\u3066\u3044\u307e\u3057\u305f\u304c \u3002  \n",
      "julia\u3067\u306f\u3001\u95a2\u6570(\u30e1\u30bd\u30c3\u30c9)\u306b\u578b(\u30af\u30e9\u30b9)\u304c\u5c5e\u3057\u307e\u3059\u3002\n",
      "  \n",
      "\u5177\u4f53\u7684\u306b\u306f\u3001\u95a2\u6570\u306e\u5f15\u6570\u306e\u578b\u306b\u3088\u3063\u3066\u3001\u95a2\u6570\u306e\u6319\u52d5\u304c\u5909\u5316\u3057\u307e\u3059\u3002  \n",
      "\n",
      "\n",
      "\u95a2\u6570\u306e\u30aa\u30fc\u30d0\u30fc\u30ed\u30fc\u30c9\u3001\u306b\u8fd1\u3044\u5f62\u3082\u306e\u3092\u60f3\u50cf\u3057\u3066\u304f\u3060\u3055\u3044\u3067\u3059\u3002"
     ]
    },
    {
     "cell_type": "markdown",
     "metadata": {
      "slideshow": {
       "slide_type": "slide"
      }
     },
     "source": [
      "##\u578b\n",
      "____\n",
      "\n",
      "\u578b\u306f\u3001\u5927\u304d\u304f\u5206\u3051\u308b\u3068\n",
      "* \u62bd\u8c61\u578b  \n",
      "* \u5177\u8c61\u578b  \n",
      "\n",
      "\u306b\u5206\u3051\u308b\u3053\u3068\u304c\u3067\u304d\u307e\u3059\u3002\n",
      "\n",
      "* \u62bd\u8c61\u578b\u306f\u3001\u5909\u6570\u3092\u6301\u3064\u3053\u3068\u304c\u3067\u304d\u307e\u305b\u3093!!!\n",
      "\u3055\u3089\u306b\u3001\u30a4\u30f3\u30b9\u30bf\u30f3\u30b9\u3082\u751f\u6210\u3067\u304d\u307e\u305b\u3093\u3002  \n",
      "* \u5177\u8c61\u578b\u306f\u3000\u7d99\u627f\u3067\u304d\u307e\u305b\u3093!!\n",
      "\n",
      "\u5f93\u3063\u3066\u3001**\u79fb\u8b72(Delegation)**\u3092\u4f7f\u3044\u7d99\u627f\u95a2\u4fc2\u3092\u69cb\u7bc9\u3059\u308b\u3053\u3068\u3082\u3067\u304d\u307e\u3059\u3002\n",
      "\n",
      "\u3069\u3046\u3057\u3066\u3082\u4f7f\u3044\u305f\u3044\u5834\u5408\u306f\u3001trait-mixin \u30de\u30af\u30ed\u306a\u3069\u3092\u4f5c\u3063\u305f\u308a\u3059\u308b\u3053\u3068\u3082\u3067\u304d\u307e\u3059\u3002\n",
      "____\n"
     ]
    },
    {
     "cell_type": "markdown",
     "metadata": {
      "slideshow": {
       "slide_type": "slide"
      }
     },
     "source": [
      "####\u30af\u30a9\u30fc\u30bf\u30cb\u30aa\u30f3\u3092\u5b9a\u7fa9\u3057\u3066\u307f\u3088\u3046!!"
     ]
    },
    {
     "cell_type": "code",
     "collapsed": false,
     "input": [
      "#=\u306f\u8907\u6570\u884c\u30b3\u30e1\u30f3\u30c8\u30a2\u30a6\u30c8=#\n",
      "\n",
      "#=\n",
      "\u62bd\u8c61\u578b\u306e\u5b9a\u7fa9\n",
      "abstract Number\n",
      "abstract Real     <: Number\n",
      "abstract FloatingPoint <: Real\n",
      "abstract Integer  <: Real\n",
      "abstract Signed   <: Integer\n",
      "abstract Unsigned <: Integer\n",
      "=#\n",
      "\n",
      "#\u5177\u8c61\u578b\u306e\u5b9a\u7fa9\n",
      "# T \u306f\u30d1\u30e9\u30e1\u30c8\u30ea\u30c3\u30af\u30bf\u30a4\u30d7(\u578b) \u30fb\u3053\u306e\u5834\u5408 Real \u4ee5\u4e0b\u306e\u4efb\u610f\u306e\u540c\u4e00\u306e\u578b\u3092\u53d6\u308b\u3002\n",
      "# <:Number\u306f\u578b\u306e\u89aa\u5b50\u95a2\u4fc2\u3092\u793a\u3059\u3002\n",
      "type Quaternion{T<:Real} <:Number\n",
      "    x::T\n",
      "    y::T\n",
      "    z::T\n",
      "    w::T\n",
      "    #\u5185\u90e8\u306b\u3082\u30b3\u30f3\u30b9\u30c8\u30e9\u30af\u30bf(\u578b\u3068\u540c\u4e00\u540d\u306e\u95a2\u6570)\u3092\u5b9a\u7fa9\u3067\u304d\u307e\u3059\u3002\u8a73\u3057\u304f\u306f \u516c\u5f0f\u30b5\u30a4\u30c8\u3067\u78ba\u8a8d\u3057\u3066\u304f\u3060\u3055\u3044\u3002\n",
      "end\n",
      "#\u5916\u90e8\u30b3\u30f3\u30b9\u30c8\u30e9\u30af\u30bf\u3067\u521d\u671f\u5024\u306a\u3069\u3092\u5b9a\u7fa9\u3067\u304d\u308b\u3002\n",
      "Quaternion() = Quaternion(0,0,0,0)\n",
      "\n",
      "#\u5177\u8c61\u578b\u306f\u4ed6\u306b\u3082\u3001\u4e0d\u5909\u578b\u306e immutable \u304c\u3042\u308a\u307e\u3059\u3002\n",
      "\n",
      "+(q1::Quaternion, q2::Quaternion) = Quaternion(q1.x + q2.x, q1.y + q2.y, q1.z + q2.z, q1.w + q2.w)\n",
      "-(q1::Quaternion, q2::Quaternion) = Quaternion(q1.x - q2.x, q1.y - q2.y, q1.z - q2.z, q1.w - q2.w)\n",
      "*(q1::Quaternion, q2::Quaternion) = Quaternion(q1.w * q2.w - q1.x * q2.x - q1.y * q2.y - q1.z * q2.z,\n",
      "                                               q1.y * q2.z - q1.z * q2.y + q1.w * q2.x + q1.x * q2.w,\n",
      "                                               q1.z * q2.x - q1.x * q2.z + q1.w * q2.y + q1.y * q2.w,\n",
      "                                               q1.x * q2.y - q1.y * q2.x + q1.w * q2.z + q1.z * q2.w)\n",
      "*(q1::Quaternion, r::Real) = Quaternion(q1.x*r, q1.y*r, q1.z*r, q1.w*r)\n",
      "*(r::Real, q1::Quaternion) = *(q1,r)"
     ],
     "language": "python",
     "metadata": {},
     "outputs": [
      {
       "ename": "LoadError",
       "evalue": "invalid redefinition of constant Quaternion\nwhile loading In[205], in expression starting on line 16",
       "output_type": "pyerr",
       "traceback": [
        "invalid redefinition of constant Quaternion\nwhile loading In[205], in expression starting on line 16",
        ""
       ]
      }
     ],
     "prompt_number": 205
    },
    {
     "cell_type": "code",
     "collapsed": false,
     "input": [
      "#\u30b3\u30f3\u30b9\u30c8\u30e9\u30af\u30bf new \u306f\u3044\u308a\u307e\u305b\u3093\n",
      "q1, q2 = Quaternion(1,2,3,4), Quaternion(5,6,7,8)\n",
      "\n",
      "q1 * q2"
     ],
     "language": "python",
     "metadata": {},
     "outputs": [
      {
       "metadata": {},
       "output_type": "pyout",
       "prompt_number": 206,
       "text": [
        "Quaternion{Int64}(-6,24,48,48)"
       ]
      }
     ],
     "prompt_number": 206
    },
    {
     "cell_type": "code",
     "collapsed": false,
     "input": [
      "super(Int64)"
     ],
     "language": "python",
     "metadata": {},
     "outputs": [
      {
       "metadata": {},
       "output_type": "pyout",
       "prompt_number": 207,
       "text": [
        "Signed"
       ]
      }
     ],
     "prompt_number": 207
    },
    {
     "cell_type": "code",
     "collapsed": false,
     "input": [
      "#Any\u578b\u5168\u3066\u306e\u578b\u306fAny\u578b\u306e\u5b50\u30af\u30e9\u30b9\n",
      "subtypes(Any)"
     ],
     "language": "python",
     "metadata": {},
     "outputs": [
      {
       "metadata": {},
       "output_type": "pyout",
       "prompt_number": 208,
       "text": [
        "242-element Array{Any,1}:\n",
        " AbstractAlphaColorValue{C<:ColorValue{T},T<:Real}                           \n",
        " AbstractArray{T,N}                                                          \n",
        " AbstractCmd                                                                 \n",
        " AbstractHeap{VT}                                                            \n",
        " AbstractHistogram{T<:Real,N,E}                                              \n",
        " AbstractPDMat                                                               \n",
        " AbstractREPL                                                                \n",
        " AbstractRNG                                                                 \n",
        " AbstractSemiToken                                                           \n",
        " AbstractTime                                                                \n",
        " Accumulator{T,V<:Number}                                                    \n",
        " Algorithm                                                                   \n",
        " Any                                                                         \n",
        " \u22ee                                                                           \n",
        " VonMisesFisherSampler                                                       \n",
        " WeakRef                                                                     \n",
        " WeightVec{W,Vec<:AbstractArray{T<:Real,1}}                                  \n",
        " Worker                                                                      \n",
        " ZeroOffsetVector                                                            \n",
        " ZeroVector{T}                                                               \n",
        " Zip2{I1,I2}                                                                 \n",
        " Zip{I<:(Any...,)}                                                           \n",
        " c_CholmodDense{T<:Union(Complex{Float64},Float64)}                          \n",
        " c_CholmodFactor{Tv<:Union(Complex{Float64},Float64),Ti<:Union(Int32,Int64)} \n",
        " c_CholmodSparse{Tv<:Union(Complex{Float64},Float64),Ti<:Union(Int32,Int64)} \n",
        " c_CholmodTriplet{Tv<:Union(Complex{Float64},Float64),Ti<:Union(Int32,Int64)}"
       ]
      }
     ],
     "prompt_number": 208
    },
    {
     "cell_type": "markdown",
     "metadata": {},
     "source": [
      "##Conversion and Promotion \n",
      "____\n",
      "julia\u3067\u306f\u4e0a\u4f4d\u578b\u3078\u306e\u6697\u9ed9\u7684\u306a\u578b\u30ad\u30e3\u30b9\u30c8\u306f\u884c\u3044\u307e\u305b\u3093\u3002  \n",
      "\u306a\u306e\u3067\u3001\u578b\u304c\u9069\u7528\u3067\u304d\u306a\u304b\u3063\u305f\u5834\u5408\u306b\u660e\u793a\u7684\u306b\u578b\u5909\u63db\u3092\u884c\u3046\u95a2\u6570promote\u3068\u305d\u308c\u306b\u95a2\u9023\u3057\u305fconvert\u95a2\u6570\u304c\u5fc5\u8981\u306b\u306a\u3063\u3066\u304d\u307e\u3059\u3002\n",
      "____\n",
      "\n",
      "\n",
      "* Promotion   \u4e0a\u4f4d\u306e\u578b\u3078\u306e\u5909\u63db ->\n",
      "        promote_rule\u95a2\u6570\u306b\u3088\u3063\u3066\u578b\u306e\u5909\u63db\u95a2\u4fc2\u304c\u5b9a\u7fa9\u3055\u308c\u3066\u3044\u307e\u3059\u3002\n",
      "        promote_type\u95a2\u6570\u304cpromote_rule\u306b\u57fa\u3065\u304f\u578b\u306e\u5909\u63db\u3092\u884c\u3063\u3066\u3044\u307e\u3059\u3002\n",
      "* Conversion  \n",
      "        convert \u95a2\u6570 promote \u95a2\u6570\u304c\u578b\u5909\u63db\u3092\u884c\u3046\u3068\u304d\u306b\u7528\u3044\u308b\u95a2\u6570\u3002\n",
      "        \u578b\u5909\u63db\u306e\u5b9a\u7fa9\u3092\u884c\u3046\u5834\u5408\u306f convert \u95a2\u6570\u306b\u5b9a\u7fa9\u3057\u3066\u304f\u3060\u3055\u3044\u3002"
     ]
    },
    {
     "cell_type": "code",
     "collapsed": false,
     "input": [
      "#convert\u95a2\u6570\u306f\u4e00\u822c\u7684\u306b\u4e8c\u3064\u306e\u5f15\u6570\u3092\u53d6\u308a\u307e\u3059\u3002\u7b2c\u4e00\u5f15\u6570\u306b\u76ee\u7684\u306e\u578b,\u7b2c\u4e8c\u5f15\u6570\u306b\u5909\u63db\u3057\u305f\u3044\u5024\u3067\u5b9a\u7fa9\u3057\u3066\u304f\u3060\u3055\u3044\u3002\n",
      "#\u51fa\u529b\u306f\u5909\u63db\u5f8c\u3055\u308c\u305f\u65b9\u306e\u30a4\u30f3\u30b9\u30bf\u30f3\u30b92\u3057\u3066\u304f\u3060\u3055\u3044\u3002\n",
      "\n",
      "convert(::Type{Bool}, x::Number) = (x!=0)\n",
      "#\u7b2c\u4e00\u5f15\u6570\u306f\u30b7\u30f3\u30b0\u30eb\u30c8\u30f3\u578b\u3068\u547c\u3070\u308c\u308b\u3082\u306e\u3067\u3059\u3002\u578b\u305d\u308c\u81ea\u4f53\u306e\u3053\u3068\u3067\u3059\u3002e.g.(Int, Float64...)\n",
      "#\u7b2c\u4e00\u5f15\u6570\u306b\u5909\u6570\u304c\u5b9a\u7fa9\u3055\u308c\u3066\u3044\u306a\u3044\u306e\u306f\u95a2\u6570\u672c\u4f53\u3067\u306f\u7528\u3044\u306a\u3044\u304b\u3089\u3067\u3059\u3002"
     ],
     "language": "python",
     "metadata": {},
     "outputs": [
      {
       "metadata": {},
       "output_type": "pyout",
       "prompt_number": 209,
       "text": [
        "convert (generic function with 2 methods)"
       ]
      }
     ],
     "prompt_number": 209
    },
    {
     "cell_type": "code",
     "collapsed": false,
     "input": [
      "convert(Bool, 1)"
     ],
     "language": "python",
     "metadata": {},
     "outputs": [
      {
       "metadata": {},
       "output_type": "pyout",
       "prompt_number": 210,
       "text": [
        "true"
       ]
      }
     ],
     "prompt_number": 210
    },
    {
     "cell_type": "code",
     "collapsed": false,
     "input": [
      "convert(Bool,1im)"
     ],
     "language": "python",
     "metadata": {},
     "outputs": [
      {
       "metadata": {},
       "output_type": "pyout",
       "prompt_number": 211,
       "text": [
        "true"
       ]
      }
     ],
     "prompt_number": 211
    },
    {
     "cell_type": "code",
     "collapsed": false,
     "input": [
      "#Promotion\u306e\u5b9a\u7fa9\u306e\u4ed5\u65b9\u3002\n",
      "promote_rule(::Type{Float64}, ::Type{Float32} ) = Float64\n",
      "#\u306a\u3069\u306e\u3088\u3046\u306b\u5b9a\u7fa9\u3057\u3066\u304f\u3060\u3055\u3044\u3002"
     ],
     "language": "python",
     "metadata": {},
     "outputs": [
      {
       "metadata": {},
       "output_type": "pyout",
       "prompt_number": 212,
       "text": [
        "promote_rule (generic function with 1 method)"
       ]
      }
     ],
     "prompt_number": 212
    },
    {
     "cell_type": "code",
     "collapsed": false,
     "input": [
      "promote_type(Uint64,Float32)\n"
     ],
     "language": "python",
     "metadata": {},
     "outputs": [
      {
       "metadata": {},
       "output_type": "pyout",
       "prompt_number": 229,
       "text": [
        "Float32"
       ]
      }
     ],
     "prompt_number": 229
    },
    {
     "cell_type": "markdown",
     "metadata": {},
     "source": [
      "[CaseStudy](http://docs.julialang.org/en/release-0.3/manual/conversion-and-promotion/#case-study-rational-conversions)\u3082\u3046\u5c11\u3057\u306b\u8a73\u3057\u304f\u66f8\u304b\u308c\u3066\u3044\u307e\u3059\u3002\n",
      "\n",
      "\n",
      "\u3055\u3089\u306b\u8a73\u3057\u304f\u77e5\u308a\u305f\u3044\u5834\u5408\u306f\u3001\u4ee5\u4e0b\u306e\u8cc7\u6599\u304c\u30aa\u30b9\u30b9\u30e1\u3067\u3059\u3002  \n",
      "julia\u306e\u30b3\u30a2\u958b\u767a\u8005\u306e@StefanKarpinski\u3055\u3093\u306e\u66f8\u304b\u308c\u305f\u591a\u91cd\u30c7\u30a3\u30b9\u30d1\u30c3\u30c1\u306e[\u8cc7\u6599](http://nbviewer.ipython.org/gist/StefanKarpinski/b8fe9dbb36c1427b9f22)\u306f\u7d20\u6674\u3089\u3057\u3044\u3067\u3059\u3002  \n",
      "julia\u306e\u591a\u91cd\u30c7\u30a3\u30b9\u30d1\u30c3\u30c1\u306e\u65e5\u672c\u8a9e\u3067\u66f8\u304b\u308c\u305f\u8cc7\u6599\u306f[\u3053\u3053](http://dsng.hatenablog.com/entry/2014/01/27/173154)\u3067\u3059\u3002  \n",
      "\u4e0a\u8a18\u3092\u53c2\u8003\u8cc7\u6599\u306b\u3057\u3066\u3044\u308b\u306e\u3067\u308f\u304b\u308a\u3084\u3059\u3044\u3067\u3059\u3002"
     ]
    },
    {
     "cell_type": "markdown",
     "metadata": {
      "slideshow": {
       "slide_type": "slide"
      }
     },
     "source": [
      "##\u914d\u5217\u30fb\u591a\u6b21\u5143\u914d\u5217\n",
      "____\n",
      "\n",
      "\u591a\u6b21\u5143\u914d\u5217\u306f, Array(\u578b,(\u6b21\u5143))\u306b\u3088\u3063\u3066\u5b9a\u7fa9\u3055\u308c\u3066\u3044\u307e\u3059\u3002\n",
      "\n",
      "\u914d\u5217\u306e\u30a4\u30f3\u30c7\u30c3\u30af\u30b9\u306f\u3000**A[\u884c,\u5217]**\u3000\u3067\u6307\u5b9a\u3057\u307e\u3059\u3002\n",
      "\n",
      "for \u30eb\u30fc\u30d7\u306a\u3069\u306b\u5229\u7528\u3059\u308b\u969b\u306f\u3001\u5217\u65b9\u5411\u306b\u30a4\u30f3\u30c7\u30c3\u30af\u30b9\u304c\u4ed8\u3044\u3066\u3044\u307e\u3059\u3002\n",
      "___\n",
      "\n",
      "##\u5bc6\u884c\u5217\u3000\u3000\n",
      "* Array(type, dims...)    \n",
      "    **\u521d\u671f\u5316\u3055\u308c\u3066\u3044\u306a\u3044\u914d\u5217  **\n",
      "* cell(type, dims...)  \n",
      "    **\u521d\u671f\u5316\u3055\u308c\u3066\u3044\u306a\u3044\u30bb\u30eb\u914d\u5217  **\n",
      "* zeros(type, dims...)  \n",
      "    **\uff10\u914d\u5217  **\n",
      "* ones(type, dims...)  \n",
      "    **\uff11\u914d\u5217  **\n",
      "* eye(type, dims)  \n",
      "    **\u5358\u4f4d\u884c\u5217  **\n",
      "* [1:2:10]  \n",
      "    **1\u304b\u30892\u3065\u3064\uff11\uff10\u307e\u3067**\n",
      "\n",
      "##\u758e\u884c\u5217\n",
      "\n",
      "* sparse(Array)  \n",
      "    **\u5bc6\u884c\u5217**\u3092\u758e\u884c\u5217\u306b  \n",
      "\n",
      "* spzeros(type,dims...)  \n",
      "    \u758e\u306a\u96f6\u884c\u5217  \n",
      "etc  \n",
      "\n",
      "\n",
      "[\u3053\u3053](http://julia.readthedocs.org/en/latest/manual/arrays/)\u304c\u8a73\u3057\u3044!"
     ]
    },
    {
     "cell_type": "code",
     "collapsed": false,
     "input": [
      "#\u521d\u671f\u5316\u3055\u308c\u3066\u3044\u306a\u3044\u914d\u5217\n",
      "A = Array(Int,2,3)\n",
      "B = [100:-3:1]"
     ],
     "language": "python",
     "metadata": {},
     "outputs": [
      {
       "metadata": {},
       "output_type": "pyout",
       "prompt_number": 214,
       "text": [
        "34-element Array{Int64,1}:\n",
        " 100\n",
        "  97\n",
        "  94\n",
        "  91\n",
        "  88\n",
        "  85\n",
        "  82\n",
        "  79\n",
        "  76\n",
        "  73\n",
        "  70\n",
        "  67\n",
        "  64\n",
        "   \u22ee\n",
        "  34\n",
        "  31\n",
        "  28\n",
        "  25\n",
        "  22\n",
        "  19\n",
        "  16\n",
        "  13\n",
        "  10\n",
        "   7\n",
        "   4\n",
        "   1"
       ]
      }
     ],
     "prompt_number": 214
    },
    {
     "cell_type": "code",
     "collapsed": false,
     "input": [
      "B = cell(10,2)"
     ],
     "language": "python",
     "metadata": {},
     "outputs": [
      {
       "metadata": {},
       "output_type": "pyout",
       "prompt_number": 215,
       "text": [
        "10x2 Array{Any,2}:\n",
        " #undef  #undef\n",
        " #undef  #undef\n",
        " #undef  #undef\n",
        " #undef  #undef\n",
        " #undef  #undef\n",
        " #undef  #undef\n",
        " #undef  #undef\n",
        " #undef  #undef\n",
        " #undef  #undef\n",
        " #undef  #undef"
       ]
      }
     ],
     "prompt_number": 215
    },
    {
     "cell_type": "code",
     "collapsed": false,
     "input": [
      "B[1,2] = rand(10)\n",
      "B"
     ],
     "language": "python",
     "metadata": {},
     "outputs": [
      {
       "metadata": {},
       "output_type": "pyout",
       "prompt_number": 216,
       "text": [
        "10x2 Array{Any,2}:\n",
        " #undef  \u2026     [0.305698,0.456267,0.52117,0.453771,0.439261,0.678238,0.67171,0.522741,0.219992,0.897698]\n",
        " #undef     #undef                                                                                      \n",
        " #undef     #undef                                                                                      \n",
        " #undef     #undef                                                                                      \n",
        " #undef     #undef                                                                                      \n",
        " #undef  \u2026  #undef                                                                                      \n",
        " #undef     #undef                                                                                      \n",
        " #undef     #undef                                                                                      \n",
        " #undef     #undef                                                                                      \n",
        " #undef     #undef                                                                                      "
       ]
      }
     ],
     "prompt_number": 216
    },
    {
     "cell_type": "code",
     "collapsed": false,
     "input": [
      "C = Array(Array{Int64,2},10,3)"
     ],
     "language": "python",
     "metadata": {},
     "outputs": [
      {
       "metadata": {},
       "output_type": "pyout",
       "prompt_number": 217,
       "text": [
        "10x3 Array{Array{Int64,2},2}:\n",
        " #undef  #undef  #undef\n",
        " #undef  #undef  #undef\n",
        " #undef  #undef  #undef\n",
        " #undef  #undef  #undef\n",
        " #undef  #undef  #undef\n",
        " #undef  #undef  #undef\n",
        " #undef  #undef  #undef\n",
        " #undef  #undef  #undef\n",
        " #undef  #undef  #undef\n",
        " #undef  #undef  #undef"
       ]
      }
     ],
     "prompt_number": 217
    },
    {
     "cell_type": "code",
     "collapsed": false,
     "input": [
      "C[3,1] = rand(10)\n",
      "#julia\u3067\u306f\u578b\u306f\u660e\u793a\u7684\u306b\u30b3\u30f3\u30d0\u30fc\u30c8\u3057\u306a\u304f\u3066\u306f\u3044\u3051\u307e\u305b\u3093\u3002\n",
      "#\u578b\u304c\u7570\u306a\u308a\u3001\u30a8\u30e9\u30fc\u304c\u51fa\u307e\u3059\u3002"
     ],
     "language": "python",
     "metadata": {},
     "outputs": [
      {
       "ename": "LoadError",
       "evalue": "`convert` has no method matching convert(::Type{Array{Int64,2}}, ::Array{Float64,1})\nwhile loading In[218], in expression starting on line 1",
       "output_type": "pyerr",
       "traceback": [
        "`convert` has no method matching convert(::Type{Array{Int64,2}}, ::Array{Float64,1})\nwhile loading In[218], in expression starting on line 1",
        "",
        " in setindex! at array.jl:308"
       ]
      }
     ],
     "prompt_number": 218
    },
    {
     "cell_type": "markdown",
     "metadata": {
      "slideshow": {
       "slide_type": "slide"
      }
     },
     "source": [
      "##\u8f9e\u66f8(\u30cf\u30c3\u30b7\u30e5)\n",
      "___\n",
      "\n",
      "#### \u30fb Dict{K,V}(zip(key::Array{K}, value::Array{V}))  \n",
      "\n",
      "  \n",
      "#### \u30fb [key => value]  \n"
     ]
    },
    {
     "cell_type": "code",
     "collapsed": false,
     "input": [
      "Dict(zip(['a':'z'], [1:26]))"
     ],
     "language": "python",
     "metadata": {},
     "outputs": [
      {
       "metadata": {},
       "output_type": "pyout",
       "prompt_number": 219,
       "text": [
        "Dict{Char,Int64} with 26 entries:\n",
        "  'd' => 4\n",
        "  'y' => 25\n",
        "  'b' => 2\n",
        "  'e' => 5\n",
        "  'r' => 18\n",
        "  'm' => 13\n",
        "  'k' => 11\n",
        "  'z' => 26\n",
        "  'f' => 6\n",
        "  'h' => 8\n",
        "  'w' => 23\n",
        "  'g' => 7\n",
        "  't' => 20\n",
        "  'n' => 14\n",
        "  'v' => 22\n",
        "  'o' => 15\n",
        "  'x' => 24\n",
        "  'u' => 21\n",
        "  'c' => 3\n",
        "  'p' => 16\n",
        "  'q' => 17\n",
        "  'a' => 1\n",
        "  'l' => 12\n",
        "  'j' => 10\n",
        "  'i' => 9\n",
        "  \u22ee   => \u22ee"
       ]
      }
     ],
     "prompt_number": 219
    },
    {
     "cell_type": "markdown",
     "metadata": {
      "slideshow": {
       "slide_type": "slide"
      }
     },
     "source": [
      "###\u4e71\u6570\uff08\u30d1\u30c3\u30b1\u30fc\u30b8\u306e\u5229\u7528)\n",
      "____\n",
      "\n",
      "\u57fa\u672c\u7684\u306a\u4e71\u6570\u95a2\u6570\u306f,\n",
      "rand,randn,randperm\n",
      "______\n",
      "\u4e71\u6570\u767a\u751f\u306b\u306f\u5916\u90e8\u30e9\u30a4\u30d6\u30e9\u30ea\u306e **Distributions**\u3000\u304c\u3088\u304f\u7528\u3044\u3089\u308c\u3066\u3044\u307e\u3059\u3002\n",
      "\n",
      "\u30d1\u30c3\u30b1\u30fc\u30b8\u7ba1\u7406\u306f\u3001REPL\u3067\u884c\u3048\u307e\u3059\u3002  \n",
      "* \u30d1\u30c3\u30b1\u30fc\u30b8\u306e\u8ffd\u52a0  \n",
      "Pkg.add(\"\u30d1\u30c3\u30b1\u30fc\u30b8\u540d\")  \n",
      "Pkg.clone(\"git-hub\u306eURL\") \n",
      "\n",
      "\n",
      "* build\u304c\u5fc5\u8981\u306b\u306a\u308b\u5834\u5408  \n",
      "Pkg.build(\"\u30d1\u30b1\u30fc\u30b8\u540d\")  \n",
      "\n",
      "\n",
      "* julia\u3092\u518d\u30a4\u30f3\u30b9\u30c8\u30fc\u30eb\u3057\u305f\u6642\u306a\u3069\u3092\u5fa9\u5143\u3067\u304d\u307e\u3059  \n",
      "Pkg.build()\n",
      "\n",
      "\n",
      "* \u30d1\u30c3\u30b1\u30fc\u30b8\u306e\u524a\u9664  \n",
      "Pkg.rm(\"\u30d1\u30c3\u30b1\u30fc\u30b8\u540d\")\n",
      "\n",
      "etc "
     ]
    },
    {
     "cell_type": "code",
     "collapsed": false,
     "input": [
      "#\u30d1\u30c3\u30b1\u30fc\u30b8\u306e\u5229\u7528\n",
      "using Distributions\n",
      "\n",
      "\n",
      "#=\u30e2\u30b8\u30e5\u30fc\u30eb\u304b\u3089,export \u3055\u308c\u305f\u95a2\u6570\u3084\u578b\u306a\u3069\u304c\u3001Main \u30e2\u30b8\u30e5\u30fc\u30eb\u3067\u5c55\u958b\u3055\u308c\u307e\u3059\u3002\n",
      "julia\u306e\u4e3b\u306a\u30e2\u30b8\u30e5\u30fc\u30eb\u306f,Main, Core, Base \u3067\u3059\u3002\n",
      "=#\n",
      "\n",
      "\n",
      "#\u3057\u30fc\u3069(\u3081\u308b\u305b\u3093\u306c\u3064\u3044\u3059\u305f\u306e\uff09\n",
      "srand()\n",
      "\n",
      "\n",
      "#\u4e71\u6570(0<= x <= 1)\u3000\n",
      "B = rand(2,3) # 2*3 \u306e\u30e9\u30f3\u30c0\u30e0\u884c\u5217\n",
      "\n",
      "\n",
      "#\u6a19\u6e96\u6b63\u898f\u5206\u5e03\u304b\u3089\n",
      "C = randn(3,2)\n",
      "\n",
      "\n",
      "# Dirichlet\u5206\u5e03\u304b\u3089\n",
      "D = rand(Dirichlet([1/3,1/6,1/2]),10)\n"
     ],
     "language": "python",
     "metadata": {},
     "outputs": [
      {
       "ename": "LoadError",
       "evalue": "`srand` has no method matching srand()\nwhile loading In[220], in expression starting on line 11",
       "output_type": "pyerr",
       "traceback": [
        "`srand` has no method matching srand()\nwhile loading In[220], in expression starting on line 11",
        ""
       ]
      }
     ],
     "prompt_number": 220
    },
    {
     "cell_type": "markdown",
     "metadata": {},
     "source": [
      "##\u5916\u90e8\u30e9\u30a4\u30d6\u30e9\u30ea"
     ]
    },
    {
     "cell_type": "code",
     "collapsed": false,
     "input": [
      "julia libraly \u304a\u3059\u3059\u3081100\u9078\n",
      "\u30a4\u30f3\u30bf\u30fc\u30d5\u30a7\u30fc\u30b9\n",
      "  vim  \n",
      "  Emacs\n",
      "  LightTble\n",
      "  JuliaStudio\n",
      "  IJulia.etc\n",
      "\n",
      "\u30c7\u30fc\u30bf\u95a2\u9023\n",
      "  MNist\n",
      "    MNist\n",
      "  R\u6a19\u6e96\u30c7\u30fc\u30bf\n",
      "    RDatasets\n",
      "  \u7d4c\u6e08\u30c7\u30fc\u30bf\n",
      "    EconDatasets\n",
      "    MarketData\n",
      "    Quandl\n",
      "    WorldBankData\n",
      "  Twitter\n",
      "    Twitter\n",
      "  Yepl\n",
      "    Yepl\n",
      "\n",
      "\u30c7\u30fc\u30bf\u30d9\u30fc\u30b9\n",
      "  Key-Value\n",
      "    Redis\n",
      "  \u30e1\u30bf\u30e9\u30a4\u30d6\u30e9\u30ea\n",
      "    ODBC\n",
      "\n",
      "IO/\u304b\u3093\u308c\u3093\n",
      "\n",
      "  \u97f3\u97ff\n",
      "\tAudioIO\n",
      "    WAV\n",
      "  \u753b\u50cf\n",
      "    Images\n",
      "    OpenCV::\u8981Cxx\u001c",
      "\n",
      "  \u52d5\u753b\n",
      "    VideoIO\n",
      "  \u6642\u7cfb\u5217\u30c7\u30fc\u30bf\n",
      "    TimeSeries\n",
      "  csv\n",
      "\tDataFrames\n",
      "    Pandas\n",
      "  YAML\n",
      "    YAML\n",
      "  HDF5\n",
      "    HDF5\n",
      "  FASTA::DNA\n",
      "    FASTA\n",
      "  FITS::\u753b\u50cf\n",
      "    FISTIO\n",
      "    NIfTI\n",
      "    WCSLIB\n",
      "  \u30d0\u30a4\u30ca\u30ea\u30d5\u30a1\u30a4\u30eb\n",
      "    StrPack\n",
      "  \u5730\u56f3\u30c7\u30fc\u30bf\n",
      "    OpenStreetMap\n",
      "\n",
      "  RobotOS\n",
      "\n",
      "\n",
      "\u8a08\u7b97\u95a2\u9023::JuliaStats\n",
      "  \u6c4e\u7528\u8a08\u7b97\u30e9\u30a4\u30d6\u30e9\u30ea\n",
      "    StatsBase\n",
      "    NumericExtentions  logsumexp\n",
      "    NumericFuns\n",
      "  \u81ea\u52d5\u5fae\u5206\n",
      "    AutoDiff\n",
      "  \u5fae\u7a4d\u5206\n",
      "    \u6a19\u6e96\u3067\u30ac\u30a6\u30b9\uff1d\u30af\u30ed\u30f3\u30ed\u30c3\u30c9\u9069\u5fdc\u6c42\u7a4d\u3042\u308a\n",
      "    Calculus\n",
      "  \u6a5f\u68b0\u5b66\u7fd2\u95a2\u9023\n",
      "    MLBase\n",
      "  \u4e71\u6570(\u78ba\u7387\u5206\u5e03\u30fb\u5bc6\u5ea6\u95a2\u6570.etc)\n",
      "    Distributions\n",
      "  \u6b63\u5b9a\u5024\u884c\u5217\n",
      "    PDMats\n",
      "  \u30e9\u30f3\u30c0\u30e0\u884c\u5217\n",
      "    RandomMatrices\n",
      "\n",
      "\u30c7\u30fc\u30bf\u51e6\u7406\n",
      "  \u30c6\u30ad\u30b9\u30c8\n",
      "    TextAnalysis\n",
      "  \u65e5\u672c\u8a9e\u524d\u51e6\u7406\n",
      "    MeCab\n",
      "  \u9023\u7d9a\u30c7\u30fc\u30bf(\u30a6\u30a7\u30fc\u30d6\u30ec\u30c3\u30c8\u5909\u63db)\n",
      "    Wavelets\n",
      "  \u97f3\u97ff\n",
      "    WORLD\n",
      "\n",
      "\u5206\u6790\u30c4\u30fc\u30eb\u30ad\u30c3\u30c8\n",
      "  YT\n",
      "\n",
      "\u6a5f\u68b0\u5b66\u7fd2\n",
      "  DeepLearning\u95a2\u9023\n",
      "    Boltzmann Machine | DBN\n",
      "\n",
      "  CNN\n",
      "    Mocha\n",
      "\n",
      "  \u30b5\u30f3\u30d7\u30ea\u30f3\u30b0\n",
      "    Lora\n",
      "    Manba\n",
      "    Stan\n",
      "\n",
      "  \u975e\u8ca0\u5024\u884c\u5217\u5206\u89e3\n",
      "    NMF(pLSI)\n",
      "  \u30b3\u30f3\u30c7\u30a3\u30b7\u30e7\u30ca\u308b\u30e9\u30f3\u30c0\u30e0\u30d5\u30a3\u30fc\u30eb\u30c9\n",
      "    CRF\n",
      "  \u591a\u69d8\u4f53\u5b66\u7fd2\n",
      "    ManiforldLearnig\n",
      "  \u30ab\u30fc\u30cd\u30eb\u6cd5\n",
      "    KernelDensityEstimaition\n",
      "    Libsvm\n",
      "    SVM\n",
      "  \u6df7\u5408\u30e2\u30c7\u30eb\n",
      "    MixturModels\n",
      "  \u30d6\u30fc\u30b9\u30c6\u30a3\u30f3\u30b0\n",
      "    XGBoost\n",
      "\n",
      "  \u30d9\u30a4\u30b8\u30a2\u30f3\u30cd\u30c3\u30c8\u30ef\u30fc\u30af(\u30b0\u30e9\u30d5\u30a3\u30ab\u30eb\u30e2\u30c7\u30eb)\n",
      "    PGM\n",
      "    BayesNet\n",
      "\n",
      "  \u30a2\u30f3\u30b5\u30f3\u30d6\u30eb\u5b66\u7fd2\n",
      "    Orchestra\n",
      "  \u7d4c\u9a13\u30ea\u30b9\u30af\u6700\u5c0f\u5316\n",
      "    RegERMs\n",
      "  \u8fd1\u508d\u6cd5\n",
      "    FLANN\n",
      "  \u6642\u7cfb\u5217\u30e2\u30c7\u30eb\n",
      "    TimeModel\n",
      "  \u30c8\u30d4\u30c3\u30af\u30e2\u30c7\u30eb\n",
      "    TopicModels\n",
      "\n",
      "  \u306a\u3093\u3060\u3053\u308c\n",
      "    DirichletProssesMixtur\n",
      "    Stochy\n",
      "\n",
      "\u6700\u9069\u5316\u8a08\u7b97\n",
      "  \u9032\u5316\u8a08\u7b97\n",
      "    Evolution\n",
      "    Phylogenetics\n",
      "  \u6700\u9069\u5316\n",
      "    NLopt\n",
      "  \u6700\u9069\u5316\u30e1\u30bf\u30e9\u30a4\u30d6\u30e9\u30ea\n",
      "    Jump\n",
      "  \u6c42\u6839\u30a2\u30eb\u30b4\u30ea\u30ba\u30e0\n",
      "    Roots\n",
      "  \u534a\u6b63\u5b9a\u5024\u8a08\u753b\u554f\u984c\n",
      "    SemidefiniteProgramming\n",
      "\n",
      "\n",
      "plot\u95a2\u9023\n",
      "  Gadfly\n",
      "    \u30a2\u30cb\u30e1\u30fc\u30b7\u30e7\u30f3\n",
      "      Reel\n",
      "\n",
      "  PyPlot\n",
      "  TextPlot\n",
      "  Winston\n",
      "  GR\n",
      "\n",
      "  \u30b0\u30e9\u30d5\n",
      "    GlaphLayout\n",
      "    GlaphVis\n",
      "  \u30dc\u30ed\u30ce\u30a4\u56f3\n",
      "    VoronoiDelaunary\n",
      "\n",
      "\n",
      "Foreign Function Interface (FFI) \n",
      "  Python\n",
      "    PyCall\n",
      "  C\n",
      "    \u6a19\u6e96\u30e9\u30a4\u30d6\u30e9\u30ea\n",
      "  C++\n",
      "    Cxx\n",
      "  Java\n",
      "    JavaCall\n",
      "  R\n",
      "    RCall\n",
      "  OpenCL\n",
      "    OpenCL\n",
      "\n",
      "\u305d\u306e\u4ed6\n",
      "  \u30e1\u30e2\u5316\n",
      "    Memoise\n",
      "  \u4ee3\u6570\n",
      "    Quaternion\n",
      "    DualNumber\n",
      "    HyperDualNumber\n",
      "  \u7dda\u5f62\u4ee3\u6570 (\u7279\u6b8a\u306a\u884c\u5217)\n",
      "    SpechalMatrices\n",
      "  \u30c1\u30a7\u30c3\u30af\n",
      "    QuickCheck\n",
      "  \u95a2\u6570\u30ea\u30a2\u30af\u30c6\u30a3\u30d6\n",
      "    Reactive\n",
      "  \u6697\u53f7\u5316\n",
      "    Sodium\n",
      "  \u30c6\u30f3\u30bd\u30eb\u30aa\u30da\u30ec\u30fc\u30b7\u30e7\u30f3\n",
      "    TensorOperations\n",
      "  \u975e\u7dda\u5f62\u529b\u5b66\u7cfb\n",
      "    CauseMap\n",
      "  \u30d7\u30ed\u30b0\u30e9\u30df\u30f3\u30b0\u8a00\u8a9e\u95a2\u9023\n",
      "    ValueDispatch\n",
      "  \u6570\u5024\u306e\u59a5\u5f53\u6027(0.99999... = 1?)\n",
      "    ValidatedNumerics\n",
      "  \u9078\u6319\u30b9\u30ad\u30fc\u30e0\uff1f\n",
      "    Voting\n",
      "\n",
      "GPU\n",
      "juliaGPU\n"
     ],
     "language": "python",
     "metadata": {},
     "outputs": [
      {
       "ename": "LoadError",
       "evalue": "syntax: extra token \"libraly\" after end of expression\nwhile loading In[221], in expression starting on line 1",
       "output_type": "pyerr",
       "traceback": [
        "syntax: extra token \"libraly\" after end of expression\nwhile loading In[221], in expression starting on line 1",
        ""
       ]
      }
     ],
     "prompt_number": 221
    }
   ],
   "metadata": {}
  }
 ]
}