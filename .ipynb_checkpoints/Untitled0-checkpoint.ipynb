{
 "metadata": {
  "name": "",
  "signature": "sha256:7604d622a97b03f5a20c92988b6a84c0fe7c0fbca0fa1623a6de95380e8109ff"
 },
 "nbformat": 3,
 "nbformat_minor": 0,
 "worksheets": []
}